{
 "cells": [
  {
   "cell_type": "markdown",
   "metadata": {},
   "source": [
    "# ENVIRONMENT"
   ]
  },
  {
   "cell_type": "code",
   "execution_count": 1,
   "metadata": {},
   "outputs": [
    {
     "name": "stderr",
     "output_type": "stream",
     "text": [
      "/usr/local/anaconda3/lib/python3.7/site-packages/sklearn/ensemble/weight_boosting.py:29: DeprecationWarning: numpy.core.umath_tests is an internal NumPy module and should not be imported. It will be removed in a future NumPy release.\n",
      "  from numpy.core.umath_tests import inner1d\n"
     ]
    }
   ],
   "source": [
    "import os\n",
    "import acquire\n",
    "import pandas as pd\n",
    "import numpy as np\n",
    "\n",
    "# for visualization\n",
    "%matplotlib inline\n",
    "import matplotlib.pyplot as plt\n",
    "import seaborn as sns\n",
    "\n",
    "# for feature selection\n",
    "import xgboost as xgb\n",
    "\n",
    "from sklearn.model_selection import train_test_split\n",
    "from sklearn.linear_model import LogisticRegression\n",
    "from sklearn.metrics import classification_report\n",
    "from sklearn.metrics import confusion_matrix\n",
    "from sklearn.tree import DecisionTreeClassifier\n",
    "from sklearn.ensemble import RandomForestClassifier\n",
    "from sklearn import tree\n",
    "\n",
    "# conda install -c glemaitre imbalanced-learn\n",
    "from imblearn.ensemble import BalancedBaggingClassifier"
   ]
  },
  {
   "cell_type": "markdown",
   "metadata": {},
   "source": [
    "# ACQUISITION"
   ]
  },
  {
   "cell_type": "code",
   "execution_count": 2,
   "metadata": {},
   "outputs": [],
   "source": [
    "df1 = acquire.read_data('data01.csv')\n",
    "df2 = acquire.read_data('data02.csv')\n",
    "df3 = acquire.read_data('data03.csv')\n",
    "df4 = acquire.read_data('data04.csv')\n",
    "df5 = acquire.read_data('data05.csv')\n",
    "df7 = acquire.read_data('data07.csv')"
   ]
  },
  {
   "cell_type": "code",
   "execution_count": 3,
   "metadata": {},
   "outputs": [],
   "source": [
    "# Specify columns to take from dataframes 1, 2, 3, 4, 5, and 7:\n",
    "\n",
    "one_cols = ['CASEID',\n",
    "            'ABUSED',\n",
    "            'SCRSTATR',\n",
    "            'LENGTHC1',\n",
    "            'C1SITUAT',\n",
    "            'PABUSE',\n",
    "             ]\n",
    "\n",
    "two_cols = ['CASEID',\n",
    "            'D3RCHILT',\n",
    "           ]\n",
    "\n",
    "three_cols = ['CASEID',\n",
    "              'E13PRGNT',\n",
    "              'N7PREGNT',\n",
    "              'TOTSUPRT'\n",
    "             ]\n",
    "\n",
    "four_cols = ['CASEID',\n",
    "             'G1NUMBER', \n",
    "             'H1JEALUS', \n",
    "             'H2LIMIT',\n",
    "             'H3KNOWNG',\n",
    "             'J1HIT',\n",
    "             'J2THROWN',\n",
    "             'J3PUSH',\n",
    "             'J4SLAP',\n",
    "             'J5KICK',\n",
    "             'J6OBJECT',\n",
    "             'J7BEAT',\n",
    "             'J8CHOKE',\n",
    "             'J9KNIFE',\n",
    "             'J10GUN',\n",
    "             'J11SEX',\n",
    "             'POWER',\n",
    "             'HARASS',\n",
    "            ]\n",
    "\n",
    "five_cols = ['CASEID', \n",
    "             'B1AGE',\n",
    "             'AGEDISP',\n",
    "             'STDETAI',\n",
    "            ]\n",
    "\n",
    "seven_cols = ['CASEID',\n",
    "              'SAMESEXR',\n",
    "              'N11DRUGS',\n",
    "              'N12ALCHL',\n",
    "              'N13SUHIM',\n",
    "              'N16CHILD',\n",
    "              'N17ARRST',\n",
    "              'N1FRQNCY',\n",
    "              'N2SVRITY',\n",
    "              'N3WEAPON',\n",
    "              'N4CHOKE',\n",
    "              'N5SEX',\n",
    "              'N6CONTRL',\n",
    "              'N8JEALUS',\n",
    "              'N10CPBLE',\n",
    "             ]"
   ]
  },
  {
   "cell_type": "code",
   "execution_count": 4,
   "metadata": {},
   "outputs": [],
   "source": [
    "# drop dataframes down to desired features\n",
    "df1 = df1[one_cols]\n",
    "df2 = df2[two_cols]\n",
    "df3 = df3[three_cols]\n",
    "df4 = df4[four_cols]\n",
    "df5 = df5[five_cols]\n",
    "df7 = df7[seven_cols]"
   ]
  },
  {
   "cell_type": "code",
   "execution_count": 5,
   "metadata": {},
   "outputs": [
    {
     "name": "stdout",
     "output_type": "stream",
     "text": [
      "(705, 6)\n",
      "(705, 2)\n",
      "(705, 4)\n",
      "(705, 18)\n",
      "(705, 4)\n",
      "(705, 15)\n"
     ]
    }
   ],
   "source": [
    "print(df1.shape)\n",
    "print(df2.shape)\n",
    "print(df3.shape)\n",
    "print(df4.shape)\n",
    "print(df5.shape)\n",
    "print(df7.shape)"
   ]
  },
  {
   "cell_type": "code",
   "execution_count": 6,
   "metadata": {},
   "outputs": [],
   "source": [
    "dfa = df1.merge(right=df2, on='CASEID')\n",
    "dfa = dfa.merge(right=df3, on='CASEID')\n",
    "dfa = dfa.merge(right=df4, on='CASEID')\n",
    "dfa = dfa.merge(right=df5, on='CASEID')\n",
    "dfa = dfa.merge(right=df7, on='CASEID')"
   ]
  },
  {
   "cell_type": "code",
   "execution_count": 7,
   "metadata": {},
   "outputs": [
    {
     "data": {
      "text/plain": [
       "(705, 44)"
      ]
     },
     "execution_count": 7,
     "metadata": {},
     "output_type": "execute_result"
    }
   ],
   "source": [
    "dfa.shape"
   ]
  },
  {
   "cell_type": "code",
   "execution_count": 8,
   "metadata": {},
   "outputs": [],
   "source": [
    "df6 = acquire.read_data('data06.csv')\n",
    "# df8 = acquire.read_data('data08.csv') # NO USEFUL COLUMNS\n",
    "df11 = acquire.read_data('data11.csv')\n",
    "# df12 = acquire.read_data('data12.csv') # NO USEFUL COLUMNS"
   ]
  },
  {
   "cell_type": "code",
   "execution_count": 9,
   "metadata": {},
   "outputs": [],
   "source": [
    "# Specify columns to take from dataframes 6, 8, 11, and 12:\n",
    "\n",
    "\n",
    "six_cols = ['CASEID',\n",
    "            'M5FIRED',\n",
    "            'M11HIGH',\n",
    "            'M35SAFE',\n",
    "            'M41ILLGL',\n",
    "            'M42DAGRR',\n",
    "            'M13TALKR',\n",
    "            'M32OTHER',\n",
    "            'M27HOW',\n",
    "            'M30ARRES',\n",
    "            'M31HOW',\n",
    "            'M38ORDER',\n",
    "           ]\n",
    "\n",
    "eleven_cols = ['CASEID',\n",
    "               'SEVERER',\n",
    "               'TOTINCR',\n",
    "               'THREATR',\n",
    "               'SLAPR',\n",
    "               'PUNCHR',\n",
    "               'BEATR',\n",
    "               'UWEAPON',\n",
    "               'FORCEDR',\n",
    "               'MISCARR',\n",
    "               'RESTRAIN',\n",
    "               'CHOKED',\n",
    "               'NDRUNK',\n",
    "               'RDRUNK',\n",
    "               'BOTHDRUN',\n",
    "               'NDRUGS',\n",
    "               'RDRUGS',\n",
    "               'BOTHDRUG',\n",
    "              ]\n"
   ]
  },
  {
   "cell_type": "code",
   "execution_count": 10,
   "metadata": {},
   "outputs": [],
   "source": [
    "# drop dataframes down to desired features\n",
    "df6 = df6[six_cols]\n",
    "df11 = df11[eleven_cols]"
   ]
  },
  {
   "cell_type": "code",
   "execution_count": 11,
   "metadata": {},
   "outputs": [
    {
     "name": "stdout",
     "output_type": "stream",
     "text": [
      "(497, 12)\n",
      "(497, 18)\n"
     ]
    }
   ],
   "source": [
    "print(df6.shape)\n",
    "print(df11.shape)"
   ]
  },
  {
   "cell_type": "code",
   "execution_count": 12,
   "metadata": {},
   "outputs": [],
   "source": [
    "dfb = df6.merge(right=df11, on='CASEID')"
   ]
  },
  {
   "cell_type": "code",
   "execution_count": 13,
   "metadata": {},
   "outputs": [
    {
     "data": {
      "text/plain": [
       "(497, 29)"
      ]
     },
     "execution_count": 13,
     "metadata": {},
     "output_type": "execute_result"
    }
   ],
   "source": [
    "dfb.shape"
   ]
  },
  {
   "cell_type": "code",
   "execution_count": null,
   "metadata": {},
   "outputs": [],
   "source": []
  },
  {
   "cell_type": "code",
   "execution_count": 14,
   "metadata": {},
   "outputs": [],
   "source": [
    "df9 = acquire.read_data('data09.csv')\n",
    "df10 = acquire.read_data('data10.csv')\n",
    "df13 = acquire.read_data('data13.csv')\n",
    "\n",
    "df14 = acquire.read_data('data14.csv')\n",
    "df15 = acquire.read_data('data15.csv')"
   ]
  },
  {
   "cell_type": "code",
   "execution_count": null,
   "metadata": {},
   "outputs": [],
   "source": []
  },
  {
   "cell_type": "code",
   "execution_count": null,
   "metadata": {},
   "outputs": [],
   "source": []
  },
  {
   "cell_type": "code",
   "execution_count": null,
   "metadata": {},
   "outputs": [],
   "source": []
  },
  {
   "cell_type": "code",
   "execution_count": null,
   "metadata": {},
   "outputs": [],
   "source": []
  },
  {
   "cell_type": "code",
   "execution_count": null,
   "metadata": {},
   "outputs": [],
   "source": []
  },
  {
   "cell_type": "code",
   "execution_count": null,
   "metadata": {},
   "outputs": [],
   "source": []
  },
  {
   "cell_type": "code",
   "execution_count": 15,
   "metadata": {},
   "outputs": [
    {
     "data": {
      "text/html": [
       "<div>\n",
       "<style scoped>\n",
       "    .dataframe tbody tr th:only-of-type {\n",
       "        vertical-align: middle;\n",
       "    }\n",
       "\n",
       "    .dataframe tbody tr th {\n",
       "        vertical-align: top;\n",
       "    }\n",
       "\n",
       "    .dataframe thead th {\n",
       "        text-align: right;\n",
       "    }\n",
       "</style>\n",
       "<table border=\"1\" class=\"dataframe\">\n",
       "  <thead>\n",
       "    <tr style=\"text-align: right;\">\n",
       "      <th></th>\n",
       "      <th>CASEID</th>\n",
       "      <th>ABUSED</th>\n",
       "      <th>SCRSTATR</th>\n",
       "      <th>LENGTHC1</th>\n",
       "      <th>C1SITUAT</th>\n",
       "      <th>PABUSE</th>\n",
       "      <th>D3RCHILT</th>\n",
       "      <th>E13PRGNT</th>\n",
       "      <th>N7PREGNT</th>\n",
       "      <th>TOTSUPRT</th>\n",
       "      <th>...</th>\n",
       "      <th>N16CHILD</th>\n",
       "      <th>N17ARRST</th>\n",
       "      <th>N1FRQNCY</th>\n",
       "      <th>N2SVRITY</th>\n",
       "      <th>N3WEAPON</th>\n",
       "      <th>N4CHOKE</th>\n",
       "      <th>N5SEX</th>\n",
       "      <th>N6CONTRL</th>\n",
       "      <th>N8JEALUS</th>\n",
       "      <th>N10CPBLE</th>\n",
       "    </tr>\n",
       "  </thead>\n",
       "  <tbody>\n",
       "    <tr>\n",
       "      <th>count</th>\n",
       "      <td>705.000000</td>\n",
       "      <td>705.000000</td>\n",
       "      <td>705.000000</td>\n",
       "      <td>705.000000</td>\n",
       "      <td>705.000000</td>\n",
       "      <td>705.000000</td>\n",
       "      <td>705.000000</td>\n",
       "      <td>705.000000</td>\n",
       "      <td>705.000000</td>\n",
       "      <td>705.000000</td>\n",
       "      <td>...</td>\n",
       "      <td>705.000000</td>\n",
       "      <td>705.000000</td>\n",
       "      <td>705.000000</td>\n",
       "      <td>705.000000</td>\n",
       "      <td>705.000000</td>\n",
       "      <td>705.000000</td>\n",
       "      <td>705.000000</td>\n",
       "      <td>705.000000</td>\n",
       "      <td>705.000000</td>\n",
       "      <td>705.000000</td>\n",
       "    </tr>\n",
       "    <tr>\n",
       "      <th>mean</th>\n",
       "      <td>381725.114894</td>\n",
       "      <td>1.295035</td>\n",
       "      <td>25.558865</td>\n",
       "      <td>3.144681</td>\n",
       "      <td>3.638298</td>\n",
       "      <td>3.415603</td>\n",
       "      <td>5.710638</td>\n",
       "      <td>18.146099</td>\n",
       "      <td>19.350355</td>\n",
       "      <td>11.702128</td>\n",
       "      <td>...</td>\n",
       "      <td>43.432624</td>\n",
       "      <td>51.740426</td>\n",
       "      <td>13.188652</td>\n",
       "      <td>13.182979</td>\n",
       "      <td>28.934752</td>\n",
       "      <td>27.392908</td>\n",
       "      <td>28.731915</td>\n",
       "      <td>14.588652</td>\n",
       "      <td>17.103546</td>\n",
       "      <td>56.320567</td>\n",
       "    </tr>\n",
       "    <tr>\n",
       "      <th>std</th>\n",
       "      <td>199126.823457</td>\n",
       "      <td>0.456382</td>\n",
       "      <td>153.127592</td>\n",
       "      <td>1.680961</td>\n",
       "      <td>3.537294</td>\n",
       "      <td>3.624653</td>\n",
       "      <td>62.239719</td>\n",
       "      <td>118.368202</td>\n",
       "      <td>117.739917</td>\n",
       "      <td>52.787436</td>\n",
       "      <td>...</td>\n",
       "      <td>190.624568</td>\n",
       "      <td>208.290783</td>\n",
       "      <td>104.277792</td>\n",
       "      <td>104.278428</td>\n",
       "      <td>392.354155</td>\n",
       "      <td>390.654274</td>\n",
       "      <td>391.989586</td>\n",
       "      <td>112.024644</td>\n",
       "      <td>121.284294</td>\n",
       "      <td>419.461220</td>\n",
       "    </tr>\n",
       "    <tr>\n",
       "      <th>min</th>\n",
       "      <td>108395.000000</td>\n",
       "      <td>1.000000</td>\n",
       "      <td>1.000000</td>\n",
       "      <td>1.000000</td>\n",
       "      <td>1.000000</td>\n",
       "      <td>1.000000</td>\n",
       "      <td>0.000000</td>\n",
       "      <td>1.000000</td>\n",
       "      <td>1.000000</td>\n",
       "      <td>0.000000</td>\n",
       "      <td>...</td>\n",
       "      <td>1.000000</td>\n",
       "      <td>1.000000</td>\n",
       "      <td>1.000000</td>\n",
       "      <td>1.000000</td>\n",
       "      <td>1.000000</td>\n",
       "      <td>1.000000</td>\n",
       "      <td>1.000000</td>\n",
       "      <td>1.000000</td>\n",
       "      <td>1.000000</td>\n",
       "      <td>1.000000</td>\n",
       "    </tr>\n",
       "    <tr>\n",
       "      <th>25%</th>\n",
       "      <td>308008.000000</td>\n",
       "      <td>1.000000</td>\n",
       "      <td>1.000000</td>\n",
       "      <td>2.000000</td>\n",
       "      <td>1.000000</td>\n",
       "      <td>1.000000</td>\n",
       "      <td>0.000000</td>\n",
       "      <td>2.000000</td>\n",
       "      <td>2.000000</td>\n",
       "      <td>7.000000</td>\n",
       "      <td>...</td>\n",
       "      <td>2.000000</td>\n",
       "      <td>1.000000</td>\n",
       "      <td>1.000000</td>\n",
       "      <td>1.000000</td>\n",
       "      <td>1.000000</td>\n",
       "      <td>1.000000</td>\n",
       "      <td>1.000000</td>\n",
       "      <td>1.000000</td>\n",
       "      <td>1.000000</td>\n",
       "      <td>1.000000</td>\n",
       "    </tr>\n",
       "    <tr>\n",
       "      <th>50%</th>\n",
       "      <td>309154.000000</td>\n",
       "      <td>1.000000</td>\n",
       "      <td>1.000000</td>\n",
       "      <td>3.000000</td>\n",
       "      <td>1.000000</td>\n",
       "      <td>1.000000</td>\n",
       "      <td>1.000000</td>\n",
       "      <td>3.000000</td>\n",
       "      <td>2.000000</td>\n",
       "      <td>10.000000</td>\n",
       "      <td>...</td>\n",
       "      <td>2.000000</td>\n",
       "      <td>1.000000</td>\n",
       "      <td>2.000000</td>\n",
       "      <td>2.000000</td>\n",
       "      <td>2.000000</td>\n",
       "      <td>2.000000</td>\n",
       "      <td>2.000000</td>\n",
       "      <td>2.000000</td>\n",
       "      <td>2.000000</td>\n",
       "      <td>2.000000</td>\n",
       "    </tr>\n",
       "    <tr>\n",
       "      <th>75%</th>\n",
       "      <td>508546.000000</td>\n",
       "      <td>2.000000</td>\n",
       "      <td>2.000000</td>\n",
       "      <td>5.000000</td>\n",
       "      <td>9.000000</td>\n",
       "      <td>9.000000</td>\n",
       "      <td>2.000000</td>\n",
       "      <td>3.000000</td>\n",
       "      <td>9.000000</td>\n",
       "      <td>11.000000</td>\n",
       "      <td>...</td>\n",
       "      <td>2.000000</td>\n",
       "      <td>2.000000</td>\n",
       "      <td>3.000000</td>\n",
       "      <td>3.000000</td>\n",
       "      <td>3.000000</td>\n",
       "      <td>3.000000</td>\n",
       "      <td>3.000000</td>\n",
       "      <td>3.000000</td>\n",
       "      <td>3.000000</td>\n",
       "      <td>3.000000</td>\n",
       "    </tr>\n",
       "    <tr>\n",
       "      <th>max</th>\n",
       "      <td>909004.000000</td>\n",
       "      <td>2.000000</td>\n",
       "      <td>999.000000</td>\n",
       "      <td>6.000000</td>\n",
       "      <td>9.000000</td>\n",
       "      <td>9.000000</td>\n",
       "      <td>999.000000</td>\n",
       "      <td>999.000000</td>\n",
       "      <td>999.000000</td>\n",
       "      <td>999.000000</td>\n",
       "      <td>...</td>\n",
       "      <td>999.000000</td>\n",
       "      <td>999.000000</td>\n",
       "      <td>999.000000</td>\n",
       "      <td>999.000000</td>\n",
       "      <td>9999.000000</td>\n",
       "      <td>9999.000000</td>\n",
       "      <td>9999.000000</td>\n",
       "      <td>999.000000</td>\n",
       "      <td>999.000000</td>\n",
       "      <td>9999.000000</td>\n",
       "    </tr>\n",
       "  </tbody>\n",
       "</table>\n",
       "<p>8 rows × 44 columns</p>\n",
       "</div>"
      ],
      "text/plain": [
       "              CASEID      ABUSED    SCRSTATR    LENGTHC1    C1SITUAT  \\\n",
       "count     705.000000  705.000000  705.000000  705.000000  705.000000   \n",
       "mean   381725.114894    1.295035   25.558865    3.144681    3.638298   \n",
       "std    199126.823457    0.456382  153.127592    1.680961    3.537294   \n",
       "min    108395.000000    1.000000    1.000000    1.000000    1.000000   \n",
       "25%    308008.000000    1.000000    1.000000    2.000000    1.000000   \n",
       "50%    309154.000000    1.000000    1.000000    3.000000    1.000000   \n",
       "75%    508546.000000    2.000000    2.000000    5.000000    9.000000   \n",
       "max    909004.000000    2.000000  999.000000    6.000000    9.000000   \n",
       "\n",
       "           PABUSE    D3RCHILT    E13PRGNT    N7PREGNT    TOTSUPRT  \\\n",
       "count  705.000000  705.000000  705.000000  705.000000  705.000000   \n",
       "mean     3.415603    5.710638   18.146099   19.350355   11.702128   \n",
       "std      3.624653   62.239719  118.368202  117.739917   52.787436   \n",
       "min      1.000000    0.000000    1.000000    1.000000    0.000000   \n",
       "25%      1.000000    0.000000    2.000000    2.000000    7.000000   \n",
       "50%      1.000000    1.000000    3.000000    2.000000   10.000000   \n",
       "75%      9.000000    2.000000    3.000000    9.000000   11.000000   \n",
       "max      9.000000  999.000000  999.000000  999.000000  999.000000   \n",
       "\n",
       "          ...         N16CHILD    N17ARRST    N1FRQNCY    N2SVRITY  \\\n",
       "count     ...       705.000000  705.000000  705.000000  705.000000   \n",
       "mean      ...        43.432624   51.740426   13.188652   13.182979   \n",
       "std       ...       190.624568  208.290783  104.277792  104.278428   \n",
       "min       ...         1.000000    1.000000    1.000000    1.000000   \n",
       "25%       ...         2.000000    1.000000    1.000000    1.000000   \n",
       "50%       ...         2.000000    1.000000    2.000000    2.000000   \n",
       "75%       ...         2.000000    2.000000    3.000000    3.000000   \n",
       "max       ...       999.000000  999.000000  999.000000  999.000000   \n",
       "\n",
       "          N3WEAPON      N4CHOKE        N5SEX    N6CONTRL    N8JEALUS  \\\n",
       "count   705.000000   705.000000   705.000000  705.000000  705.000000   \n",
       "mean     28.934752    27.392908    28.731915   14.588652   17.103546   \n",
       "std     392.354155   390.654274   391.989586  112.024644  121.284294   \n",
       "min       1.000000     1.000000     1.000000    1.000000    1.000000   \n",
       "25%       1.000000     1.000000     1.000000    1.000000    1.000000   \n",
       "50%       2.000000     2.000000     2.000000    2.000000    2.000000   \n",
       "75%       3.000000     3.000000     3.000000    3.000000    3.000000   \n",
       "max    9999.000000  9999.000000  9999.000000  999.000000  999.000000   \n",
       "\n",
       "          N10CPBLE  \n",
       "count   705.000000  \n",
       "mean     56.320567  \n",
       "std     419.461220  \n",
       "min       1.000000  \n",
       "25%       1.000000  \n",
       "50%       2.000000  \n",
       "75%       3.000000  \n",
       "max    9999.000000  \n",
       "\n",
       "[8 rows x 44 columns]"
      ]
     },
     "execution_count": 15,
     "metadata": {},
     "output_type": "execute_result"
    }
   ],
   "source": [
    "dfa.describe()"
   ]
  },
  {
   "cell_type": "code",
   "execution_count": 16,
   "metadata": {},
   "outputs": [
    {
     "name": "stdout",
     "output_type": "stream",
     "text": [
      "<class 'pandas.core.frame.DataFrame'>\n",
      "Int64Index: 705 entries, 0 to 704\n",
      "Data columns (total 44 columns):\n",
      "CASEID      705 non-null int64\n",
      "ABUSED      705 non-null int64\n",
      "SCRSTATR    705 non-null int64\n",
      "LENGTHC1    705 non-null int64\n",
      "C1SITUAT    705 non-null int64\n",
      "PABUSE      705 non-null int64\n",
      "D3RCHILT    705 non-null int64\n",
      "E13PRGNT    705 non-null int64\n",
      "N7PREGNT    705 non-null int64\n",
      "TOTSUPRT    705 non-null int64\n",
      "G1NUMBER    705 non-null int64\n",
      "H1JEALUS    705 non-null int64\n",
      "H2LIMIT     705 non-null int64\n",
      "H3KNOWNG    705 non-null int64\n",
      "J1HIT       705 non-null int64\n",
      "J2THROWN    705 non-null int64\n",
      "J3PUSH      705 non-null int64\n",
      "J4SLAP      705 non-null int64\n",
      "J5KICK      705 non-null int64\n",
      "J6OBJECT    705 non-null int64\n",
      "J7BEAT      705 non-null int64\n",
      "J8CHOKE     705 non-null int64\n",
      "J9KNIFE     705 non-null int64\n",
      "J10GUN      705 non-null int64\n",
      "J11SEX      705 non-null int64\n",
      "POWER       705 non-null int64\n",
      "HARASS      705 non-null int64\n",
      "B1AGE       705 non-null int64\n",
      "AGEDISP     705 non-null int64\n",
      "STDETAI     705 non-null int64\n",
      "SAMESEXR    705 non-null int64\n",
      "N11DRUGS    705 non-null int64\n",
      "N12ALCHL    705 non-null int64\n",
      "N13SUHIM    705 non-null int64\n",
      "N16CHILD    705 non-null int64\n",
      "N17ARRST    705 non-null int64\n",
      "N1FRQNCY    705 non-null int64\n",
      "N2SVRITY    705 non-null int64\n",
      "N3WEAPON    705 non-null int64\n",
      "N4CHOKE     705 non-null int64\n",
      "N5SEX       705 non-null int64\n",
      "N6CONTRL    705 non-null int64\n",
      "N8JEALUS    705 non-null int64\n",
      "N10CPBLE    705 non-null int64\n",
      "dtypes: int64(44)\n",
      "memory usage: 247.9 KB\n"
     ]
    }
   ],
   "source": [
    "dfa.info()"
   ]
  },
  {
   "cell_type": "code",
   "execution_count": 17,
   "metadata": {},
   "outputs": [
    {
     "data": {
      "text/plain": [
       "(76, 657)"
      ]
     },
     "execution_count": 17,
     "metadata": {},
     "output_type": "execute_result"
    }
   ],
   "source": [
    "df14.shape"
   ]
  },
  {
   "cell_type": "code",
   "execution_count": null,
   "metadata": {},
   "outputs": [],
   "source": []
  }
 ],
 "metadata": {
  "kernelspec": {
   "display_name": "Python 3",
   "language": "python",
   "name": "python3"
  },
  "language_info": {
   "codemirror_mode": {
    "name": "ipython",
    "version": 3
   },
   "file_extension": ".py",
   "mimetype": "text/x-python",
   "name": "python",
   "nbconvert_exporter": "python",
   "pygments_lexer": "ipython3",
   "version": "3.7.1"
  }
 },
 "nbformat": 4,
 "nbformat_minor": 2
}
