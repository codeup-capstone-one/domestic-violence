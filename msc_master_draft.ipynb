{
 "cells": [
  {
   "cell_type": "markdown",
   "metadata": {},
   "source": [
    "# Plan:\n",
    "### We will initially look at our greater data set of all surveyed women from the Chicago Women's Health study that includes the screening  of both women indentified as abused and not abused.  We will use this data to determine the status and probability of any given woman being in a domestically abusive situation.\n",
    "\n",
    "### This first pipeline to identify the abuse status of a woman will be referred to as \"Phase 1\" and be done on our first dataframe set that we will refer to as \"Dataframe A\" or \"dfa.\" \n",
    "\n",
    "### \"Phase 2\" will utilize the subset of women that were identified as abused in the study and compound extra features that were gleaned in a follow-up survey of these identified women.  These features will be narrowed and modeled to identify risk of being reassaulted.  This work can be found in the \"Phase 2\" Notebook and will investigate appropriately on a compounded dataframe of our original features in addition to the new features from the follow-up survey.\n",
    "\n",
    "### Hypothesis: From domain knowledge of this field, we predict that there will likely be significant identifiers of abuse that can be fed into a machine-learned model."
   ]
  },
  {
   "cell_type": "markdown",
   "metadata": {},
   "source": [
    "# ENVIRONMENT"
   ]
  },
  {
   "cell_type": "code",
   "execution_count": 104,
   "metadata": {},
   "outputs": [],
   "source": [
    "# basic environment and custom scripts\n",
    "import os\n",
    "import acquire\n",
    "import prepare\n",
    "import explore\n",
    "import time\n",
    "\n",
    "# numpy and pandas for dataframe building and manipulation\n",
    "import pandas as pd\n",
    "import numpy as np\n",
    "\n",
    "\n",
    "# matplotlib and seaborn for visualization\n",
    "import matplotlib.pyplot as plt\n",
    "import matplotlib.patheffects as PathEffects\n",
    "%matplotlib inline\n",
    "import seaborn as sns\n",
    "\n",
    "# import preprocessing for scaling and splitting\n",
    "from sklearn.preprocessing import LabelEncoder\n",
    "from sklearn.preprocessing import MinMaxScaler\n",
    "from sklearn.model_selection import train_test_split\n",
    "\n",
    "# xgboost for feature selection\n",
    "import xgboost as xgb\n",
    "\n",
    "# sklearn machine learning\n",
    "# logistic regression\n",
    "from sklearn.linear_model import LogisticRegression\n",
    "from sklearn.linear_model import LogisticRegressionCV\n",
    "from sklearn.linear_model import SGDClassifier\n",
    "# classification reports\n",
    "from sklearn.metrics import classification_report\n",
    "from sklearn.metrics import confusion_matrix\n",
    "# SVM\n",
    "from sklearn.svm import SVC\n",
    "# Decision Tree\n",
    "from sklearn import tree\n",
    "from sklearn.tree import DecisionTreeClassifier\n",
    "# Random Forest\n",
    "from sklearn.ensemble import RandomForestClassifier\n",
    "# Dimensionality\n",
    "from sklearn.decomposition import TruncatedSVD\n",
    "from sklearn.decomposition import PCA\n",
    "from sklearn.manifold import TSNE\n",
    "# cross-validation, grid-search\n",
    "from sklearn.model_selection import cross_val_score\n",
    "from sklearn.model_selection import GridSearchCV\n",
    "\n",
    "\n",
    "# visualization for tree model:\n",
    "import graphviz\n",
    "from io import StringIO\n",
    "from IPython.display import Image \n",
    "import pydotplus\n",
    "\n",
    "#  balanced bagging classifier\n",
    "from imblearn.ensemble import BalancedBaggingClassifier\n",
    "\n",
    "# to explode the DataFrames and avoid truncation\n",
    "# pd.set_option('display.max_rows', 1000)\n",
    "# pd.set_option('display.max_columns', 500)\n",
    "# pd.set_option('display.width', 1000)"
   ]
  },
  {
   "cell_type": "markdown",
   "metadata": {},
   "source": [
    "# ACQUISITION"
   ]
  },
  {
   "cell_type": "code",
   "execution_count": 105,
   "metadata": {},
   "outputs": [],
   "source": [
    "# utilize acquire script to get primary dataframe for analysis\n",
    "dfa, dfb = acquire.get_data()"
   ]
  },
  {
   "cell_type": "code",
   "execution_count": 106,
   "metadata": {},
   "outputs": [
    {
     "name": "stdout",
     "output_type": "stream",
     "text": [
      "<class 'pandas.core.frame.DataFrame'>\n",
      "Int64Index: 705 entries, 0 to 704\n",
      "Data columns (total 44 columns):\n",
      "CASEID      705 non-null int64\n",
      "ABUSED      705 non-null int64\n",
      "SCRSTATR    705 non-null int64\n",
      "LENGTHC1    705 non-null int64\n",
      "C1SITUAT    705 non-null int64\n",
      "PABUSE      705 non-null int64\n",
      "D3RCHILT    705 non-null int64\n",
      "E13PRGNT    705 non-null int64\n",
      "N7PREGNT    705 non-null int64\n",
      "TOTSUPRT    705 non-null int64\n",
      "G1NUMBER    705 non-null int64\n",
      "H1JEALUS    705 non-null int64\n",
      "H2LIMIT     705 non-null int64\n",
      "H3KNOWNG    705 non-null int64\n",
      "J1HIT       705 non-null int64\n",
      "J2THROWN    705 non-null int64\n",
      "J3PUSH      705 non-null int64\n",
      "J4SLAP      705 non-null int64\n",
      "J5KICK      705 non-null int64\n",
      "J6OBJECT    705 non-null int64\n",
      "J7BEAT      705 non-null int64\n",
      "J8CHOKE     705 non-null int64\n",
      "J9KNIFE     705 non-null int64\n",
      "J10GUN      705 non-null int64\n",
      "J11SEX      705 non-null int64\n",
      "POWER       705 non-null int64\n",
      "HARASS      705 non-null int64\n",
      "B1AGE       705 non-null int64\n",
      "AGEDISP     705 non-null int64\n",
      "STDETAI     705 non-null int64\n",
      "SAMESEXR    705 non-null int64\n",
      "N11DRUGS    705 non-null int64\n",
      "N12ALCHL    705 non-null int64\n",
      "N13SUHIM    705 non-null int64\n",
      "N16CHILD    705 non-null int64\n",
      "N17ARRST    705 non-null int64\n",
      "N1FRQNCY    705 non-null int64\n",
      "N2SVRITY    705 non-null int64\n",
      "N3WEAPON    705 non-null int64\n",
      "N4CHOKE     705 non-null int64\n",
      "N5SEX       705 non-null int64\n",
      "N6CONTRL    705 non-null int64\n",
      "N8JEALUS    705 non-null int64\n",
      "N10CPBLE    705 non-null int64\n",
      "dtypes: int64(44)\n",
      "memory usage: 247.9 KB\n"
     ]
    }
   ],
   "source": [
    "dfa.info()"
   ]
  },
  {
   "cell_type": "markdown",
   "metadata": {},
   "source": [
    "## _'dfb' : this is the dataframe with the AW (Abused Woman) cases_"
   ]
  },
  {
   "cell_type": "code",
   "execution_count": 107,
   "metadata": {},
   "outputs": [],
   "source": [
    "# placeholder cell: perhaps going to utilize these in a later phase\n",
    "\n",
    "# df9 & 10 are cases of AW (Abused Woman)\n",
    "df9 = acquire.read_data('data09.csv')\n",
    "df10 = acquire.read_data('data10.csv')\n",
    "\n",
    "# df 13, 14 & 15 are cases of HOMICIDE\n",
    "df13 = acquire.read_data('data13.csv')\n",
    "df14 = acquire.read_data('data14.csv')\n",
    "df15 = acquire.read_data('data15.csv')"
   ]
  },
  {
   "cell_type": "markdown",
   "metadata": {},
   "source": [
    "# PREPARATION"
   ]
  },
  {
   "cell_type": "markdown",
   "metadata": {},
   "source": [
    "## _Examining the dataframes, dfa & dfb, for any missing or inconsistent values._"
   ]
  },
  {
   "cell_type": "code",
   "execution_count": 108,
   "metadata": {
    "scrolled": true
   },
   "outputs": [
    {
     "data": {
      "text/html": [
       "<div>\n",
       "<style scoped>\n",
       "    .dataframe tbody tr th:only-of-type {\n",
       "        vertical-align: middle;\n",
       "    }\n",
       "\n",
       "    .dataframe tbody tr th {\n",
       "        vertical-align: top;\n",
       "    }\n",
       "\n",
       "    .dataframe thead th {\n",
       "        text-align: right;\n",
       "    }\n",
       "</style>\n",
       "<table border=\"1\" class=\"dataframe\">\n",
       "  <thead>\n",
       "    <tr style=\"text-align: right;\">\n",
       "      <th></th>\n",
       "      <th>CASEID</th>\n",
       "      <th>ABUSED</th>\n",
       "      <th>SCRSTATR</th>\n",
       "      <th>LENGTHC1</th>\n",
       "      <th>C1SITUAT</th>\n",
       "      <th>PABUSE</th>\n",
       "      <th>D3RCHILT</th>\n",
       "      <th>E13PRGNT</th>\n",
       "      <th>N7PREGNT</th>\n",
       "      <th>TOTSUPRT</th>\n",
       "      <th>...</th>\n",
       "      <th>N16CHILD</th>\n",
       "      <th>N17ARRST</th>\n",
       "      <th>N1FRQNCY</th>\n",
       "      <th>N2SVRITY</th>\n",
       "      <th>N3WEAPON</th>\n",
       "      <th>N4CHOKE</th>\n",
       "      <th>N5SEX</th>\n",
       "      <th>N6CONTRL</th>\n",
       "      <th>N8JEALUS</th>\n",
       "      <th>N10CPBLE</th>\n",
       "    </tr>\n",
       "  </thead>\n",
       "  <tbody>\n",
       "    <tr>\n",
       "      <th>0</th>\n",
       "      <td>108395</td>\n",
       "      <td>1</td>\n",
       "      <td>1</td>\n",
       "      <td>1</td>\n",
       "      <td>1</td>\n",
       "      <td>1</td>\n",
       "      <td>1</td>\n",
       "      <td>3</td>\n",
       "      <td>2</td>\n",
       "      <td>9</td>\n",
       "      <td>...</td>\n",
       "      <td>2</td>\n",
       "      <td>2</td>\n",
       "      <td>2</td>\n",
       "      <td>2</td>\n",
       "      <td>2</td>\n",
       "      <td>2</td>\n",
       "      <td>2</td>\n",
       "      <td>2</td>\n",
       "      <td>2</td>\n",
       "      <td>2</td>\n",
       "    </tr>\n",
       "    <tr>\n",
       "      <th>1</th>\n",
       "      <td>108397</td>\n",
       "      <td>1</td>\n",
       "      <td>1</td>\n",
       "      <td>2</td>\n",
       "      <td>1</td>\n",
       "      <td>1</td>\n",
       "      <td>0</td>\n",
       "      <td>3</td>\n",
       "      <td>3</td>\n",
       "      <td>11</td>\n",
       "      <td>...</td>\n",
       "      <td>2</td>\n",
       "      <td>1</td>\n",
       "      <td>2</td>\n",
       "      <td>1</td>\n",
       "      <td>1</td>\n",
       "      <td>1</td>\n",
       "      <td>1</td>\n",
       "      <td>2</td>\n",
       "      <td>1</td>\n",
       "      <td>1</td>\n",
       "    </tr>\n",
       "    <tr>\n",
       "      <th>2</th>\n",
       "      <td>108399</td>\n",
       "      <td>1</td>\n",
       "      <td>1</td>\n",
       "      <td>5</td>\n",
       "      <td>1</td>\n",
       "      <td>1</td>\n",
       "      <td>6</td>\n",
       "      <td>3</td>\n",
       "      <td>2</td>\n",
       "      <td>9</td>\n",
       "      <td>...</td>\n",
       "      <td>2</td>\n",
       "      <td>2</td>\n",
       "      <td>2</td>\n",
       "      <td>2</td>\n",
       "      <td>2</td>\n",
       "      <td>1</td>\n",
       "      <td>2</td>\n",
       "      <td>2</td>\n",
       "      <td>2</td>\n",
       "      <td>2</td>\n",
       "    </tr>\n",
       "    <tr>\n",
       "      <th>3</th>\n",
       "      <td>108443</td>\n",
       "      <td>1</td>\n",
       "      <td>1</td>\n",
       "      <td>2</td>\n",
       "      <td>1</td>\n",
       "      <td>1</td>\n",
       "      <td>0</td>\n",
       "      <td>1</td>\n",
       "      <td>2</td>\n",
       "      <td>12</td>\n",
       "      <td>...</td>\n",
       "      <td>2</td>\n",
       "      <td>1</td>\n",
       "      <td>2</td>\n",
       "      <td>2</td>\n",
       "      <td>1</td>\n",
       "      <td>1</td>\n",
       "      <td>2</td>\n",
       "      <td>1</td>\n",
       "      <td>2</td>\n",
       "      <td>2</td>\n",
       "    </tr>\n",
       "    <tr>\n",
       "      <th>4</th>\n",
       "      <td>108444</td>\n",
       "      <td>1</td>\n",
       "      <td>1</td>\n",
       "      <td>2</td>\n",
       "      <td>1</td>\n",
       "      <td>1</td>\n",
       "      <td>1</td>\n",
       "      <td>2</td>\n",
       "      <td>2</td>\n",
       "      <td>11</td>\n",
       "      <td>...</td>\n",
       "      <td>2</td>\n",
       "      <td>1</td>\n",
       "      <td>1</td>\n",
       "      <td>1</td>\n",
       "      <td>2</td>\n",
       "      <td>2</td>\n",
       "      <td>2</td>\n",
       "      <td>2</td>\n",
       "      <td>2</td>\n",
       "      <td>2</td>\n",
       "    </tr>\n",
       "  </tbody>\n",
       "</table>\n",
       "<p>5 rows × 44 columns</p>\n",
       "</div>"
      ],
      "text/plain": [
       "   CASEID  ABUSED  SCRSTATR  LENGTHC1  C1SITUAT  PABUSE  D3RCHILT  E13PRGNT  \\\n",
       "0  108395       1         1         1         1       1         1         3   \n",
       "1  108397       1         1         2         1       1         0         3   \n",
       "2  108399       1         1         5         1       1         6         3   \n",
       "3  108443       1         1         2         1       1         0         1   \n",
       "4  108444       1         1         2         1       1         1         2   \n",
       "\n",
       "   N7PREGNT  TOTSUPRT    ...     N16CHILD  N17ARRST  N1FRQNCY  N2SVRITY  \\\n",
       "0         2         9    ...            2         2         2         2   \n",
       "1         3        11    ...            2         1         2         1   \n",
       "2         2         9    ...            2         2         2         2   \n",
       "3         2        12    ...            2         1         2         2   \n",
       "4         2        11    ...            2         1         1         1   \n",
       "\n",
       "   N3WEAPON  N4CHOKE  N5SEX  N6CONTRL  N8JEALUS  N10CPBLE  \n",
       "0         2        2      2         2         2         2  \n",
       "1         1        1      1         2         1         1  \n",
       "2         2        1      2         2         2         2  \n",
       "3         1        1      2         1         2         2  \n",
       "4         2        2      2         2         2         2  \n",
       "\n",
       "[5 rows x 44 columns]"
      ]
     },
     "execution_count": 108,
     "metadata": {},
     "output_type": "execute_result"
    }
   ],
   "source": [
    "dfa.head()"
   ]
  },
  {
   "cell_type": "code",
   "execution_count": 109,
   "metadata": {},
   "outputs": [
    {
     "data": {
      "text/html": [
       "<div>\n",
       "<style scoped>\n",
       "    .dataframe tbody tr th:only-of-type {\n",
       "        vertical-align: middle;\n",
       "    }\n",
       "\n",
       "    .dataframe tbody tr th {\n",
       "        vertical-align: top;\n",
       "    }\n",
       "\n",
       "    .dataframe thead th {\n",
       "        text-align: right;\n",
       "    }\n",
       "</style>\n",
       "<table border=\"1\" class=\"dataframe\">\n",
       "  <thead>\n",
       "    <tr style=\"text-align: right;\">\n",
       "      <th></th>\n",
       "      <th>CASEID</th>\n",
       "      <th>M5FIRED</th>\n",
       "      <th>M11HIGH</th>\n",
       "      <th>M35SAFE</th>\n",
       "      <th>M41ILLGL</th>\n",
       "      <th>M42DAGRR</th>\n",
       "      <th>M13TALKR</th>\n",
       "      <th>M32OTHER</th>\n",
       "      <th>M27HOW</th>\n",
       "      <th>M30ARRES</th>\n",
       "      <th>...</th>\n",
       "      <th>FORCEDR</th>\n",
       "      <th>MISCARR</th>\n",
       "      <th>RESTRAIN</th>\n",
       "      <th>CHOKED</th>\n",
       "      <th>NDRUNK</th>\n",
       "      <th>RDRUNK</th>\n",
       "      <th>BOTHDRUN</th>\n",
       "      <th>NDRUGS</th>\n",
       "      <th>RDRUGS</th>\n",
       "      <th>BOTHDRUG</th>\n",
       "    </tr>\n",
       "  </thead>\n",
       "  <tbody>\n",
       "    <tr>\n",
       "      <th>0</th>\n",
       "      <td>108395</td>\n",
       "      <td>9999</td>\n",
       "      <td>2</td>\n",
       "      <td>1</td>\n",
       "      <td>2</td>\n",
       "      <td>0</td>\n",
       "      <td>1</td>\n",
       "      <td>99</td>\n",
       "      <td>99999</td>\n",
       "      <td>3</td>\n",
       "      <td>...</td>\n",
       "      <td>0</td>\n",
       "      <td>0</td>\n",
       "      <td>0</td>\n",
       "      <td>0</td>\n",
       "      <td>0</td>\n",
       "      <td>0</td>\n",
       "      <td>0</td>\n",
       "      <td>0</td>\n",
       "      <td>0</td>\n",
       "      <td>0</td>\n",
       "    </tr>\n",
       "    <tr>\n",
       "      <th>1</th>\n",
       "      <td>108397</td>\n",
       "      <td>9999</td>\n",
       "      <td>2</td>\n",
       "      <td>1</td>\n",
       "      <td>2</td>\n",
       "      <td>0</td>\n",
       "      <td>1</td>\n",
       "      <td>99</td>\n",
       "      <td>99999</td>\n",
       "      <td>3</td>\n",
       "      <td>...</td>\n",
       "      <td>0</td>\n",
       "      <td>0</td>\n",
       "      <td>0</td>\n",
       "      <td>1</td>\n",
       "      <td>2</td>\n",
       "      <td>0</td>\n",
       "      <td>0</td>\n",
       "      <td>0</td>\n",
       "      <td>0</td>\n",
       "      <td>0</td>\n",
       "    </tr>\n",
       "    <tr>\n",
       "      <th>2</th>\n",
       "      <td>108399</td>\n",
       "      <td>9999</td>\n",
       "      <td>2</td>\n",
       "      <td>1</td>\n",
       "      <td>2</td>\n",
       "      <td>0</td>\n",
       "      <td>1</td>\n",
       "      <td>99</td>\n",
       "      <td>99999</td>\n",
       "      <td>3</td>\n",
       "      <td>...</td>\n",
       "      <td>0</td>\n",
       "      <td>0</td>\n",
       "      <td>1</td>\n",
       "      <td>1</td>\n",
       "      <td>0</td>\n",
       "      <td>0</td>\n",
       "      <td>0</td>\n",
       "      <td>0</td>\n",
       "      <td>0</td>\n",
       "      <td>0</td>\n",
       "    </tr>\n",
       "    <tr>\n",
       "      <th>3</th>\n",
       "      <td>108443</td>\n",
       "      <td>9999</td>\n",
       "      <td>2</td>\n",
       "      <td>1</td>\n",
       "      <td>2</td>\n",
       "      <td>0</td>\n",
       "      <td>1</td>\n",
       "      <td>13</td>\n",
       "      <td>99999</td>\n",
       "      <td>3</td>\n",
       "      <td>...</td>\n",
       "      <td>0</td>\n",
       "      <td>0</td>\n",
       "      <td>0</td>\n",
       "      <td>1</td>\n",
       "      <td>1</td>\n",
       "      <td>0</td>\n",
       "      <td>0</td>\n",
       "      <td>0</td>\n",
       "      <td>0</td>\n",
       "      <td>0</td>\n",
       "    </tr>\n",
       "    <tr>\n",
       "      <th>4</th>\n",
       "      <td>108444</td>\n",
       "      <td>9999</td>\n",
       "      <td>1</td>\n",
       "      <td>1</td>\n",
       "      <td>2</td>\n",
       "      <td>0</td>\n",
       "      <td>1</td>\n",
       "      <td>99</td>\n",
       "      <td>99999</td>\n",
       "      <td>3</td>\n",
       "      <td>...</td>\n",
       "      <td>0</td>\n",
       "      <td>0</td>\n",
       "      <td>0</td>\n",
       "      <td>0</td>\n",
       "      <td>3</td>\n",
       "      <td>0</td>\n",
       "      <td>0</td>\n",
       "      <td>0</td>\n",
       "      <td>0</td>\n",
       "      <td>0</td>\n",
       "    </tr>\n",
       "  </tbody>\n",
       "</table>\n",
       "<p>5 rows × 29 columns</p>\n",
       "</div>"
      ],
      "text/plain": [
       "   CASEID  M5FIRED  M11HIGH  M35SAFE  M41ILLGL  M42DAGRR  M13TALKR  M32OTHER  \\\n",
       "0  108395     9999        2        1         2         0         1        99   \n",
       "1  108397     9999        2        1         2         0         1        99   \n",
       "2  108399     9999        2        1         2         0         1        99   \n",
       "3  108443     9999        2        1         2         0         1        13   \n",
       "4  108444     9999        1        1         2         0         1        99   \n",
       "\n",
       "   M27HOW  M30ARRES    ...     FORCEDR  MISCARR  RESTRAIN  CHOKED  NDRUNK  \\\n",
       "0   99999         3    ...           0        0         0       0       0   \n",
       "1   99999         3    ...           0        0         0       1       2   \n",
       "2   99999         3    ...           0        0         1       1       0   \n",
       "3   99999         3    ...           0        0         0       1       1   \n",
       "4   99999         3    ...           0        0         0       0       3   \n",
       "\n",
       "   RDRUNK  BOTHDRUN  NDRUGS  RDRUGS  BOTHDRUG  \n",
       "0       0         0       0       0         0  \n",
       "1       0         0       0       0         0  \n",
       "2       0         0       0       0         0  \n",
       "3       0         0       0       0         0  \n",
       "4       0         0       0       0         0  \n",
       "\n",
       "[5 rows x 29 columns]"
      ]
     },
     "execution_count": 109,
     "metadata": {},
     "output_type": "execute_result"
    }
   ],
   "source": [
    "dfb.head()"
   ]
  },
  {
   "cell_type": "code",
   "execution_count": 110,
   "metadata": {
    "scrolled": true
   },
   "outputs": [
    {
     "name": "stdout",
     "output_type": "stream",
     "text": [
      "Empty DataFrame\n",
      "Columns: [sum_nulls, nulls_by_percent]\n",
      "Index: []\n"
     ]
    }
   ],
   "source": [
    "# formally check that there are no nulls in dataframe\n",
    "prepare.get_nulls_by_column(dfa)"
   ]
  },
  {
   "cell_type": "code",
   "execution_count": 111,
   "metadata": {},
   "outputs": [
    {
     "name": "stdout",
     "output_type": "stream",
     "text": [
      "no nulls!\n"
     ]
    }
   ],
   "source": [
    "# check no 2\n",
    "if not prepare.get_nulls_by_row(dfa):\n",
    "    print('no nulls!')\n",
    "else:\n",
    "    prepare.get_nulls_by_row(dfa)"
   ]
  },
  {
   "cell_type": "code",
   "execution_count": 112,
   "metadata": {},
   "outputs": [
    {
     "name": "stdout",
     "output_type": "stream",
     "text": [
      "HEAD\n",
      "   CASEID  ABUSED  SCRSTATR  LENGTHC1  C1SITUAT  PABUSE  D3RCHILT  E13PRGNT  \\\n",
      "0  108395       1         1         1         1       1         1         3   \n",
      "1  108397       1         1         2         1       1         0         3   \n",
      "2  108399       1         1         5         1       1         6         3   \n",
      "3  108443       1         1         2         1       1         0         1   \n",
      "4  108444       1         1         2         1       1         1         2   \n",
      "\n",
      "   N7PREGNT  TOTSUPRT    ...     N16CHILD  N17ARRST  N1FRQNCY  N2SVRITY  \\\n",
      "0         2         9    ...            2         2         2         2   \n",
      "1         3        11    ...            2         1         2         1   \n",
      "2         2         9    ...            2         2         2         2   \n",
      "3         2        12    ...            2         1         2         2   \n",
      "4         2        11    ...            2         1         1         1   \n",
      "\n",
      "   N3WEAPON  N4CHOKE  N5SEX  N6CONTRL  N8JEALUS  N10CPBLE  \n",
      "0         2        2      2         2         2         2  \n",
      "1         1        1      1         2         1         1  \n",
      "2         2        1      2         2         2         2  \n",
      "3         1        1      2         1         2         2  \n",
      "4         2        2      2         2         2         2  \n",
      "\n",
      "[5 rows x 44 columns]\n",
      "\n",
      "TAIL\n",
      "     CASEID  ABUSED  SCRSTATR  LENGTHC1  C1SITUAT  PABUSE  D3RCHILT  E13PRGNT  \\\n",
      "700  809675       2         2         5         9       9         4         3   \n",
      "701  908001       1         1         3         1       1         1         2   \n",
      "702  908003       1         1         4         1       1        12       999   \n",
      "703  909002       2         3         5         9       9         3         3   \n",
      "704  909004       2         1         4         9       9         3         1   \n",
      "\n",
      "     N7PREGNT  TOTSUPRT    ...     N16CHILD  N17ARRST  N1FRQNCY  N2SVRITY  \\\n",
      "700         9         6    ...            2         2         3         3   \n",
      "701       999       999    ...          999       999       999       999   \n",
      "702       999       999    ...          999       999       999       999   \n",
      "703         9         9    ...          999       999         3         3   \n",
      "704         9        11    ...            2         2         3         3   \n",
      "\n",
      "     N3WEAPON  N4CHOKE  N5SEX  N6CONTRL  N8JEALUS  N10CPBLE  \n",
      "700         3        3      3         3         3         3  \n",
      "701       999      999    999       999       999       999  \n",
      "702       999      999    999       999       999       999  \n",
      "703       999      999    999       999       999       999  \n",
      "704      9999     9999   9999       999       999      9999  \n",
      "\n",
      "[5 rows x 44 columns]\n",
      "\n",
      "SHAPE: (705, 44)\n",
      "\n",
      "DESCRIPTION\n",
      "              CASEID      ABUSED    SCRSTATR    LENGTHC1    C1SITUAT  \\\n",
      "count     705.000000  705.000000  705.000000  705.000000  705.000000   \n",
      "mean   381725.114894    1.295035   25.558865    3.144681    3.638298   \n",
      "std    199126.823457    0.456382  153.127592    1.680961    3.537294   \n",
      "min    108395.000000    1.000000    1.000000    1.000000    1.000000   \n",
      "25%    308008.000000    1.000000    1.000000    2.000000    1.000000   \n",
      "50%    309154.000000    1.000000    1.000000    3.000000    1.000000   \n",
      "75%    508546.000000    2.000000    2.000000    5.000000    9.000000   \n",
      "max    909004.000000    2.000000  999.000000    6.000000    9.000000   \n",
      "\n",
      "           PABUSE    D3RCHILT    E13PRGNT    N7PREGNT    TOTSUPRT  \\\n",
      "count  705.000000  705.000000  705.000000  705.000000  705.000000   \n",
      "mean     3.415603    5.710638   18.146099   19.350355   11.702128   \n",
      "std      3.624653   62.239719  118.368202  117.739917   52.787436   \n",
      "min      1.000000    0.000000    1.000000    1.000000    0.000000   \n",
      "25%      1.000000    0.000000    2.000000    2.000000    7.000000   \n",
      "50%      1.000000    1.000000    3.000000    2.000000   10.000000   \n",
      "75%      9.000000    2.000000    3.000000    9.000000   11.000000   \n",
      "max      9.000000  999.000000  999.000000  999.000000  999.000000   \n",
      "\n",
      "          ...         N16CHILD    N17ARRST    N1FRQNCY    N2SVRITY  \\\n",
      "count     ...       705.000000  705.000000  705.000000  705.000000   \n",
      "mean      ...        43.432624   51.740426   13.188652   13.182979   \n",
      "std       ...       190.624568  208.290783  104.277792  104.278428   \n",
      "min       ...         1.000000    1.000000    1.000000    1.000000   \n",
      "25%       ...         2.000000    1.000000    1.000000    1.000000   \n",
      "50%       ...         2.000000    1.000000    2.000000    2.000000   \n",
      "75%       ...         2.000000    2.000000    3.000000    3.000000   \n",
      "max       ...       999.000000  999.000000  999.000000  999.000000   \n",
      "\n",
      "          N3WEAPON      N4CHOKE        N5SEX    N6CONTRL    N8JEALUS  \\\n",
      "count   705.000000   705.000000   705.000000  705.000000  705.000000   \n",
      "mean     28.934752    27.392908    28.731915   14.588652   17.103546   \n",
      "std     392.354155   390.654274   391.989586  112.024644  121.284294   \n",
      "min       1.000000     1.000000     1.000000    1.000000    1.000000   \n",
      "25%       1.000000     1.000000     1.000000    1.000000    1.000000   \n",
      "50%       2.000000     2.000000     2.000000    2.000000    2.000000   \n",
      "75%       3.000000     3.000000     3.000000    3.000000    3.000000   \n",
      "max    9999.000000  9999.000000  9999.000000  999.000000  999.000000   \n",
      "\n",
      "          N10CPBLE  \n",
      "count   705.000000  \n",
      "mean     56.320567  \n",
      "std     419.461220  \n",
      "min       1.000000  \n",
      "25%       1.000000  \n",
      "50%       2.000000  \n",
      "75%       3.000000  \n",
      "max    9999.000000  \n",
      "\n",
      "[8 rows x 44 columns]\n",
      "\n",
      "<class 'pandas.core.frame.DataFrame'>\n",
      "RangeIndex: 705 entries, 0 to 704\n",
      "Data columns (total 44 columns):\n",
      "CASEID      705 non-null int64\n",
      "ABUSED      705 non-null int64\n",
      "SCRSTATR    705 non-null int64\n",
      "LENGTHC1    705 non-null int64\n",
      "C1SITUAT    705 non-null int64\n",
      "PABUSE      705 non-null int64\n",
      "D3RCHILT    705 non-null int64\n",
      "E13PRGNT    705 non-null int64\n",
      "N7PREGNT    705 non-null int64\n",
      "TOTSUPRT    705 non-null int64\n",
      "G1NUMBER    705 non-null int64\n",
      "H1JEALUS    705 non-null int64\n",
      "H2LIMIT     705 non-null int64\n",
      "H3KNOWNG    705 non-null int64\n",
      "J1HIT       705 non-null int64\n",
      "J2THROWN    705 non-null int64\n",
      "J3PUSH      705 non-null int64\n",
      "J4SLAP      705 non-null int64\n",
      "J5KICK      705 non-null int64\n",
      "J6OBJECT    705 non-null int64\n",
      "J7BEAT      705 non-null int64\n",
      "J8CHOKE     705 non-null int64\n",
      "J9KNIFE     705 non-null int64\n",
      "J10GUN      705 non-null int64\n",
      "J11SEX      705 non-null int64\n",
      "POWER       705 non-null int64\n",
      "HARASS      705 non-null int64\n",
      "B1AGE       705 non-null int64\n",
      "AGEDISP     705 non-null int64\n",
      "STDETAI     705 non-null int64\n",
      "SAMESEXR    705 non-null int64\n",
      "N11DRUGS    705 non-null int64\n",
      "N12ALCHL    705 non-null int64\n",
      "N13SUHIM    705 non-null int64\n",
      "N16CHILD    705 non-null int64\n",
      "N17ARRST    705 non-null int64\n",
      "N1FRQNCY    705 non-null int64\n",
      "N2SVRITY    705 non-null int64\n",
      "N3WEAPON    705 non-null int64\n",
      "N4CHOKE     705 non-null int64\n",
      "N5SEX       705 non-null int64\n",
      "N6CONTRL    705 non-null int64\n",
      "N8JEALUS    705 non-null int64\n",
      "N10CPBLE    705 non-null int64\n",
      "dtypes: int64(44)\n",
      "memory usage: 242.4 KB\n",
      "INFORMATION\n",
      "CASEID\n",
      "\n",
      "-------------------------------------------------------------\n",
      "\n",
      "ABUSED\n",
      "1    497\n",
      "2    208\n",
      "Name: ABUSED, dtype: int64\n",
      "\n",
      "-------------------------------------------------------------\n",
      "\n",
      "SCRSTATR\n",
      "1      455\n",
      "2      118\n",
      "3      115\n",
      "999     17\n",
      "Name: SCRSTATR, dtype: int64\n",
      "\n",
      "-------------------------------------------------------------\n",
      "\n",
      "LENGTHC1\n",
      "1    159\n",
      "2    153\n",
      "3     83\n",
      "4    105\n",
      "5    147\n",
      "6     58\n",
      "Name: LENGTHC1, dtype: int64\n",
      "\n",
      "-------------------------------------------------------------\n",
      "\n",
      "C1SITUAT\n",
      "1    395\n",
      "2     18\n",
      "3     74\n",
      "4     10\n",
      "9    208\n",
      "Name: C1SITUAT, dtype: int64\n",
      "\n",
      "-------------------------------------------------------------\n",
      "\n",
      "PABUSE\n",
      "1    464\n",
      "2     27\n",
      "3      6\n",
      "9    208\n",
      "Name: PABUSE, dtype: int64\n",
      "\n",
      "-------------------------------------------------------------\n",
      "\n",
      "D3RCHILT\n",
      "0      339\n",
      "1      136\n",
      "2      113\n",
      "3       57\n",
      "4       32\n",
      "5        9\n",
      "6        9\n",
      "7        5\n",
      "12       1\n",
      "555      1\n",
      "666      1\n",
      "999      2\n",
      "Name: D3RCHILT, dtype: int64\n",
      "\n",
      "-------------------------------------------------------------\n",
      "\n",
      "E13PRGNT\n",
      "1       74\n",
      "2      127\n",
      "3      492\n",
      "888      9\n",
      "999      3\n",
      "Name: E13PRGNT, dtype: int64\n",
      "\n",
      "-------------------------------------------------------------\n",
      "\n",
      "N7PREGNT\n",
      "1      130\n",
      "2      303\n",
      "3       52\n",
      "9      208\n",
      "777      5\n",
      "999      7\n",
      "Name: N7PREGNT, dtype: int64\n",
      "\n",
      "-------------------------------------------------------------\n",
      "\n",
      "TOTSUPRT\n",
      "0        9\n",
      "1       10\n",
      "2       16\n",
      "3       27\n",
      "4       20\n",
      "5       28\n",
      "6       35\n",
      "7       47\n",
      "8       57\n",
      "9       68\n",
      "10      98\n",
      "11     134\n",
      "12     154\n",
      "999      2\n",
      "Name: TOTSUPRT, dtype: int64\n",
      "\n",
      "-------------------------------------------------------------\n",
      "\n",
      "G1NUMBER\n",
      "1        22\n",
      "2         6\n",
      "3         2\n",
      "7         1\n",
      "15        1\n",
      "9999    654\n",
      "888       3\n",
      "999      16\n",
      "Name: G1NUMBER, dtype: int64\n",
      "\n",
      "-------------------------------------------------------------\n",
      "\n",
      "H1JEALUS\n",
      "1      487\n",
      "2      214\n",
      "4        1\n",
      "999      3\n",
      "Name: H1JEALUS, dtype: int64\n",
      "\n",
      "-------------------------------------------------------------\n",
      "\n",
      "H2LIMIT\n",
      "1      336\n",
      "2      365\n",
      "4        1\n",
      "999      3\n",
      "Name: H2LIMIT, dtype: int64\n",
      "\n",
      "-------------------------------------------------------------\n",
      "\n",
      "H3KNOWNG\n",
      "1      462\n",
      "2      238\n",
      "4        1\n",
      "999      4\n",
      "Name: H3KNOWNG, dtype: int64\n",
      "\n",
      "-------------------------------------------------------------\n",
      "\n",
      "J1HIT\n",
      "1      374\n",
      "2      325\n",
      "4        1\n",
      "666      1\n",
      "999      4\n",
      "Name: J1HIT, dtype: int64\n",
      "\n",
      "-------------------------------------------------------------\n",
      "\n",
      "J2THROWN\n",
      "1      235\n",
      "2      464\n",
      "4        1\n",
      "666      1\n",
      "999      4\n",
      "Name: J2THROWN, dtype: int64\n",
      "\n",
      "-------------------------------------------------------------\n",
      "\n",
      "J3PUSH\n",
      "1      436\n",
      "2      263\n",
      "4        1\n",
      "666      1\n",
      "999      4\n",
      "Name: J3PUSH, dtype: int64\n",
      "\n",
      "-------------------------------------------------------------\n",
      "\n",
      "J4SLAP\n",
      "1      327\n",
      "2      371\n",
      "4        1\n",
      "666      1\n",
      "999      5\n",
      "Name: J4SLAP, dtype: int64\n",
      "\n",
      "-------------------------------------------------------------\n",
      "\n",
      "J5KICK\n",
      "1      280\n",
      "2      419\n",
      "666      1\n",
      "888      1\n",
      "999      4\n",
      "Name: J5KICK, dtype: int64\n",
      "\n",
      "-------------------------------------------------------------\n",
      "\n",
      "J6OBJECT\n",
      "1      177\n",
      "2      522\n",
      "4        1\n",
      "666      1\n",
      "999      4\n",
      "Name: J6OBJECT, dtype: int64\n",
      "\n",
      "-------------------------------------------------------------\n",
      "\n",
      "J7BEAT\n",
      "1      221\n",
      "2      478\n",
      "4        1\n",
      "666      1\n",
      "999      4\n",
      "Name: J7BEAT, dtype: int64\n",
      "\n",
      "-------------------------------------------------------------\n",
      "\n",
      "J8CHOKE\n",
      "1      232\n",
      "2      468\n",
      "666      1\n",
      "999      4\n",
      "Name: J8CHOKE, dtype: int64\n",
      "\n",
      "-------------------------------------------------------------\n",
      "\n",
      "J9KNIFE\n",
      "1      112\n",
      "2      588\n",
      "666      1\n",
      "999      4\n",
      "Name: J9KNIFE, dtype: int64\n",
      "\n",
      "-------------------------------------------------------------\n",
      "\n",
      "J10GUN\n",
      "1       69\n",
      "2      631\n",
      "666      1\n",
      "999      4\n",
      "Name: J10GUN, dtype: int64\n",
      "\n",
      "-------------------------------------------------------------\n",
      "\n",
      "J11SEX\n",
      "1      174\n",
      "2      525\n",
      "4        1\n",
      "666      1\n",
      "999      4\n",
      "Name: J11SEX, dtype: int64\n",
      "\n",
      "-------------------------------------------------------------\n",
      "\n",
      "POWER\n",
      "0      120\n",
      "1      101\n",
      "2       83\n",
      "3      107\n",
      "4      116\n",
      "5      175\n",
      "999      3\n",
      "Name: POWER, dtype: int64\n",
      "\n",
      "-------------------------------------------------------------\n",
      "\n",
      "HARASS\n",
      "0     156\n",
      "1      90\n",
      "2      66\n",
      "3      63\n",
      "4      43\n",
      "5      60\n",
      "6      55\n",
      "7      38\n",
      "8      29\n",
      "9      21\n",
      "10     26\n",
      "11     13\n",
      "12     16\n",
      "13     13\n",
      "14      9\n",
      "15      3\n",
      "16      1\n",
      "17      3\n",
      "Name: HARASS, dtype: int64\n",
      "\n",
      "-------------------------------------------------------------\n",
      "\n",
      "B1AGE\n",
      "(17.95, 22.9]    170\n",
      "(22.9, 27.8]     114\n",
      "(27.8, 32.7]     117\n",
      "(32.7, 37.6]     116\n",
      "(37.6, 42.5]     101\n",
      "(42.5, 47.4]      44\n",
      "(47.4, 52.3]      28\n",
      "(52.3, 57.2]      11\n",
      "(57.2, 62.1]       2\n",
      "(62.1, 67.0]       2\n",
      "Name: B1AGE, dtype: int64\n",
      "\n",
      "-------------------------------------------------------------\n",
      "\n",
      "AGEDISP\n",
      "1      399\n",
      "2       41\n",
      "3       17\n",
      "4      143\n",
      "5       81\n",
      "6       15\n",
      "999      9\n",
      "Name: AGEDISP, dtype: int64\n",
      "\n",
      "-------------------------------------------------------------\n",
      "\n",
      "STDETAI\n",
      "1      171\n",
      "2      337\n",
      "3       14\n",
      "4        3\n",
      "5      173\n",
      "6        2\n",
      "7        2\n",
      "999      3\n",
      "Name: STDETAI, dtype: int64\n",
      "\n",
      "-------------------------------------------------------------\n",
      "\n",
      "SAMESEXR\n",
      "1        19\n",
      "9999    686\n",
      "Name: SAMESEXR, dtype: int64\n",
      "\n",
      "-------------------------------------------------------------\n",
      "\n",
      "N11DRUGS\n",
      "1      200\n",
      "2      480\n",
      "888     15\n",
      "999     10\n",
      "Name: N11DRUGS, dtype: int64\n",
      "\n",
      "-------------------------------------------------------------\n",
      "\n",
      "N12ALCHL\n",
      "1      285\n",
      "2      409\n",
      "888      3\n",
      "999      8\n",
      "Name: N12ALCHL, dtype: int64\n",
      "\n",
      "-------------------------------------------------------------\n",
      "\n",
      "N13SUHIM\n",
      "1      129\n",
      "2      554\n",
      "888     13\n",
      "999      9\n",
      "Name: N13SUHIM, dtype: int64\n",
      "\n",
      "-------------------------------------------------------------\n",
      "\n",
      "N16CHILD\n",
      "1       30\n",
      "2      643\n",
      "888     24\n",
      "999      8\n",
      "Name: N16CHILD, dtype: int64\n",
      "\n",
      "-------------------------------------------------------------\n",
      "\n",
      "N17ARRST\n",
      "1      375\n",
      "2      291\n",
      "888     31\n",
      "999      8\n",
      "Name: N17ARRST, dtype: int64\n",
      "\n",
      "-------------------------------------------------------------\n",
      "\n",
      "N1FRQNCY\n",
      "1      185\n",
      "2      304\n",
      "3      208\n",
      "888      1\n",
      "999      7\n",
      "Name: N1FRQNCY, dtype: int64\n",
      "\n",
      "-------------------------------------------------------------\n",
      "\n",
      "N2SVRITY\n",
      "1      189\n",
      "2      300\n",
      "3      208\n",
      "888      1\n",
      "999      7\n",
      "Name: N2SVRITY, dtype: int64\n",
      "\n",
      "-------------------------------------------------------------\n",
      "\n",
      "N3WEAPON\n",
      "1       185\n",
      "2       306\n",
      "3       204\n",
      "9999      1\n",
      "999       9\n",
      "Name: N3WEAPON, dtype: int64\n",
      "\n",
      "-------------------------------------------------------------\n",
      "\n",
      "N4CHOKE\n",
      "1       275\n",
      "2       217\n",
      "3       204\n",
      "9999      1\n",
      "999       8\n",
      "Name: N4CHOKE, dtype: int64\n",
      "\n",
      "-------------------------------------------------------------\n",
      "\n",
      "N5SEX\n",
      "1       217\n",
      "2       274\n",
      "3       204\n",
      "9999      1\n",
      "888       1\n",
      "999       8\n",
      "Name: N5SEX, dtype: int64\n",
      "\n",
      "-------------------------------------------------------------\n",
      "\n",
      "N6CONTRL\n",
      "1      302\n",
      "2      190\n",
      "3      204\n",
      "999      9\n",
      "Name: N6CONTRL, dtype: int64\n",
      "\n",
      "-------------------------------------------------------------\n",
      "\n",
      "N8JEALUS\n",
      "1      301\n",
      "2      189\n",
      "3      204\n",
      "888      2\n",
      "999      9\n",
      "Name: N8JEALUS, dtype: int64\n",
      "\n",
      "-------------------------------------------------------------\n",
      "\n",
      "N10CPBLE\n",
      "1       259\n",
      "2       210\n",
      "3       204\n",
      "9999      1\n",
      "888      23\n",
      "999       8\n",
      "Name: N10CPBLE, dtype: int64\n",
      "\n",
      "-------------------------------------------------------------\n",
      "\n"
     ]
    }
   ],
   "source": [
    "prepare.summarize_data(dfa)"
   ]
  },
  {
   "cell_type": "markdown",
   "metadata": {},
   "source": [
    "## We will utilize the first dataframe's Case IDs to group our incident data from set 10 to group by incident and identify surveyed individuals that were victim to more than one instance of abuse"
   ]
  },
  {
   "cell_type": "code",
   "execution_count": 113,
   "metadata": {},
   "outputs": [],
   "source": [
    "dfa['RECID'] = dfa.CASEID.apply(prepare.get_repeat_case)"
   ]
  },
  {
   "cell_type": "markdown",
   "metadata": {},
   "source": [
    "## _This new column, RECID, is a boolean value that tells us whether the cases were re-assault cases or not._"
   ]
  },
  {
   "cell_type": "code",
   "execution_count": 114,
   "metadata": {},
   "outputs": [
    {
     "name": "stdout",
     "output_type": "stream",
     "text": [
      "CASEID\n",
      "\n",
      "-------------------------------------------------------------\n",
      "\n",
      "ABUSED\n",
      "1    497\n",
      "2    208\n",
      "Name: ABUSED, dtype: int64\n",
      "\n",
      "-------------------------------------------------------------\n",
      "\n",
      "SCRSTATR\n",
      "1      455\n",
      "2      118\n",
      "3      115\n",
      "999     17\n",
      "Name: SCRSTATR, dtype: int64\n",
      "\n",
      "-------------------------------------------------------------\n",
      "\n",
      "LENGTHC1\n",
      "1    159\n",
      "2    153\n",
      "3     83\n",
      "4    105\n",
      "5    147\n",
      "6     58\n",
      "Name: LENGTHC1, dtype: int64\n",
      "\n",
      "-------------------------------------------------------------\n",
      "\n",
      "C1SITUAT\n",
      "1    395\n",
      "2     18\n",
      "3     74\n",
      "4     10\n",
      "9    208\n",
      "Name: C1SITUAT, dtype: int64\n",
      "\n",
      "-------------------------------------------------------------\n",
      "\n",
      "PABUSE\n",
      "1    464\n",
      "2     27\n",
      "3      6\n",
      "9    208\n",
      "Name: PABUSE, dtype: int64\n",
      "\n",
      "-------------------------------------------------------------\n",
      "\n",
      "D3RCHILT\n",
      "0      339\n",
      "1      136\n",
      "2      113\n",
      "3       57\n",
      "4       32\n",
      "5        9\n",
      "6        9\n",
      "7        5\n",
      "12       1\n",
      "555      1\n",
      "666      1\n",
      "999      2\n",
      "Name: D3RCHILT, dtype: int64\n",
      "\n",
      "-------------------------------------------------------------\n",
      "\n",
      "E13PRGNT\n",
      "1       74\n",
      "2      127\n",
      "3      492\n",
      "888      9\n",
      "999      3\n",
      "Name: E13PRGNT, dtype: int64\n",
      "\n",
      "-------------------------------------------------------------\n",
      "\n",
      "N7PREGNT\n",
      "1      130\n",
      "2      303\n",
      "3       52\n",
      "9      208\n",
      "777      5\n",
      "999      7\n",
      "Name: N7PREGNT, dtype: int64\n",
      "\n",
      "-------------------------------------------------------------\n",
      "\n",
      "TOTSUPRT\n",
      "0        9\n",
      "1       10\n",
      "2       16\n",
      "3       27\n",
      "4       20\n",
      "5       28\n",
      "6       35\n",
      "7       47\n",
      "8       57\n",
      "9       68\n",
      "10      98\n",
      "11     134\n",
      "12     154\n",
      "999      2\n",
      "Name: TOTSUPRT, dtype: int64\n",
      "\n",
      "-------------------------------------------------------------\n",
      "\n",
      "G1NUMBER\n",
      "1        22\n",
      "2         6\n",
      "3         2\n",
      "7         1\n",
      "15        1\n",
      "9999    654\n",
      "888       3\n",
      "999      16\n",
      "Name: G1NUMBER, dtype: int64\n",
      "\n",
      "-------------------------------------------------------------\n",
      "\n",
      "H1JEALUS\n",
      "1      487\n",
      "2      214\n",
      "4        1\n",
      "999      3\n",
      "Name: H1JEALUS, dtype: int64\n",
      "\n",
      "-------------------------------------------------------------\n",
      "\n",
      "H2LIMIT\n",
      "1      336\n",
      "2      365\n",
      "4        1\n",
      "999      3\n",
      "Name: H2LIMIT, dtype: int64\n",
      "\n",
      "-------------------------------------------------------------\n",
      "\n",
      "H3KNOWNG\n",
      "1      462\n",
      "2      238\n",
      "4        1\n",
      "999      4\n",
      "Name: H3KNOWNG, dtype: int64\n",
      "\n",
      "-------------------------------------------------------------\n",
      "\n",
      "J1HIT\n",
      "1      374\n",
      "2      325\n",
      "4        1\n",
      "666      1\n",
      "999      4\n",
      "Name: J1HIT, dtype: int64\n",
      "\n",
      "-------------------------------------------------------------\n",
      "\n",
      "J2THROWN\n",
      "1      235\n",
      "2      464\n",
      "4        1\n",
      "666      1\n",
      "999      4\n",
      "Name: J2THROWN, dtype: int64\n",
      "\n",
      "-------------------------------------------------------------\n",
      "\n",
      "J3PUSH\n",
      "1      436\n",
      "2      263\n",
      "4        1\n",
      "666      1\n",
      "999      4\n",
      "Name: J3PUSH, dtype: int64\n",
      "\n",
      "-------------------------------------------------------------\n",
      "\n",
      "J4SLAP\n",
      "1      327\n",
      "2      371\n",
      "4        1\n",
      "666      1\n",
      "999      5\n",
      "Name: J4SLAP, dtype: int64\n",
      "\n",
      "-------------------------------------------------------------\n",
      "\n",
      "J5KICK\n",
      "1      280\n",
      "2      419\n",
      "666      1\n",
      "888      1\n",
      "999      4\n",
      "Name: J5KICK, dtype: int64\n",
      "\n",
      "-------------------------------------------------------------\n",
      "\n",
      "J6OBJECT\n",
      "1      177\n",
      "2      522\n",
      "4        1\n",
      "666      1\n",
      "999      4\n",
      "Name: J6OBJECT, dtype: int64\n",
      "\n",
      "-------------------------------------------------------------\n",
      "\n",
      "J7BEAT\n",
      "1      221\n",
      "2      478\n",
      "4        1\n",
      "666      1\n",
      "999      4\n",
      "Name: J7BEAT, dtype: int64\n",
      "\n",
      "-------------------------------------------------------------\n",
      "\n",
      "J8CHOKE\n",
      "1      232\n",
      "2      468\n",
      "666      1\n",
      "999      4\n",
      "Name: J8CHOKE, dtype: int64\n",
      "\n",
      "-------------------------------------------------------------\n",
      "\n",
      "J9KNIFE\n",
      "1      112\n",
      "2      588\n",
      "666      1\n",
      "999      4\n",
      "Name: J9KNIFE, dtype: int64\n",
      "\n",
      "-------------------------------------------------------------\n",
      "\n",
      "J10GUN\n",
      "1       69\n",
      "2      631\n",
      "666      1\n",
      "999      4\n",
      "Name: J10GUN, dtype: int64\n",
      "\n",
      "-------------------------------------------------------------\n",
      "\n",
      "J11SEX\n",
      "1      174\n",
      "2      525\n",
      "4        1\n",
      "666      1\n",
      "999      4\n",
      "Name: J11SEX, dtype: int64\n",
      "\n",
      "-------------------------------------------------------------\n",
      "\n",
      "POWER\n",
      "0      120\n",
      "1      101\n",
      "2       83\n",
      "3      107\n",
      "4      116\n",
      "5      175\n",
      "999      3\n",
      "Name: POWER, dtype: int64\n",
      "\n",
      "-------------------------------------------------------------\n",
      "\n",
      "HARASS\n",
      "0     156\n",
      "1      90\n",
      "2      66\n",
      "3      63\n",
      "4      43\n",
      "5      60\n",
      "6      55\n",
      "7      38\n",
      "8      29\n",
      "9      21\n",
      "10     26\n",
      "11     13\n",
      "12     16\n",
      "13     13\n",
      "14      9\n",
      "15      3\n",
      "16      1\n",
      "17      3\n",
      "Name: HARASS, dtype: int64\n",
      "\n",
      "-------------------------------------------------------------\n",
      "\n",
      "B1AGE\n",
      "(17.95, 22.9]    170\n",
      "(22.9, 27.8]     114\n",
      "(27.8, 32.7]     117\n",
      "(32.7, 37.6]     116\n",
      "(37.6, 42.5]     101\n",
      "(42.5, 47.4]      44\n",
      "(47.4, 52.3]      28\n",
      "(52.3, 57.2]      11\n",
      "(57.2, 62.1]       2\n",
      "(62.1, 67.0]       2\n",
      "Name: B1AGE, dtype: int64\n",
      "\n",
      "-------------------------------------------------------------\n",
      "\n",
      "AGEDISP\n",
      "1      399\n",
      "2       41\n",
      "3       17\n",
      "4      143\n",
      "5       81\n",
      "6       15\n",
      "999      9\n",
      "Name: AGEDISP, dtype: int64\n",
      "\n",
      "-------------------------------------------------------------\n",
      "\n",
      "STDETAI\n",
      "1      171\n",
      "2      337\n",
      "3       14\n",
      "4        3\n",
      "5      173\n",
      "6        2\n",
      "7        2\n",
      "999      3\n",
      "Name: STDETAI, dtype: int64\n",
      "\n",
      "-------------------------------------------------------------\n",
      "\n",
      "SAMESEXR\n",
      "1        19\n",
      "9999    686\n",
      "Name: SAMESEXR, dtype: int64\n",
      "\n",
      "-------------------------------------------------------------\n",
      "\n",
      "N11DRUGS\n",
      "1      200\n",
      "2      480\n",
      "888     15\n",
      "999     10\n",
      "Name: N11DRUGS, dtype: int64\n",
      "\n",
      "-------------------------------------------------------------\n",
      "\n",
      "N12ALCHL\n",
      "1      285\n",
      "2      409\n",
      "888      3\n",
      "999      8\n",
      "Name: N12ALCHL, dtype: int64\n",
      "\n",
      "-------------------------------------------------------------\n",
      "\n",
      "N13SUHIM\n",
      "1      129\n",
      "2      554\n",
      "888     13\n",
      "999      9\n",
      "Name: N13SUHIM, dtype: int64\n",
      "\n",
      "-------------------------------------------------------------\n",
      "\n",
      "N16CHILD\n",
      "1       30\n",
      "2      643\n",
      "888     24\n",
      "999      8\n",
      "Name: N16CHILD, dtype: int64\n",
      "\n",
      "-------------------------------------------------------------\n",
      "\n",
      "N17ARRST\n",
      "1      375\n",
      "2      291\n",
      "888     31\n",
      "999      8\n",
      "Name: N17ARRST, dtype: int64\n",
      "\n",
      "-------------------------------------------------------------\n",
      "\n",
      "N1FRQNCY\n",
      "1      185\n",
      "2      304\n",
      "3      208\n",
      "888      1\n",
      "999      7\n",
      "Name: N1FRQNCY, dtype: int64\n",
      "\n",
      "-------------------------------------------------------------\n",
      "\n",
      "N2SVRITY\n",
      "1      189\n",
      "2      300\n",
      "3      208\n",
      "888      1\n",
      "999      7\n",
      "Name: N2SVRITY, dtype: int64\n",
      "\n",
      "-------------------------------------------------------------\n",
      "\n",
      "N3WEAPON\n",
      "1       185\n",
      "2       306\n",
      "3       204\n",
      "9999      1\n",
      "999       9\n",
      "Name: N3WEAPON, dtype: int64\n",
      "\n",
      "-------------------------------------------------------------\n",
      "\n",
      "N4CHOKE\n",
      "1       275\n",
      "2       217\n",
      "3       204\n",
      "9999      1\n",
      "999       8\n",
      "Name: N4CHOKE, dtype: int64\n",
      "\n",
      "-------------------------------------------------------------\n",
      "\n",
      "N5SEX\n",
      "1       217\n",
      "2       274\n",
      "3       204\n",
      "9999      1\n",
      "888       1\n",
      "999       8\n",
      "Name: N5SEX, dtype: int64\n",
      "\n",
      "-------------------------------------------------------------\n",
      "\n",
      "N6CONTRL\n",
      "1      302\n",
      "2      190\n",
      "3      204\n",
      "999      9\n",
      "Name: N6CONTRL, dtype: int64\n",
      "\n",
      "-------------------------------------------------------------\n",
      "\n",
      "N8JEALUS\n",
      "1      301\n",
      "2      189\n",
      "3      204\n",
      "888      2\n",
      "999      9\n",
      "Name: N8JEALUS, dtype: int64\n",
      "\n",
      "-------------------------------------------------------------\n",
      "\n",
      "N10CPBLE\n",
      "1       259\n",
      "2       210\n",
      "3       204\n",
      "9999      1\n",
      "888      23\n",
      "999       8\n",
      "Name: N10CPBLE, dtype: int64\n",
      "\n",
      "-------------------------------------------------------------\n",
      "\n",
      "RECID\n",
      "0    355\n",
      "1    350\n",
      "Name: RECID, dtype: int64\n",
      "\n",
      "-------------------------------------------------------------\n",
      "\n"
     ]
    }
   ],
   "source": [
    "# look at unaltered value counts\n",
    "prepare.value_counts(dfa)"
   ]
  },
  {
   "cell_type": "code",
   "execution_count": 115,
   "metadata": {},
   "outputs": [],
   "source": [
    "#use prepare function to rename features \n",
    "dfa = prepare.rename_columns_all(dfa)\n",
    "# use prepare function to re-encode data\n",
    "prepare.replace_nonvals_all(dfa)"
   ]
  },
  {
   "cell_type": "code",
   "execution_count": 116,
   "metadata": {},
   "outputs": [
    {
     "name": "stdout",
     "output_type": "stream",
     "text": [
      "<class 'pandas.core.frame.DataFrame'>\n",
      "RangeIndex: 705 entries, 0 to 704\n",
      "Data columns (total 45 columns):\n",
      "id                              705 non-null int64\n",
      "abuse_past_year                 705 non-null int64\n",
      "abuse_status                    705 non-null int64\n",
      "length_relationship             705 non-null int64\n",
      "partner_abusive                 705 non-null int64\n",
      "num_abusers                     705 non-null int64\n",
      "num_children                    705 non-null int64\n",
      "pregnant                        705 non-null int64\n",
      "beaten_while_pregnant           705 non-null int64\n",
      "support_score                   705 non-null int64\n",
      "guns_in_home                    705 non-null int64\n",
      "jealous_past_year               705 non-null int64\n",
      "limit_family_contact            705 non-null int64\n",
      "location_tracking               705 non-null int64\n",
      "threat_hit                      705 non-null int64\n",
      "thrown_object                   705 non-null int64\n",
      "push_shove                      705 non-null int64\n",
      "slap                            705 non-null int64\n",
      "kick_punch                      705 non-null int64\n",
      "hit_object                      705 non-null int64\n",
      "beaten                          705 non-null int64\n",
      "choked                          705 non-null int64\n",
      "threat_knife                    705 non-null int64\n",
      "threat_gun                      705 non-null int64\n",
      "rape_with_threat                705 non-null int64\n",
      "power_scale                     705 non-null int64\n",
      "harass_scale                    705 non-null int64\n",
      "id_age                          705 non-null int64\n",
      "age_disparity                   705 non-null int64\n",
      "children_not_partner            705 non-null int64\n",
      "same_sex_relationship           705 non-null int64\n",
      "partner_drug_use                705 non-null int64\n",
      "partner_alcohol_use             705 non-null int64\n",
      "threat_suicide                  705 non-null int64\n",
      "partner_reported_child_abuse    705 non-null int64\n",
      "partner_arrested                705 non-null int64\n",
      "violence_increased              705 non-null int64\n",
      "severity_increased              705 non-null int64\n",
      "weapon_ever                     705 non-null int64\n",
      "choked_ever                     705 non-null int64\n",
      "rape_ever                       705 non-null int64\n",
      "controlled_ever                 705 non-null int64\n",
      "jealous                         705 non-null int64\n",
      "capable_murder                  705 non-null int64\n",
      "reassault                       705 non-null int64\n",
      "dtypes: int64(45)\n",
      "memory usage: 247.9 KB\n"
     ]
    }
   ],
   "source": [
    "# ensure renaming of features worked\n",
    "dfa.info()"
   ]
  },
  {
   "cell_type": "code",
   "execution_count": 117,
   "metadata": {},
   "outputs": [],
   "source": [
    "# create list of features\n",
    "features = [col for col in dfa]\n",
    "# drop features from this list that are perceived as primary key or target variable\n",
    "features.remove('id')\n",
    "features.remove('abuse_past_year')\n",
    "features.remove('abuse_status')"
   ]
  },
  {
   "cell_type": "code",
   "execution_count": 118,
   "metadata": {},
   "outputs": [],
   "source": [
    "# split train and test\n",
    "X = dfa[features]\n",
    "y = dfa[['abuse_past_year']]\n",
    "X_train, X_test, y_train, y_test = train_test_split(X, y, test_size = .15, random_state = 0, stratify=y)\n",
    "\n",
    "train_df = pd.concat([X_train, y_train], axis=1)\n",
    "test_df = pd.concat([X_test, y_test], axis=1)"
   ]
  },
  {
   "cell_type": "markdown",
   "metadata": {},
   "source": [
    "# EXPLORATION"
   ]
  },
  {
   "cell_type": "markdown",
   "metadata": {},
   "source": [
    "### We want to eliminate the explicitly violent features (because we are modeling first on predicting abuse or no abuse), so we drop columns from the df and only select features that are not about extremely violent acts/info. Also drop the features that are 'continuous' variables. These are the harass scale, power scale, age id and the age disparity."
   ]
  },
  {
   "cell_type": "code",
   "execution_count": 119,
   "metadata": {},
   "outputs": [],
   "source": [
    "# we will refer to this list of variables as 'keep'\n",
    "\n",
    "keep = list(dfa.drop(columns={'id','abuse_past_year', 'abuse_status','partner_abusive', 'num_abusers','beaten_while_pregnant','threat_hit', 'thrown_object', 'push_shove', 'slap', 'kick_punch',\n",
    "       'hit_object', 'beaten', 'choked', 'threat_knife', 'threat_gun','rape_with_threat','threat_suicide','violence_increased', 'severity_increased', 'weapon_ever',\n",
    "       'choked_ever', 'rape_ever','capable_murder'}).columns)\n",
    "keep.remove('length_relationship')\n",
    "keep.remove('id_age')\n",
    "keep.remove('reassault')\n",
    "\n",
    "# add the continuous variables into their own list\n",
    "continuous_vars = ['length_relationship', 'id_age']"
   ]
  },
  {
   "cell_type": "markdown",
   "metadata": {},
   "source": [
    "## We will run chi-squared tests on our categorical variables in order to get a grasp of importance"
   ]
  },
  {
   "cell_type": "code",
   "execution_count": 120,
   "metadata": {},
   "outputs": [
    {
     "name": "stdout",
     "output_type": "stream",
     "text": [
      "pregnant\n",
      "Dependent (reject H0)\n",
      "-----------------------\n",
      "support_score\n",
      "Dependent (reject H0)\n",
      "-----------------------\n",
      "jealous_past_year\n",
      "Dependent (reject H0)\n",
      "-----------------------\n",
      "limit_family_contact\n",
      "Dependent (reject H0)\n",
      "-----------------------\n",
      "location_tracking\n",
      "Dependent (reject H0)\n",
      "-----------------------\n",
      "power_scale\n",
      "Dependent (reject H0)\n",
      "-----------------------\n",
      "harass_scale\n",
      "Dependent (reject H0)\n",
      "-----------------------\n",
      "children_not_partner\n",
      "Dependent (reject H0)\n",
      "-----------------------\n",
      "partner_drug_use\n",
      "Dependent (reject H0)\n",
      "-----------------------\n",
      "partner_alcohol_use\n",
      "Dependent (reject H0)\n",
      "-----------------------\n",
      "partner_arrested\n",
      "Dependent (reject H0)\n",
      "-----------------------\n",
      "controlled_ever\n",
      "Dependent (reject H0)\n",
      "-----------------------\n",
      "jealous\n",
      "Dependent (reject H0)\n",
      "-----------------------\n"
     ]
    }
   ],
   "source": [
    "# we will run chi-squared tests on our categorical variables in order to get a grasp of importance\n",
    "sig_feats, sig_dict = explore.get_chi_squared(train_df, keep, 'abuse_past_year')"
   ]
  },
  {
   "cell_type": "code",
   "execution_count": 121,
   "metadata": {},
   "outputs": [
    {
     "name": "stderr",
     "output_type": "stream",
     "text": [
      "/usr/local/anaconda3/lib/python3.7/site-packages/sklearn/preprocessing/data.py:323: DataConversionWarning: Data with input dtype int64 were all converted to float64 by MinMaxScaler.\n",
      "  return self.partial_fit(X, y)\n"
     ]
    }
   ],
   "source": [
    "# scale continuous variables\n",
    "scaler = MinMaxScaler()\n",
    "\n",
    "scaler.fit(train_df[continuous_vars])\n",
    "\n",
    "train_df[continuous_vars] = scaler.transform(train_df[continuous_vars])\n",
    "test_df[continuous_vars] = scaler.transform(test_df[continuous_vars])"
   ]
  },
  {
   "cell_type": "code",
   "execution_count": 122,
   "metadata": {
    "scrolled": true
   },
   "outputs": [
    {
     "data": {
      "text/plain": [
       "['length_relationship', 'id_age']"
      ]
     },
     "execution_count": 122,
     "metadata": {},
     "output_type": "execute_result"
    }
   ],
   "source": [
    "continuous_vars"
   ]
  },
  {
   "cell_type": "code",
   "execution_count": 123,
   "metadata": {},
   "outputs": [],
   "source": [
    "sig_feats_c, sig_dict_c = explore.get_significant_t_tests(train_df, continuous_vars)"
   ]
  },
  {
   "cell_type": "code",
   "execution_count": 124,
   "metadata": {},
   "outputs": [],
   "source": [
    "# call function that combines significant features from dictionaries created in statistical tests if both generated results\n",
    "# otherwise make list of features just from whichever (t test or chi squared) produced significant results\n",
    "if sig_feats_c and sig_feats:\n",
    "    features = explore.combine_significants(sig_dict, sig_dict_c)\n",
    "elif sig_feats_c:\n",
    "    features = [item[0] for item in explore.sort_sigs(sig_dict_c)]\n",
    "elif sig_feats:\n",
    "    features = [item[0] for item in explore.sort_sigs(sig_dict)]"
   ]
  },
  {
   "cell_type": "code",
   "execution_count": 125,
   "metadata": {},
   "outputs": [
    {
     "name": "stderr",
     "output_type": "stream",
     "text": [
      "/usr/local/anaconda3/lib/python3.7/site-packages/scipy/stats/stats.py:1713: FutureWarning: Using a non-tuple sequence for multidimensional indexing is deprecated; use `arr[tuple(seq)]` instead of `arr[seq]`. In the future this will be interpreted as an array index, `arr[np.array(seq)]`, which will result either in an error or a different result.\n",
      "  return np.add.reduce(sorted[indexer] * weights, axis=axis) / sumval\n"
     ]
    },
    {
     "data": {
      "image/png": "[encoded data removed]",
      "text/plain": [
       "<Figure size 1080x10296 with 13 Axes>"
      ]
     },
     "metadata": {
      "needs_background": "light"
     },
     "output_type": "display_data"
    }
   ],
   "source": [
    "explore.make_bars(train_df, 'abuse_past_year', features)"
   ]
  },
  {
   "cell_type": "code",
   "execution_count": 24,
   "metadata": {},
   "outputs": [
    {
     "data": {
      "image/png": "[encoded data removed]",
      "text/plain": [
       "<Figure size 288x1008 with 1 Axes>"
      ]
     },
     "metadata": {
      "needs_background": "light"
     },
     "output_type": "display_data"
    },
    {
     "data": {
      "image/png": "[encoded data removed]",
      "text/plain": [
       "<Figure size 288x1008 with 1 Axes>"
      ]
     },
     "metadata": {
      "needs_background": "light"
     },
     "output_type": "display_data"
    }
   ],
   "source": [
    "explore.swarrrm(train_df, 'abuse_past_year', continuous_vars)"
   ]
  },
  {
   "cell_type": "code",
   "execution_count": 25,
   "metadata": {},
   "outputs": [
    {
     "data": {
      "image/png": "[encoded data removed]",
      "text/plain": [
       "<Figure size 432x288 with 1 Axes>"
      ]
     },
     "metadata": {
      "needs_background": "light"
     },
     "output_type": "display_data"
    },
    {
     "data": {
      "image/png": "[encoded data removed]",
      "text/plain": [
       "<Figure size 432x288 with 1 Axes>"
      ]
     },
     "metadata": {
      "needs_background": "light"
     },
     "output_type": "display_data"
    }
   ],
   "source": [
    "for feature in continuous_vars:\n",
    "    sns.lineplot(x=feature, y='abuse_past_year', data=train_df)\n",
    "    plt.show()"
   ]
  },
  {
   "cell_type": "code",
   "execution_count": 26,
   "metadata": {},
   "outputs": [
    {
     "data": {
      "image/png": "[encoded data removed]",
      "text/plain": [
       "<Figure size 1728x1440 with 49 Axes>"
      ]
     },
     "metadata": {
      "needs_background": "light"
     },
     "output_type": "display_data"
    }
   ],
   "source": [
    "# histograms\n",
    "# normalization(?)\n",
    "plot_hist(train_df)"
   ]
  },
  {
   "cell_type": "code",
   "execution_count": 27,
   "metadata": {},
   "outputs": [
    {
     "data": {
      "image/png": "[encoded data removed]",
      "text/plain": [
       "<Figure size 479.875x360 with 1 Axes>"
      ]
     },
     "metadata": {
      "needs_background": "light"
     },
     "output_type": "display_data"
    }
   ],
   "source": [
    "explore.make_rel(train_df, 'id_age', 'age_disparity', hue='abuse_past_year')"
   ]
  },
  {
   "cell_type": "markdown",
   "metadata": {},
   "source": [
    "# t-Distributed Stochastic Neighbor Embedding (t-SNE)"
   ]
  },
  {
   "cell_type": "code",
   "execution_count": 28,
   "metadata": {},
   "outputs": [
    {
     "name": "stdout",
     "output_type": "stream",
     "text": [
      "[t-SNE] Computing pairwise distances...\n",
      "[t-SNE] Computed conditional probabilities for sample 599 / 599\n",
      "[t-SNE] Mean sigma: 3.046619\n",
      "[t-SNE] KL divergence after 250 iterations with early exaggeration: 63.656425\n",
      "[t-SNE] KL divergence after 251 iterations: 179769313486231570814527423731704356798070567525844996598917476803157260780028538760589558632766878171540458953514382464234321326889464182768467546703537516986049910576551282076245490090389328944075868508455133942304583236903222948165808559332123348274797826204144723168738177180919299881250404026184124858368.000000\n",
      "t-SNE done! Time elapsed: 3.3596041202545166 seconds\n"
     ]
    }
   ],
   "source": [
    "sns.set_style('darkgrid')\n",
    "sns.set_palette('muted')\n",
    "sns.set_context(\"notebook\", font_scale=1.5,\n",
    "                rc={\"lines.linewidth\": 2.5})\n",
    "RS = 123\n",
    "time_start = time.time()\n",
    "\n",
    "fashion_tsne = TSNE(n_components=2, verbose=1, perplexity=30, n_iter=250, method='exact')\n",
    "tsne_results = fashion_tsne.fit_transform(X_train)\n",
    "\n",
    "print(('t-SNE done! Time elapsed: {} seconds').format(time.time()-time_start))"
   ]
  },
  {
   "cell_type": "code",
   "execution_count": null,
   "metadata": {},
   "outputs": [],
   "source": []
  },
  {
   "cell_type": "code",
   "execution_count": 29,
   "metadata": {},
   "outputs": [],
   "source": [
    "# Label to color dict (manual)\n",
    "label_color_dict = {1:'Abuse',0:'Not Abuse'}\n",
    "\n",
    "# Color vector creation\n",
    "cvec = [label_color_dict[label] for label in y_train.abuse_past_year]"
   ]
  },
  {
   "cell_type": "markdown",
   "metadata": {},
   "source": [
    "# PLot t-sne"
   ]
  },
  {
   "cell_type": "code",
   "execution_count": 30,
   "metadata": {},
   "outputs": [
    {
     "data": {
      "text/plain": [
       "<matplotlib.axes._subplots.AxesSubplot at 0x1a1b698978>"
      ]
     },
     "execution_count": 30,
     "metadata": {},
     "output_type": "execute_result"
    },
    {
     "data": {
      "image/png": "[encoded data removed]",
      "text/plain": [
       "<Figure size 1152x720 with 1 Axes>"
      ]
     },
     "metadata": {},
     "output_type": "display_data"
    }
   ],
   "source": [
    "plt.figure(figsize=(16,10))\n",
    "sns.scatterplot(\n",
    "    x=tsne_results[:,0], y=tsne_results[:,1],\n",
    "    hue=cvec,\n",
    "    data=X_train,\n",
    "    legend=\"full\",\n",
    "    alpha=0.4\n",
    ")"
   ]
  },
  {
   "cell_type": "code",
   "execution_count": null,
   "metadata": {},
   "outputs": [],
   "source": []
  },
  {
   "cell_type": "markdown",
   "metadata": {},
   "source": [
    "# Naive Bayes"
   ]
  },
  {
   "cell_type": "code",
   "execution_count": 65,
   "metadata": {},
   "outputs": [],
   "source": [
    "from sklearn.naive_bayes import GaussianNB\n",
    "from sklearn.metrics import classification_report\n",
    "from sklearn.metrics import confusion_matrix"
   ]
  },
  {
   "cell_type": "code",
   "execution_count": 66,
   "metadata": {},
   "outputs": [],
   "source": [
    "X = df[keep]\n",
    "y = df[['abuse_past_year']]\n",
    "\n",
    "X_train, X_test, y_train, y_test = train_test_split(X, y, test_size = .15, random_state = 0, stratify=y)\n",
    "\n",
    "train_df = pd.concat([X_train, y_train], axis=1)\n",
    "test_df = pd.concat([X_test, y_test], axis=1)"
   ]
  },
  {
   "cell_type": "code",
   "execution_count": 67,
   "metadata": {},
   "outputs": [],
   "source": [
    "gnb = GaussianNB()\n"
   ]
  },
  {
   "cell_type": "code",
   "execution_count": 68,
   "metadata": {},
   "outputs": [
    {
     "name": "stderr",
     "output_type": "stream",
     "text": [
      "/usr/local/anaconda3/lib/python3.7/site-packages/sklearn/utils/validation.py:578: DataConversionWarning: A column-vector y was passed when a 1d array was expected. Please change the shape of y to (n_samples, ), for example using ravel().\n",
      "  y = column_or_1d(y, warn=True)\n"
     ]
    },
    {
     "data": {
      "text/plain": [
       "GaussianNB(priors=None)"
      ]
     },
     "execution_count": 68,
     "metadata": {},
     "output_type": "execute_result"
    }
   ],
   "source": [
    "gnb.fit(X_train, y_train)\n"
   ]
  },
  {
   "cell_type": "code",
   "execution_count": 69,
   "metadata": {},
   "outputs": [],
   "source": [
    "y_pred = gnb.predict(X_train)"
   ]
  },
  {
   "cell_type": "code",
   "execution_count": 70,
   "metadata": {},
   "outputs": [],
   "source": [
    "y_pred_proba = gnb.predict_proba(X_train)"
   ]
  },
  {
   "cell_type": "code",
   "execution_count": 71,
   "metadata": {},
   "outputs": [
    {
     "name": "stdout",
     "output_type": "stream",
     "text": [
      "Accuracy of GNB classifier on training set: 0.91\n"
     ]
    }
   ],
   "source": [
    "print('Accuracy of GNB classifier on training set: {:.2f}'\n",
    "     .format(gnb.score(X_train, y_train)))"
   ]
  },
  {
   "cell_type": "code",
   "execution_count": 72,
   "metadata": {},
   "outputs": [
    {
     "name": "stdout",
     "output_type": "stream",
     "text": [
      "[[170   7]\n",
      " [ 49 373]]\n"
     ]
    }
   ],
   "source": [
    "print(confusion_matrix(y_train, y_pred))\n"
   ]
  },
  {
   "cell_type": "code",
   "execution_count": 73,
   "metadata": {},
   "outputs": [
    {
     "name": "stdout",
     "output_type": "stream",
     "text": [
      "             precision    recall  f1-score   support\n",
      "\n",
      "          0       0.78      0.96      0.86       177\n",
      "          1       0.98      0.88      0.93       422\n",
      "\n",
      "avg / total       0.92      0.91      0.91       599\n",
      "\n"
     ]
    }
   ],
   "source": [
    "print(classification_report(y_train, y_pred))\n"
   ]
  },
  {
   "cell_type": "markdown",
   "metadata": {},
   "source": [
    "# This Gaussian Naive Bayes Model performed well at 91% accuracy with the following features:"
   ]
  },
  {
   "cell_type": "code",
   "execution_count": 74,
   "metadata": {},
   "outputs": [
    {
     "data": {
      "text/plain": [
       "['length_relationship',\n",
       " 'num_children',\n",
       " 'pregnant',\n",
       " 'support_score',\n",
       " 'guns_in_home',\n",
       " 'jealous_past_year',\n",
       " 'limit_family_contact',\n",
       " 'location_tracking',\n",
       " 'power_scale',\n",
       " 'id_age',\n",
       " 'age_disparity',\n",
       " 'children_not_partner',\n",
       " 'same_sex_relationship',\n",
       " 'partner_drug_use',\n",
       " 'partner_alcohol_use',\n",
       " 'partner_reported_child_abuse',\n",
       " 'partner_arrested',\n",
       " 'controlled_ever',\n",
       " 'jealous',\n",
       " 'reassault']"
      ]
     },
     "execution_count": 74,
     "metadata": {},
     "output_type": "execute_result"
    }
   ],
   "source": [
    "keep"
   ]
  },
  {
   "cell_type": "markdown",
   "metadata": {},
   "source": [
    "## Try another GNB model with a lot fewer features. These are the top 5 features of significance according to the chi squared testing."
   ]
  },
  {
   "cell_type": "code",
   "execution_count": 75,
   "metadata": {},
   "outputs": [],
   "source": [
    "top5 = ['threat_hit',\n",
    "             'controlled_ever',\n",
    "             'jealous',\n",
    "             'location_tracking',\n",
    "             'thrown_object'\n",
    "            ]"
   ]
  },
  {
   "cell_type": "code",
   "execution_count": 76,
   "metadata": {},
   "outputs": [],
   "source": [
    "X = df[top5]\n",
    "y = df[['abuse_past_year']]\n",
    "\n",
    "X_train, X_test, y_train, y_test = train_test_split(X, y, test_size = .15, random_state = 0, stratify=y)\n",
    "\n",
    "train_df = pd.concat([X_train, y_train], axis=1)\n",
    "test_df = pd.concat([X_test, y_test], axis=1)"
   ]
  },
  {
   "cell_type": "code",
   "execution_count": 77,
   "metadata": {},
   "outputs": [],
   "source": [
    "gnb = GaussianNB()"
   ]
  },
  {
   "cell_type": "code",
   "execution_count": 78,
   "metadata": {},
   "outputs": [
    {
     "name": "stderr",
     "output_type": "stream",
     "text": [
      "/usr/local/anaconda3/lib/python3.7/site-packages/sklearn/utils/validation.py:578: DataConversionWarning: A column-vector y was passed when a 1d array was expected. Please change the shape of y to (n_samples, ), for example using ravel().\n",
      "  y = column_or_1d(y, warn=True)\n"
     ]
    },
    {
     "data": {
      "text/plain": [
       "GaussianNB(priors=None)"
      ]
     },
     "execution_count": 78,
     "metadata": {},
     "output_type": "execute_result"
    }
   ],
   "source": [
    "gnb.fit(X_train, y_train)"
   ]
  },
  {
   "cell_type": "code",
   "execution_count": 79,
   "metadata": {},
   "outputs": [],
   "source": [
    "y_pred = gnb.predict(X_train)"
   ]
  },
  {
   "cell_type": "code",
   "execution_count": 80,
   "metadata": {},
   "outputs": [],
   "source": [
    "y_pred_proba = gnb.predict_proba(X_train)"
   ]
  },
  {
   "cell_type": "code",
   "execution_count": 81,
   "metadata": {},
   "outputs": [
    {
     "name": "stdout",
     "output_type": "stream",
     "text": [
      "Accuracy of GNB classifier on training set: 0.93\n",
      "[[174   3]\n",
      " [ 38 384]]\n",
      "             precision    recall  f1-score   support\n",
      "\n",
      "          0       0.82      0.98      0.89       177\n",
      "          1       0.99      0.91      0.95       422\n",
      "\n",
      "avg / total       0.94      0.93      0.93       599\n",
      "\n"
     ]
    }
   ],
   "source": [
    "print('Accuracy of GNB classifier on training set: {:.2f}'\n",
    "     .format(gnb.score(X_train, y_train)))\n",
    "\n",
    "print(confusion_matrix(y_train, y_pred))\n",
    "\n",
    "\n",
    "print(classification_report(y_train, y_pred))"
   ]
  },
  {
   "cell_type": "markdown",
   "metadata": {},
   "source": [
    "# The GNB model performs better with the top 5 features. It has accuracy of 93%."
   ]
  },
  {
   "cell_type": "code",
   "execution_count": null,
   "metadata": {},
   "outputs": [],
   "source": []
  },
  {
   "cell_type": "code",
   "execution_count": null,
   "metadata": {},
   "outputs": [],
   "source": []
  },
  {
   "cell_type": "code",
   "execution_count": null,
   "metadata": {},
   "outputs": [],
   "source": []
  },
  {
   "cell_type": "code",
   "execution_count": null,
   "metadata": {},
   "outputs": [],
   "source": []
  },
  {
   "cell_type": "code",
   "execution_count": null,
   "metadata": {},
   "outputs": [],
   "source": []
  },
  {
   "cell_type": "markdown",
   "metadata": {},
   "source": [
    "## 1. Logistic Regression w/ Cross Validation"
   ]
  },
  {
   "cell_type": "code",
   "execution_count": 31,
   "metadata": {},
   "outputs": [
    {
     "name": "stderr",
     "output_type": "stream",
     "text": [
      "/usr/local/anaconda3/lib/python3.7/site-packages/sklearn/utils/validation.py:761: DataConversionWarning: A column-vector y was passed when a 1d array was expected. Please change the shape of y to (n_samples, ), for example using ravel().\n",
      "  y = column_or_1d(y, warn=True)\n",
      "/usr/local/anaconda3/lib/python3.7/site-packages/sklearn/linear_model/logistic.py:758: ConvergenceWarning: lbfgs failed to converge. Increase the number of iterations.\n",
      "  \"of iterations.\", ConvergenceWarning)\n",
      "/usr/local/anaconda3/lib/python3.7/site-packages/sklearn/linear_model/logistic.py:758: ConvergenceWarning: lbfgs failed to converge. Increase the number of iterations.\n",
      "  \"of iterations.\", ConvergenceWarning)\n",
      "/usr/local/anaconda3/lib/python3.7/site-packages/sklearn/linear_model/logistic.py:758: ConvergenceWarning: lbfgs failed to converge. Increase the number of iterations.\n",
      "  \"of iterations.\", ConvergenceWarning)\n",
      "/usr/local/anaconda3/lib/python3.7/site-packages/sklearn/linear_model/logistic.py:758: ConvergenceWarning: lbfgs failed to converge. Increase the number of iterations.\n",
      "  \"of iterations.\", ConvergenceWarning)\n",
      "/usr/local/anaconda3/lib/python3.7/site-packages/sklearn/linear_model/logistic.py:758: ConvergenceWarning: lbfgs failed to converge. Increase the number of iterations.\n",
      "  \"of iterations.\", ConvergenceWarning)\n",
      "/usr/local/anaconda3/lib/python3.7/site-packages/sklearn/linear_model/logistic.py:758: ConvergenceWarning: lbfgs failed to converge. Increase the number of iterations.\n",
      "  \"of iterations.\", ConvergenceWarning)\n",
      "/usr/local/anaconda3/lib/python3.7/site-packages/sklearn/linear_model/logistic.py:758: ConvergenceWarning: lbfgs failed to converge. Increase the number of iterations.\n",
      "  \"of iterations.\", ConvergenceWarning)\n",
      "/usr/local/anaconda3/lib/python3.7/site-packages/sklearn/linear_model/logistic.py:758: ConvergenceWarning: lbfgs failed to converge. Increase the number of iterations.\n",
      "  \"of iterations.\", ConvergenceWarning)\n",
      "/usr/local/anaconda3/lib/python3.7/site-packages/sklearn/linear_model/logistic.py:758: ConvergenceWarning: lbfgs failed to converge. Increase the number of iterations.\n",
      "  \"of iterations.\", ConvergenceWarning)\n",
      "/usr/local/anaconda3/lib/python3.7/site-packages/sklearn/linear_model/logistic.py:758: ConvergenceWarning: lbfgs failed to converge. Increase the number of iterations.\n",
      "  \"of iterations.\", ConvergenceWarning)\n",
      "/usr/local/anaconda3/lib/python3.7/site-packages/sklearn/linear_model/logistic.py:758: ConvergenceWarning: lbfgs failed to converge. Increase the number of iterations.\n",
      "  \"of iterations.\", ConvergenceWarning)\n",
      "/usr/local/anaconda3/lib/python3.7/site-packages/sklearn/linear_model/logistic.py:758: ConvergenceWarning: lbfgs failed to converge. Increase the number of iterations.\n",
      "  \"of iterations.\", ConvergenceWarning)\n",
      "/usr/local/anaconda3/lib/python3.7/site-packages/sklearn/linear_model/logistic.py:758: ConvergenceWarning: lbfgs failed to converge. Increase the number of iterations.\n",
      "  \"of iterations.\", ConvergenceWarning)\n",
      "/usr/local/anaconda3/lib/python3.7/site-packages/sklearn/linear_model/logistic.py:758: ConvergenceWarning: lbfgs failed to converge. Increase the number of iterations.\n",
      "  \"of iterations.\", ConvergenceWarning)\n",
      "/usr/local/anaconda3/lib/python3.7/site-packages/sklearn/linear_model/logistic.py:758: ConvergenceWarning: lbfgs failed to converge. Increase the number of iterations.\n",
      "  \"of iterations.\", ConvergenceWarning)\n",
      "/usr/local/anaconda3/lib/python3.7/site-packages/sklearn/linear_model/logistic.py:758: ConvergenceWarning: lbfgs failed to converge. Increase the number of iterations.\n",
      "  \"of iterations.\", ConvergenceWarning)\n",
      "/usr/local/anaconda3/lib/python3.7/site-packages/sklearn/linear_model/logistic.py:758: ConvergenceWarning: lbfgs failed to converge. Increase the number of iterations.\n",
      "  \"of iterations.\", ConvergenceWarning)\n",
      "/usr/local/anaconda3/lib/python3.7/site-packages/sklearn/linear_model/logistic.py:758: ConvergenceWarning: lbfgs failed to converge. Increase the number of iterations.\n",
      "  \"of iterations.\", ConvergenceWarning)\n",
      "/usr/local/anaconda3/lib/python3.7/site-packages/sklearn/linear_model/logistic.py:758: ConvergenceWarning: lbfgs failed to converge. Increase the number of iterations.\n",
      "  \"of iterations.\", ConvergenceWarning)\n",
      "/usr/local/anaconda3/lib/python3.7/site-packages/sklearn/linear_model/logistic.py:758: ConvergenceWarning: lbfgs failed to converge. Increase the number of iterations.\n",
      "  \"of iterations.\", ConvergenceWarning)\n",
      "/usr/local/anaconda3/lib/python3.7/site-packages/sklearn/linear_model/logistic.py:758: ConvergenceWarning: lbfgs failed to converge. Increase the number of iterations.\n",
      "  \"of iterations.\", ConvergenceWarning)\n",
      "/usr/local/anaconda3/lib/python3.7/site-packages/sklearn/linear_model/logistic.py:758: ConvergenceWarning: lbfgs failed to converge. Increase the number of iterations.\n",
      "  \"of iterations.\", ConvergenceWarning)\n",
      "/usr/local/anaconda3/lib/python3.7/site-packages/sklearn/linear_model/logistic.py:758: ConvergenceWarning: lbfgs failed to converge. Increase the number of iterations.\n",
      "  \"of iterations.\", ConvergenceWarning)\n",
      "/usr/local/anaconda3/lib/python3.7/site-packages/sklearn/linear_model/logistic.py:758: ConvergenceWarning: lbfgs failed to converge. Increase the number of iterations.\n",
      "  \"of iterations.\", ConvergenceWarning)\n",
      "/usr/local/anaconda3/lib/python3.7/site-packages/sklearn/linear_model/logistic.py:758: ConvergenceWarning: lbfgs failed to converge. Increase the number of iterations.\n",
      "  \"of iterations.\", ConvergenceWarning)\n",
      "/usr/local/anaconda3/lib/python3.7/site-packages/sklearn/linear_model/logistic.py:758: ConvergenceWarning: lbfgs failed to converge. Increase the number of iterations.\n",
      "  \"of iterations.\", ConvergenceWarning)\n",
      "/usr/local/anaconda3/lib/python3.7/site-packages/sklearn/linear_model/logistic.py:758: ConvergenceWarning: lbfgs failed to converge. Increase the number of iterations.\n",
      "  \"of iterations.\", ConvergenceWarning)\n",
      "/usr/local/anaconda3/lib/python3.7/site-packages/sklearn/linear_model/logistic.py:758: ConvergenceWarning: lbfgs failed to converge. Increase the number of iterations.\n",
      "  \"of iterations.\", ConvergenceWarning)\n",
      "/usr/local/anaconda3/lib/python3.7/site-packages/sklearn/linear_model/logistic.py:758: ConvergenceWarning: lbfgs failed to converge. Increase the number of iterations.\n",
      "  \"of iterations.\", ConvergenceWarning)\n",
      "/usr/local/anaconda3/lib/python3.7/site-packages/sklearn/linear_model/logistic.py:758: ConvergenceWarning: lbfgs failed to converge. Increase the number of iterations.\n",
      "  \"of iterations.\", ConvergenceWarning)\n",
      "/usr/local/anaconda3/lib/python3.7/site-packages/sklearn/linear_model/logistic.py:758: ConvergenceWarning: lbfgs failed to converge. Increase the number of iterations.\n",
      "  \"of iterations.\", ConvergenceWarning)\n",
      "/usr/local/anaconda3/lib/python3.7/site-packages/sklearn/linear_model/logistic.py:758: ConvergenceWarning: lbfgs failed to converge. Increase the number of iterations.\n",
      "  \"of iterations.\", ConvergenceWarning)\n",
      "/usr/local/anaconda3/lib/python3.7/site-packages/sklearn/linear_model/logistic.py:758: ConvergenceWarning: lbfgs failed to converge. Increase the number of iterations.\n",
      "  \"of iterations.\", ConvergenceWarning)\n",
      "/usr/local/anaconda3/lib/python3.7/site-packages/sklearn/linear_model/logistic.py:758: ConvergenceWarning: lbfgs failed to converge. Increase the number of iterations.\n",
      "  \"of iterations.\", ConvergenceWarning)\n",
      "/usr/local/anaconda3/lib/python3.7/site-packages/sklearn/linear_model/logistic.py:758: ConvergenceWarning: lbfgs failed to converge. Increase the number of iterations.\n",
      "  \"of iterations.\", ConvergenceWarning)\n"
     ]
    }
   ],
   "source": [
    "clf = LogisticRegressionCV(cv=5,\n",
    "                           random_state=0,\n",
    "                          ).fit(X_train, y_train)"
   ]
  },
  {
   "cell_type": "code",
   "execution_count": 32,
   "metadata": {},
   "outputs": [],
   "source": [
    "y_pred = clf.predict(X_train)"
   ]
  },
  {
   "cell_type": "code",
   "execution_count": 33,
   "metadata": {},
   "outputs": [],
   "source": [
    "y_pred_proba = clf.predict_proba(X_train)"
   ]
  },
  {
   "cell_type": "code",
   "execution_count": 34,
   "metadata": {},
   "outputs": [
    {
     "data": {
      "text/plain": [
       "array([[9.94491443e-01, 5.50855655e-03],\n",
       "       [1.96310457e-02, 9.80368954e-01],\n",
       "       [3.06499314e-02, 9.69350069e-01],\n",
       "       ...,\n",
       "       [4.83310420e-04, 9.99516690e-01],\n",
       "       [4.65628358e-04, 9.99534372e-01],\n",
       "       [1.91734913e-04, 9.99808265e-01]])"
      ]
     },
     "execution_count": 34,
     "metadata": {},
     "output_type": "execute_result"
    }
   ],
   "source": [
    "y_pred_proba"
   ]
  },
  {
   "cell_type": "code",
   "execution_count": 35,
   "metadata": {},
   "outputs": [
    {
     "data": {
      "text/plain": [
       "1.0"
      ]
     },
     "execution_count": 35,
     "metadata": {},
     "output_type": "execute_result"
    }
   ],
   "source": [
    "clf.score(X_train, y_train) "
   ]
  },
  {
   "cell_type": "code",
   "execution_count": 36,
   "metadata": {},
   "outputs": [
    {
     "name": "stdout",
     "output_type": "stream",
     "text": [
      "Accuracy of Logistic Regression classifier on training set: 1.00\n"
     ]
    }
   ],
   "source": [
    "print('Accuracy of Logistic Regression classifier on training set: {:.2f}'\n",
    "     .format(clf.score(X_train, y_train)))"
   ]
  },
  {
   "cell_type": "code",
   "execution_count": 37,
   "metadata": {},
   "outputs": [
    {
     "name": "stdout",
     "output_type": "stream",
     "text": [
      "[[177   0]\n",
      " [  0 422]]\n"
     ]
    }
   ],
   "source": [
    "print(confusion_matrix(y_train, y_pred))"
   ]
  },
  {
   "cell_type": "code",
   "execution_count": 38,
   "metadata": {},
   "outputs": [
    {
     "name": "stdout",
     "output_type": "stream",
     "text": [
      "              precision    recall  f1-score   support\n",
      "\n",
      "           0       1.00      1.00      1.00       177\n",
      "           1       1.00      1.00      1.00       422\n",
      "\n",
      "   micro avg       1.00      1.00      1.00       599\n",
      "   macro avg       1.00      1.00      1.00       599\n",
      "weighted avg       1.00      1.00      1.00       599\n",
      "\n"
     ]
    }
   ],
   "source": [
    "print(classification_report(y_train, y_pred))"
   ]
  },
  {
   "cell_type": "markdown",
   "metadata": {},
   "source": [
    "## 2. Decision Tree"
   ]
  },
  {
   "cell_type": "code",
   "execution_count": 39,
   "metadata": {},
   "outputs": [],
   "source": [
    "params = {'max_depth': [2, 3, 4],\n",
    "          'max_features': [None, 1, 3]}"
   ]
  },
  {
   "cell_type": "code",
   "execution_count": 40,
   "metadata": {},
   "outputs": [],
   "source": [
    "# for classificaiton you can change the algorithm as gini or entropy (information gain).  Default is gini.\n",
    "dtc = DecisionTreeClassifier(criterion='entropy', max_depth=4, max_features=3, random_state=0)"
   ]
  },
  {
   "cell_type": "code",
   "execution_count": 41,
   "metadata": {},
   "outputs": [],
   "source": [
    "grid = GridSearchCV(dtc, params, cv=3, iid=True)"
   ]
  },
  {
   "cell_type": "code",
   "execution_count": 42,
   "metadata": {},
   "outputs": [
    {
     "data": {
      "text/plain": [
       "GridSearchCV(cv=3, error_score='raise-deprecating',\n",
       "       estimator=DecisionTreeClassifier(class_weight=None, criterion='entropy', max_depth=4,\n",
       "            max_features=3, max_leaf_nodes=None, min_impurity_decrease=0.0,\n",
       "            min_impurity_split=None, min_samples_leaf=1,\n",
       "            min_samples_split=2, min_weight_fraction_leaf=0.0,\n",
       "            presort=False, random_state=0, splitter='best'),\n",
       "       fit_params=None, iid=True, n_jobs=None,\n",
       "       param_grid={'max_depth': [2, 3, 4], 'max_features': [None, 1, 3]},\n",
       "       pre_dispatch='2*n_jobs', refit=True, return_train_score='warn',\n",
       "       scoring=None, verbose=0)"
      ]
     },
     "execution_count": 42,
     "metadata": {},
     "output_type": "execute_result"
    }
   ],
   "source": [
    "grid.fit(X_train, y_train)"
   ]
  },
  {
   "cell_type": "code",
   "execution_count": 43,
   "metadata": {},
   "outputs": [
    {
     "data": {
      "text/plain": [
       "dict_keys(['mean_fit_time', 'std_fit_time', 'mean_score_time', 'std_score_time', 'param_max_depth', 'param_max_features', 'params', 'split0_test_score', 'split1_test_score', 'split2_test_score', 'mean_test_score', 'std_test_score', 'rank_test_score', 'split0_train_score', 'split1_train_score', 'split2_train_score', 'mean_train_score', 'std_train_score'])"
      ]
     },
     "execution_count": 43,
     "metadata": {},
     "output_type": "execute_result"
    }
   ],
   "source": [
    "results = grid.cv_results_\n",
    "results.keys()"
   ]
  },
  {
   "cell_type": "code",
   "execution_count": 44,
   "metadata": {},
   "outputs": [
    {
     "data": {
      "text/plain": [
       "array([1.        , 0.77462437, 0.79799666, 1.        , 0.77462437,\n",
       "       0.83973289, 1.        , 0.81135225, 0.88313856])"
      ]
     },
     "execution_count": 44,
     "metadata": {},
     "output_type": "execute_result"
    }
   ],
   "source": [
    "test_scores = results['mean_test_score']\n",
    "test_scores"
   ]
  },
  {
   "cell_type": "code",
   "execution_count": 45,
   "metadata": {},
   "outputs": [
    {
     "data": {
      "text/plain": [
       "[{'max_depth': 2, 'max_features': None},\n",
       " {'max_depth': 2, 'max_features': 1},\n",
       " {'max_depth': 2, 'max_features': 3},\n",
       " {'max_depth': 3, 'max_features': None},\n",
       " {'max_depth': 3, 'max_features': 1},\n",
       " {'max_depth': 3, 'max_features': 3},\n",
       " {'max_depth': 4, 'max_features': None},\n",
       " {'max_depth': 4, 'max_features': 1},\n",
       " {'max_depth': 4, 'max_features': 3}]"
      ]
     },
     "execution_count": 45,
     "metadata": {},
     "output_type": "execute_result"
    }
   ],
   "source": [
    "params = results['params']\n",
    "params"
   ]
  },
  {
   "cell_type": "code",
   "execution_count": 46,
   "metadata": {},
   "outputs": [
    {
     "data": {
      "text/html": [
       "<div>\n",
       "<style scoped>\n",
       "    .dataframe tbody tr th:only-of-type {\n",
       "        vertical-align: middle;\n",
       "    }\n",
       "\n",
       "    .dataframe tbody tr th {\n",
       "        vertical-align: top;\n",
       "    }\n",
       "\n",
       "    .dataframe thead th {\n",
       "        text-align: right;\n",
       "    }\n",
       "</style>\n",
       "<table border=\"1\" class=\"dataframe\">\n",
       "  <thead>\n",
       "    <tr style=\"text-align: right;\">\n",
       "      <th></th>\n",
       "      <th>max_depth</th>\n",
       "      <th>max_features</th>\n",
       "      <th>score</th>\n",
       "    </tr>\n",
       "  </thead>\n",
       "  <tbody>\n",
       "    <tr>\n",
       "      <th>1</th>\n",
       "      <td>2</td>\n",
       "      <td>1.0</td>\n",
       "      <td>0.774624</td>\n",
       "    </tr>\n",
       "    <tr>\n",
       "      <th>4</th>\n",
       "      <td>3</td>\n",
       "      <td>1.0</td>\n",
       "      <td>0.774624</td>\n",
       "    </tr>\n",
       "    <tr>\n",
       "      <th>2</th>\n",
       "      <td>2</td>\n",
       "      <td>3.0</td>\n",
       "      <td>0.797997</td>\n",
       "    </tr>\n",
       "    <tr>\n",
       "      <th>7</th>\n",
       "      <td>4</td>\n",
       "      <td>1.0</td>\n",
       "      <td>0.811352</td>\n",
       "    </tr>\n",
       "    <tr>\n",
       "      <th>5</th>\n",
       "      <td>3</td>\n",
       "      <td>3.0</td>\n",
       "      <td>0.839733</td>\n",
       "    </tr>\n",
       "    <tr>\n",
       "      <th>8</th>\n",
       "      <td>4</td>\n",
       "      <td>3.0</td>\n",
       "      <td>0.883139</td>\n",
       "    </tr>\n",
       "    <tr>\n",
       "      <th>0</th>\n",
       "      <td>2</td>\n",
       "      <td>NaN</td>\n",
       "      <td>1.000000</td>\n",
       "    </tr>\n",
       "    <tr>\n",
       "      <th>3</th>\n",
       "      <td>3</td>\n",
       "      <td>NaN</td>\n",
       "      <td>1.000000</td>\n",
       "    </tr>\n",
       "    <tr>\n",
       "      <th>6</th>\n",
       "      <td>4</td>\n",
       "      <td>NaN</td>\n",
       "      <td>1.000000</td>\n",
       "    </tr>\n",
       "  </tbody>\n",
       "</table>\n",
       "</div>"
      ],
      "text/plain": [
       "   max_depth  max_features     score\n",
       "1          2           1.0  0.774624\n",
       "4          3           1.0  0.774624\n",
       "2          2           3.0  0.797997\n",
       "7          4           1.0  0.811352\n",
       "5          3           3.0  0.839733\n",
       "8          4           3.0  0.883139\n",
       "0          2           NaN  1.000000\n",
       "3          3           NaN  1.000000\n",
       "6          4           NaN  1.000000"
      ]
     },
     "execution_count": 46,
     "metadata": {},
     "output_type": "execute_result"
    }
   ],
   "source": [
    "for p, s in zip(params, test_scores):\n",
    "    p['score'] = s\n",
    "\n",
    "pd.DataFrame(params).sort_values(by='score')"
   ]
  },
  {
   "cell_type": "code",
   "execution_count": 47,
   "metadata": {},
   "outputs": [
    {
     "data": {
      "text/plain": [
       "DecisionTreeClassifier(class_weight=None, criterion='entropy', max_depth=4,\n",
       "            max_features=3, max_leaf_nodes=None, min_impurity_decrease=0.0,\n",
       "            min_impurity_split=None, min_samples_leaf=1,\n",
       "            min_samples_split=2, min_weight_fraction_leaf=0.0,\n",
       "            presort=False, random_state=0, splitter='best')"
      ]
     },
     "execution_count": 47,
     "metadata": {},
     "output_type": "execute_result"
    }
   ],
   "source": [
    "dtc.fit(X_train, y_train)"
   ]
  },
  {
   "cell_type": "code",
   "execution_count": 48,
   "metadata": {},
   "outputs": [
    {
     "data": {
      "text/plain": [
       "array([0.89256198, 0.89256198, 0.86554622, 0.85714286, 0.87394958])"
      ]
     },
     "execution_count": 48,
     "metadata": {},
     "output_type": "execute_result"
    }
   ],
   "source": [
    "cross_val_score(dtc, X_train, y_train, cv=5)"
   ]
  },
  {
   "cell_type": "code",
   "execution_count": 49,
   "metadata": {},
   "outputs": [
    {
     "data": {
      "text/plain": [
       "array([0, 1, 1, 0, 0])"
      ]
     },
     "execution_count": 49,
     "metadata": {},
     "output_type": "execute_result"
    }
   ],
   "source": [
    "y_pred = dtc.predict(X_train)\n",
    "y_pred[0:5]"
   ]
  },
  {
   "cell_type": "code",
   "execution_count": 50,
   "metadata": {},
   "outputs": [
    {
     "data": {
      "text/plain": [
       "array([[0.74371859, 0.25628141],\n",
       "       [0.        , 1.        ],\n",
       "       [0.        , 1.        ],\n",
       "       ...,\n",
       "       [0.        , 1.        ],\n",
       "       [0.74371859, 0.25628141],\n",
       "       [0.        , 1.        ]])"
      ]
     },
     "execution_count": 50,
     "metadata": {},
     "output_type": "execute_result"
    }
   ],
   "source": [
    "y_pred_proba = dtc.predict_proba(X_train)\n",
    "y_pred_proba"
   ]
  },
  {
   "cell_type": "code",
   "execution_count": 51,
   "metadata": {},
   "outputs": [
    {
     "name": "stdout",
     "output_type": "stream",
     "text": [
      "Accuracy of Decision Tree classifier on training set: 0.88\n"
     ]
    }
   ],
   "source": [
    "print('Accuracy of Decision Tree classifier on training set: {:.2f}'\n",
    "     .format(dtc.score(X_train, y_train)))"
   ]
  },
  {
   "cell_type": "code",
   "execution_count": 52,
   "metadata": {},
   "outputs": [
    {
     "data": {
      "text/plain": [
       "array([[164,  13],\n",
       "       [ 56, 366]])"
      ]
     },
     "execution_count": 52,
     "metadata": {},
     "output_type": "execute_result"
    }
   ],
   "source": [
    "confusion_matrix(y_train, y_pred)"
   ]
  },
  {
   "cell_type": "code",
   "execution_count": 53,
   "metadata": {},
   "outputs": [
    {
     "data": {
      "text/plain": [
       "[0, 1]"
      ]
     },
     "execution_count": 53,
     "metadata": {},
     "output_type": "execute_result"
    }
   ],
   "source": [
    "sorted(y_train.abuse_past_year.unique())"
   ]
  },
  {
   "cell_type": "code",
   "execution_count": 54,
   "metadata": {},
   "outputs": [
    {
     "data": {
      "text/plain": [
       "1    422\n",
       "0    177\n",
       "Name: abuse_past_year, dtype: int64"
      ]
     },
     "execution_count": 54,
     "metadata": {},
     "output_type": "execute_result"
    }
   ],
   "source": [
    "y_train.abuse_past_year.value_counts()"
   ]
  },
  {
   "cell_type": "code",
   "execution_count": 55,
   "metadata": {},
   "outputs": [
    {
     "data": {
      "text/html": [
       "<div>\n",
       "<style scoped>\n",
       "    .dataframe tbody tr th:only-of-type {\n",
       "        vertical-align: middle;\n",
       "    }\n",
       "\n",
       "    .dataframe tbody tr th {\n",
       "        vertical-align: top;\n",
       "    }\n",
       "\n",
       "    .dataframe thead th {\n",
       "        text-align: right;\n",
       "    }\n",
       "</style>\n",
       "<table border=\"1\" class=\"dataframe\">\n",
       "  <thead>\n",
       "    <tr style=\"text-align: right;\">\n",
       "      <th></th>\n",
       "      <th>0</th>\n",
       "      <th>1</th>\n",
       "    </tr>\n",
       "  </thead>\n",
       "  <tbody>\n",
       "    <tr>\n",
       "      <th>0</th>\n",
       "      <td>164</td>\n",
       "      <td>13</td>\n",
       "    </tr>\n",
       "    <tr>\n",
       "      <th>1</th>\n",
       "      <td>56</td>\n",
       "      <td>366</td>\n",
       "    </tr>\n",
       "  </tbody>\n",
       "</table>\n",
       "</div>"
      ],
      "text/plain": [
       "     0    1\n",
       "0  164   13\n",
       "1   56  366"
      ]
     },
     "execution_count": 55,
     "metadata": {},
     "output_type": "execute_result"
    }
   ],
   "source": [
    "labels = sorted(y_train.abuse_past_year.unique())\n",
    "\n",
    "pd.DataFrame(confusion_matrix(y_train, y_pred), index=labels, columns=labels)"
   ]
  },
  {
   "cell_type": "code",
   "execution_count": 56,
   "metadata": {},
   "outputs": [
    {
     "name": "stdout",
     "output_type": "stream",
     "text": [
      "              precision    recall  f1-score   support\n",
      "\n",
      "           0       0.75      0.93      0.83       177\n",
      "           1       0.97      0.87      0.91       422\n",
      "\n",
      "   micro avg       0.88      0.88      0.88       599\n",
      "   macro avg       0.86      0.90      0.87       599\n",
      "weighted avg       0.90      0.88      0.89       599\n",
      "\n"
     ]
    }
   ],
   "source": [
    "print(classification_report(y_train, y_pred))"
   ]
  },
  {
   "cell_type": "markdown",
   "metadata": {},
   "source": [
    "## 3. Random Forest"
   ]
  },
  {
   "cell_type": "code",
   "execution_count": 57,
   "metadata": {},
   "outputs": [],
   "source": [
    "r_params = {'max_depth': [2, 3, 4]}"
   ]
  },
  {
   "cell_type": "code",
   "execution_count": 58,
   "metadata": {},
   "outputs": [],
   "source": [
    "rf = RandomForestClassifier(bootstrap=True, \n",
    "                            class_weight=None, \n",
    "                            criterion='entropy',\n",
    "                            min_samples_leaf=3,\n",
    "                            n_estimators=100,\n",
    "                            max_depth=3, \n",
    "                            random_state=0)"
   ]
  },
  {
   "cell_type": "code",
   "execution_count": 59,
   "metadata": {},
   "outputs": [],
   "source": [
    "r_grid = GridSearchCV(rf, r_params, cv=3, iid=True)"
   ]
  },
  {
   "cell_type": "code",
   "execution_count": 60,
   "metadata": {},
   "outputs": [
    {
     "name": "stderr",
     "output_type": "stream",
     "text": [
      "/usr/local/anaconda3/lib/python3.7/site-packages/sklearn/model_selection/_validation.py:528: DataConversionWarning: A column-vector y was passed when a 1d array was expected. Please change the shape of y to (n_samples,), for example using ravel().\n",
      "  estimator.fit(X_train, y_train, **fit_params)\n",
      "/usr/local/anaconda3/lib/python3.7/site-packages/sklearn/model_selection/_validation.py:528: DataConversionWarning: A column-vector y was passed when a 1d array was expected. Please change the shape of y to (n_samples,), for example using ravel().\n",
      "  estimator.fit(X_train, y_train, **fit_params)\n",
      "/usr/local/anaconda3/lib/python3.7/site-packages/sklearn/model_selection/_validation.py:528: DataConversionWarning: A column-vector y was passed when a 1d array was expected. Please change the shape of y to (n_samples,), for example using ravel().\n",
      "  estimator.fit(X_train, y_train, **fit_params)\n",
      "/usr/local/anaconda3/lib/python3.7/site-packages/sklearn/model_selection/_validation.py:528: DataConversionWarning: A column-vector y was passed when a 1d array was expected. Please change the shape of y to (n_samples,), for example using ravel().\n",
      "  estimator.fit(X_train, y_train, **fit_params)\n",
      "/usr/local/anaconda3/lib/python3.7/site-packages/sklearn/model_selection/_validation.py:528: DataConversionWarning: A column-vector y was passed when a 1d array was expected. Please change the shape of y to (n_samples,), for example using ravel().\n",
      "  estimator.fit(X_train, y_train, **fit_params)\n",
      "/usr/local/anaconda3/lib/python3.7/site-packages/sklearn/model_selection/_validation.py:528: DataConversionWarning: A column-vector y was passed when a 1d array was expected. Please change the shape of y to (n_samples,), for example using ravel().\n",
      "  estimator.fit(X_train, y_train, **fit_params)\n",
      "/usr/local/anaconda3/lib/python3.7/site-packages/sklearn/model_selection/_validation.py:528: DataConversionWarning: A column-vector y was passed when a 1d array was expected. Please change the shape of y to (n_samples,), for example using ravel().\n",
      "  estimator.fit(X_train, y_train, **fit_params)\n",
      "/usr/local/anaconda3/lib/python3.7/site-packages/sklearn/model_selection/_validation.py:528: DataConversionWarning: A column-vector y was passed when a 1d array was expected. Please change the shape of y to (n_samples,), for example using ravel().\n",
      "  estimator.fit(X_train, y_train, **fit_params)\n",
      "/usr/local/anaconda3/lib/python3.7/site-packages/sklearn/model_selection/_validation.py:528: DataConversionWarning: A column-vector y was passed when a 1d array was expected. Please change the shape of y to (n_samples,), for example using ravel().\n",
      "  estimator.fit(X_train, y_train, **fit_params)\n",
      "/usr/local/anaconda3/lib/python3.7/site-packages/sklearn/model_selection/_search.py:740: DataConversionWarning: A column-vector y was passed when a 1d array was expected. Please change the shape of y to (n_samples,), for example using ravel().\n",
      "  self.best_estimator_.fit(X, y, **fit_params)\n"
     ]
    },
    {
     "data": {
      "text/plain": [
       "GridSearchCV(cv=3, error_score='raise-deprecating',\n",
       "       estimator=RandomForestClassifier(bootstrap=True, class_weight=None, criterion='entropy',\n",
       "            max_depth=3, max_features='auto', max_leaf_nodes=None,\n",
       "            min_impurity_decrease=0.0, min_impurity_split=None,\n",
       "            min_samples_leaf=3, min_samples_split=2,\n",
       "            min_weight_fraction_leaf=0.0, n_estimators=100, n_jobs=None,\n",
       "            oob_score=False, random_state=0, verbose=0, warm_start=False),\n",
       "       fit_params=None, iid=True, n_jobs=None,\n",
       "       param_grid={'max_depth': [2, 3, 4]}, pre_dispatch='2*n_jobs',\n",
       "       refit=True, return_train_score='warn', scoring=None, verbose=0)"
      ]
     },
     "execution_count": 60,
     "metadata": {},
     "output_type": "execute_result"
    }
   ],
   "source": [
    "r_grid.fit(X_train, y_train)"
   ]
  },
  {
   "cell_type": "code",
   "execution_count": 61,
   "metadata": {},
   "outputs": [
    {
     "data": {
      "text/plain": [
       "dict_keys(['mean_fit_time', 'std_fit_time', 'mean_score_time', 'std_score_time', 'param_max_depth', 'params', 'split0_test_score', 'split1_test_score', 'split2_test_score', 'mean_test_score', 'std_test_score', 'rank_test_score', 'split0_train_score', 'split1_train_score', 'split2_train_score', 'mean_train_score', 'std_train_score'])"
      ]
     },
     "execution_count": 61,
     "metadata": {},
     "output_type": "execute_result"
    }
   ],
   "source": [
    "r_results = r_grid.cv_results_\n",
    "r_results.keys()"
   ]
  },
  {
   "cell_type": "code",
   "execution_count": 62,
   "metadata": {},
   "outputs": [
    {
     "data": {
      "text/plain": [
       "array([0.9966611, 0.9966611, 0.9966611])"
      ]
     },
     "execution_count": 62,
     "metadata": {},
     "output_type": "execute_result"
    }
   ],
   "source": [
    "r_test_scores = r_results['mean_test_score']\n",
    "r_test_scores"
   ]
  },
  {
   "cell_type": "code",
   "execution_count": 63,
   "metadata": {},
   "outputs": [
    {
     "data": {
      "text/plain": [
       "[{'max_depth': 2}, {'max_depth': 3}, {'max_depth': 4}]"
      ]
     },
     "execution_count": 63,
     "metadata": {},
     "output_type": "execute_result"
    }
   ],
   "source": [
    "r_params = r_results['params']\n",
    "r_params"
   ]
  },
  {
   "cell_type": "code",
   "execution_count": 64,
   "metadata": {},
   "outputs": [
    {
     "data": {
      "text/html": [
       "<div>\n",
       "<style scoped>\n",
       "    .dataframe tbody tr th:only-of-type {\n",
       "        vertical-align: middle;\n",
       "    }\n",
       "\n",
       "    .dataframe tbody tr th {\n",
       "        vertical-align: top;\n",
       "    }\n",
       "\n",
       "    .dataframe thead th {\n",
       "        text-align: right;\n",
       "    }\n",
       "</style>\n",
       "<table border=\"1\" class=\"dataframe\">\n",
       "  <thead>\n",
       "    <tr style=\"text-align: right;\">\n",
       "      <th></th>\n",
       "      <th>max_depth</th>\n",
       "      <th>score</th>\n",
       "    </tr>\n",
       "  </thead>\n",
       "  <tbody>\n",
       "    <tr>\n",
       "      <th>0</th>\n",
       "      <td>2</td>\n",
       "      <td>0.996661</td>\n",
       "    </tr>\n",
       "    <tr>\n",
       "      <th>1</th>\n",
       "      <td>3</td>\n",
       "      <td>0.996661</td>\n",
       "    </tr>\n",
       "    <tr>\n",
       "      <th>2</th>\n",
       "      <td>4</td>\n",
       "      <td>0.996661</td>\n",
       "    </tr>\n",
       "  </tbody>\n",
       "</table>\n",
       "</div>"
      ],
      "text/plain": [
       "   max_depth     score\n",
       "0          2  0.996661\n",
       "1          3  0.996661\n",
       "2          4  0.996661"
      ]
     },
     "execution_count": 64,
     "metadata": {},
     "output_type": "execute_result"
    }
   ],
   "source": [
    "for p, s in zip(r_params, r_test_scores):\n",
    "    p['score'] = s\n",
    "\n",
    "pd.DataFrame(r_params).sort_values(by='score')"
   ]
  },
  {
   "cell_type": "code",
   "execution_count": 65,
   "metadata": {},
   "outputs": [
    {
     "name": "stderr",
     "output_type": "stream",
     "text": [
      "/usr/local/anaconda3/lib/python3.7/site-packages/ipykernel_launcher.py:1: DataConversionWarning: A column-vector y was passed when a 1d array was expected. Please change the shape of y to (n_samples,), for example using ravel().\n",
      "  \"\"\"Entry point for launching an IPython kernel.\n"
     ]
    },
    {
     "data": {
      "text/plain": [
       "RandomForestClassifier(bootstrap=True, class_weight=None, criterion='entropy',\n",
       "            max_depth=3, max_features='auto', max_leaf_nodes=None,\n",
       "            min_impurity_decrease=0.0, min_impurity_split=None,\n",
       "            min_samples_leaf=3, min_samples_split=2,\n",
       "            min_weight_fraction_leaf=0.0, n_estimators=100, n_jobs=None,\n",
       "            oob_score=False, random_state=0, verbose=0, warm_start=False)"
      ]
     },
     "execution_count": 65,
     "metadata": {},
     "output_type": "execute_result"
    }
   ],
   "source": [
    "rf.fit(X_train, y_train)"
   ]
  },
  {
   "cell_type": "code",
   "execution_count": 66,
   "metadata": {},
   "outputs": [
    {
     "name": "stderr",
     "output_type": "stream",
     "text": [
      "/usr/local/anaconda3/lib/python3.7/site-packages/sklearn/model_selection/_validation.py:528: DataConversionWarning: A column-vector y was passed when a 1d array was expected. Please change the shape of y to (n_samples,), for example using ravel().\n",
      "  estimator.fit(X_train, y_train, **fit_params)\n",
      "/usr/local/anaconda3/lib/python3.7/site-packages/sklearn/model_selection/_validation.py:528: DataConversionWarning: A column-vector y was passed when a 1d array was expected. Please change the shape of y to (n_samples,), for example using ravel().\n",
      "  estimator.fit(X_train, y_train, **fit_params)\n",
      "/usr/local/anaconda3/lib/python3.7/site-packages/sklearn/model_selection/_validation.py:528: DataConversionWarning: A column-vector y was passed when a 1d array was expected. Please change the shape of y to (n_samples,), for example using ravel().\n",
      "  estimator.fit(X_train, y_train, **fit_params)\n",
      "/usr/local/anaconda3/lib/python3.7/site-packages/sklearn/model_selection/_validation.py:528: DataConversionWarning: A column-vector y was passed when a 1d array was expected. Please change the shape of y to (n_samples,), for example using ravel().\n",
      "  estimator.fit(X_train, y_train, **fit_params)\n",
      "/usr/local/anaconda3/lib/python3.7/site-packages/sklearn/model_selection/_validation.py:528: DataConversionWarning: A column-vector y was passed when a 1d array was expected. Please change the shape of y to (n_samples,), for example using ravel().\n",
      "  estimator.fit(X_train, y_train, **fit_params)\n"
     ]
    },
    {
     "data": {
      "text/plain": [
       "array([0.99173554, 1.        , 1.        , 0.99159664, 1.        ])"
      ]
     },
     "execution_count": 66,
     "metadata": {},
     "output_type": "execute_result"
    }
   ],
   "source": [
    "cross_val_score(rf, X_train, y_train, cv=5)"
   ]
  },
  {
   "cell_type": "code",
   "execution_count": 67,
   "metadata": {},
   "outputs": [
    {
     "name": "stdout",
     "output_type": "stream",
     "text": [
      "[7.98393419e-04 1.59499226e-01 2.52477124e-01 3.07541950e-04\n",
      " 0.00000000e+00 4.40137752e-04 3.95588765e-04 0.00000000e+00\n",
      " 2.52169462e-03 2.35752137e-03 4.81811754e-03 8.26011912e-02\n",
      " 1.62366453e-02 1.16556699e-01 5.06638253e-02 1.60560499e-02\n",
      " 1.57727544e-03 3.25296308e-05 6.33373187e-03 0.00000000e+00\n",
      " 0.00000000e+00 2.90130294e-03 2.01851486e-02 2.77300392e-02\n",
      " 9.02321440e-04 0.00000000e+00 1.84702302e-04 0.00000000e+00\n",
      " 1.71258107e-03 8.19116927e-05 0.00000000e+00 0.00000000e+00\n",
      " 6.62438773e-04 4.60855420e-04 4.52657079e-04 1.79159127e-03\n",
      " 2.52608194e-02 4.33095991e-03 3.42156869e-02 5.22189914e-02\n",
      " 1.26573158e-02 1.00577385e-01]\n"
     ]
    }
   ],
   "source": [
    "print(rf.feature_importances_)"
   ]
  },
  {
   "cell_type": "code",
   "execution_count": 68,
   "metadata": {
    "scrolled": false
   },
   "outputs": [
    {
     "data": {
      "text/plain": [
       "array([0, 1, 1, 1, 1, 1, 1, 1, 1, 1, 1, 1, 1, 0, 1, 1, 0, 1, 1, 1, 1, 0,\n",
       "       0, 1, 0, 0, 1, 1, 1, 0, 0, 0, 1, 1, 1, 1, 1, 1, 0, 0, 1, 0, 0, 1,\n",
       "       1, 0, 1, 0, 1, 0, 1, 1, 0, 1, 1, 0, 0, 1, 1, 1, 1, 0, 1, 0, 0, 1,\n",
       "       0, 0, 0, 1, 0, 1, 0, 1, 1, 1, 1, 1, 1, 1, 1, 1, 0, 1, 1, 1, 0, 0,\n",
       "       1, 0, 0, 1, 0, 1, 0, 1, 0, 1, 1, 1, 1, 1, 0, 1, 1, 1, 1, 1, 0, 1,\n",
       "       1, 1, 1, 0, 1, 1, 0, 1, 0, 0, 1, 1, 1, 0, 0, 1, 1, 1, 1, 1, 0, 1,\n",
       "       1, 0, 0, 1, 0, 1, 1, 0, 1, 1, 0, 1, 1, 1, 1, 1, 0, 0, 0, 1, 1, 0,\n",
       "       1, 0, 1, 1, 1, 1, 0, 1, 1, 0, 1, 0, 0, 1, 0, 1, 1, 0, 1, 1, 1, 1,\n",
       "       1, 0, 1, 1, 1, 1, 1, 1, 1, 1, 1, 1, 1, 1, 1, 1, 1, 1, 1, 1, 1, 1,\n",
       "       1, 1, 1, 1, 1, 1, 1, 1, 1, 1, 1, 1, 1, 1, 1, 1, 1, 0, 1, 1, 1, 0,\n",
       "       1, 0, 0, 1, 0, 1, 1, 1, 1, 1, 1, 0, 1, 0, 1, 1, 1, 0, 1, 0, 1, 1,\n",
       "       0, 1, 1, 1, 1, 1, 1, 1, 1, 1, 1, 1, 1, 0, 0, 1, 1, 1, 1, 1, 1, 1,\n",
       "       0, 1, 1, 1, 1, 1, 0, 1, 0, 0, 1, 1, 1, 1, 0, 1, 1, 1, 1, 1, 1, 1,\n",
       "       0, 1, 1, 1, 1, 1, 1, 1, 1, 1, 1, 1, 0, 0, 0, 0, 1, 1, 1, 0, 1, 1,\n",
       "       0, 1, 0, 1, 1, 1, 0, 1, 1, 0, 1, 0, 1, 0, 1, 1, 1, 1, 1, 1, 0, 1,\n",
       "       1, 1, 1, 1, 1, 1, 0, 1, 0, 1, 1, 0, 0, 1, 1, 0, 1, 1, 1, 0, 1, 1,\n",
       "       0, 1, 1, 0, 1, 1, 1, 1, 1, 1, 0, 0, 0, 0, 1, 0, 1, 0, 1, 1, 0, 0,\n",
       "       1, 1, 1, 1, 0, 1, 1, 1, 0, 1, 0, 1, 1, 1, 1, 1, 0, 1, 1, 1, 0, 1,\n",
       "       1, 1, 0, 1, 0, 1, 1, 1, 1, 1, 1, 1, 1, 0, 0, 1, 1, 1, 1, 1, 0, 1,\n",
       "       1, 1, 1, 1, 0, 1, 1, 1, 0, 1, 0, 1, 1, 1, 1, 0, 1, 0, 1, 0, 0, 1,\n",
       "       1, 1, 1, 0, 0, 0, 1, 1, 1, 1, 0, 0, 1, 0, 1, 0, 1, 0, 1, 1, 1, 1,\n",
       "       0, 1, 1, 0, 1, 1, 1, 1, 1, 1, 1, 0, 0, 1, 0, 1, 1, 1, 1, 0, 0, 1,\n",
       "       0, 1, 0, 1, 1, 1, 1, 0, 0, 0, 0, 0, 1, 1, 1, 1, 0, 1, 1, 1, 1, 1,\n",
       "       1, 1, 1, 1, 1, 1, 0, 1, 1, 0, 1, 0, 1, 0, 1, 1, 1, 1, 0, 0, 0, 1,\n",
       "       1, 1, 0, 1, 1, 0, 1, 1, 1, 1, 1, 1, 1, 1, 1, 0, 0, 1, 0, 1, 0, 1,\n",
       "       1, 1, 1, 1, 1, 1, 0, 1, 0, 1, 1, 1, 1, 1, 1, 1, 1, 1, 1, 1, 1, 1,\n",
       "       0, 1, 0, 0, 1, 0, 1, 0, 1, 1, 0, 0, 1, 0, 0, 1, 0, 0, 1, 0, 1, 1,\n",
       "       1, 1, 1, 1, 1])"
      ]
     },
     "execution_count": 68,
     "metadata": {},
     "output_type": "execute_result"
    }
   ],
   "source": [
    "y_pred = rf.predict(X_train)\n",
    "y_pred"
   ]
  },
  {
   "cell_type": "code",
   "execution_count": 69,
   "metadata": {},
   "outputs": [
    {
     "data": {
      "text/plain": [
       "array([[0.93199184, 0.06800816],\n",
       "       [0.21935271, 0.78064729],\n",
       "       [0.11097866, 0.88902134],\n",
       "       ...,\n",
       "       [0.04389892, 0.95610108],\n",
       "       [0.04159004, 0.95840996],\n",
       "       [0.00575807, 0.99424193]])"
      ]
     },
     "execution_count": 69,
     "metadata": {},
     "output_type": "execute_result"
    }
   ],
   "source": [
    "y_pred_proba = rf.predict_proba(X_train)\n",
    "y_pred_proba"
   ]
  },
  {
   "cell_type": "code",
   "execution_count": 70,
   "metadata": {},
   "outputs": [
    {
     "name": "stdout",
     "output_type": "stream",
     "text": [
      "Accuracy of random forest classifier on training set: 1.00\n"
     ]
    }
   ],
   "source": [
    "print('Accuracy of random forest classifier on training set: {:.2f}'\n",
    "     .format(rf.score(X_train, y_train)))"
   ]
  },
  {
   "cell_type": "code",
   "execution_count": 71,
   "metadata": {},
   "outputs": [
    {
     "name": "stdout",
     "output_type": "stream",
     "text": [
      "[[175   2]\n",
      " [  0 422]]\n"
     ]
    }
   ],
   "source": [
    "print(confusion_matrix(y_train, y_pred))"
   ]
  },
  {
   "cell_type": "code",
   "execution_count": 72,
   "metadata": {
    "scrolled": true
   },
   "outputs": [
    {
     "name": "stdout",
     "output_type": "stream",
     "text": [
      "              precision    recall  f1-score   support\n",
      "\n",
      "           0       1.00      0.99      0.99       177\n",
      "           1       1.00      1.00      1.00       422\n",
      "\n",
      "   micro avg       1.00      1.00      1.00       599\n",
      "   macro avg       1.00      0.99      1.00       599\n",
      "weighted avg       1.00      1.00      1.00       599\n",
      "\n"
     ]
    }
   ],
   "source": [
    "print(classification_report(y_train, y_pred))"
   ]
  },
  {
   "cell_type": "code",
   "execution_count": null,
   "metadata": {},
   "outputs": [],
   "source": []
  },
  {
   "cell_type": "code",
   "execution_count": null,
   "metadata": {},
   "outputs": [],
   "source": []
  },
  {
   "cell_type": "code",
   "execution_count": null,
   "metadata": {},
   "outputs": [],
   "source": []
  },
  {
   "cell_type": "code",
   "execution_count": null,
   "metadata": {},
   "outputs": [],
   "source": []
  },
  {
   "cell_type": "code",
   "execution_count": null,
   "metadata": {},
   "outputs": [],
   "source": []
  },
  {
   "cell_type": "code",
   "execution_count": null,
   "metadata": {},
   "outputs": [],
   "source": []
  },
  {
   "cell_type": "code",
   "execution_count": null,
   "metadata": {},
   "outputs": [],
   "source": []
  },
  {
   "cell_type": "code",
   "execution_count": null,
   "metadata": {},
   "outputs": [],
   "source": []
  },
  {
   "cell_type": "code",
   "execution_count": null,
   "metadata": {},
   "outputs": [],
   "source": []
  },
  {
   "cell_type": "code",
   "execution_count": null,
   "metadata": {},
   "outputs": [],
   "source": []
  },
  {
   "cell_type": "code",
   "execution_count": null,
   "metadata": {},
   "outputs": [],
   "source": []
  },
  {
   "cell_type": "markdown",
   "metadata": {},
   "source": [
    "# ------------ DFB WORK START HERE ------------ # "
   ]
  },
  {
   "cell_type": "markdown",
   "metadata": {},
   "source": [
    "## _So now we can see the cases where reassault happened. There are 350 cases out of 705. There were 497 cases of domestic violence._"
   ]
  },
  {
   "cell_type": "code",
   "execution_count": 73,
   "metadata": {},
   "outputs": [],
   "source": [
    "# make new dataframe out of subset of dfa where we only look at the victims of abuse\n",
    "dfa_abused = dfa[dfa.abuse_past_year == 1]"
   ]
  },
  {
   "cell_type": "code",
   "execution_count": 74,
   "metadata": {},
   "outputs": [],
   "source": [
    "df6 = acquire.read_data('data06.csv')\n",
    "# df8 = acquire.read_data('data08.csv') # NO USEFUL COLUMNS\n",
    "df11 = acquire.read_data('data11.csv')\n",
    "# df12 = acquire.read_data('data12.csv') # NO USEFUL COLUMNS"
   ]
  },
  {
   "cell_type": "code",
   "execution_count": 75,
   "metadata": {},
   "outputs": [],
   "source": [
    "six_cols = ['CASEID',\n",
    "            'M11HIGH',\n",
    "            'M35SAFE',\n",
    "            'M41ILLGL',\n",
    "            'M42DAGRR',\n",
    "            'M13TALKR',\n",
    "            'M32OTHER',\n",
    "            'M30ARRES',\n",
    "            'M31HOW',\n",
    "            'M38ORDER',\n",
    "           ]\n",
    "\n",
    "eleven_cols = ['CASEID',\n",
    "               'SEVERER',\n",
    "               'TOTINCR',\n",
    "               'THREATR',\n",
    "               'SLAPR',\n",
    "               'PUNCHR',\n",
    "               'BEATR',\n",
    "               'UWEAPON',\n",
    "               'FORCEDR',\n",
    "               'MISCARR',\n",
    "               'RESTRAIN',\n",
    "               'CHOKED',\n",
    "               'NDRUNK',\n",
    "               'RDRUNK',\n",
    "               'BOTHDRUN',\n",
    "               'NDRUGS',\n",
    "               'RDRUGS',\n",
    "               'BOTHDRUG',\n",
    "              ]"
   ]
  },
  {
   "cell_type": "code",
   "execution_count": 76,
   "metadata": {},
   "outputs": [],
   "source": [
    "# drop dataframes down to desired features\n",
    "df6 = df6[six_cols]\n",
    "df11 = df11[eleven_cols]"
   ]
  },
  {
   "cell_type": "code",
   "execution_count": 77,
   "metadata": {},
   "outputs": [],
   "source": [
    "dfb = df6.merge(right=df11, on='CASEID')"
   ]
  },
  {
   "cell_type": "code",
   "execution_count": 78,
   "metadata": {},
   "outputs": [
    {
     "name": "stdout",
     "output_type": "stream",
     "text": [
      "<class 'pandas.core.frame.DataFrame'>\n",
      "Int64Index: 497 entries, 0 to 496\n",
      "Data columns (total 27 columns):\n",
      "CASEID      497 non-null int64\n",
      "M11HIGH     497 non-null int64\n",
      "M35SAFE     497 non-null int64\n",
      "M41ILLGL    497 non-null int64\n",
      "M42DAGRR    497 non-null int64\n",
      "M13TALKR    497 non-null int64\n",
      "M32OTHER    497 non-null int64\n",
      "M30ARRES    497 non-null int64\n",
      "M31HOW      497 non-null int64\n",
      "M38ORDER    497 non-null int64\n",
      "SEVERER     497 non-null int64\n",
      "TOTINCR     497 non-null int64\n",
      "THREATR     497 non-null int64\n",
      "SLAPR       497 non-null int64\n",
      "PUNCHR      497 non-null int64\n",
      "BEATR       497 non-null int64\n",
      "UWEAPON     497 non-null int64\n",
      "FORCEDR     497 non-null int64\n",
      "MISCARR     497 non-null int64\n",
      "RESTRAIN    497 non-null int64\n",
      "CHOKED      497 non-null int64\n",
      "NDRUNK      497 non-null int64\n",
      "RDRUNK      497 non-null int64\n",
      "BOTHDRUN    497 non-null int64\n",
      "NDRUGS      497 non-null int64\n",
      "RDRUGS      497 non-null int64\n",
      "BOTHDRUG    497 non-null int64\n",
      "dtypes: int64(27)\n",
      "memory usage: 108.7 KB\n"
     ]
    }
   ],
   "source": [
    "dfb.info()"
   ]
  },
  {
   "cell_type": "code",
   "execution_count": 79,
   "metadata": {},
   "outputs": [],
   "source": [
    "dfb = prepare.rename_columns_recid(dfb)"
   ]
  },
  {
   "cell_type": "code",
   "execution_count": 83,
   "metadata": {},
   "outputs": [],
   "source": [
    "prepare.replace_nonvals_recid(dfb)"
   ]
  },
  {
   "cell_type": "code",
   "execution_count": 84,
   "metadata": {},
   "outputs": [],
   "source": [
    "df = dfa_abused.merge(right=dfb, on='id')"
   ]
  },
  {
   "cell_type": "code",
   "execution_count": 86,
   "metadata": {
    "scrolled": true
   },
   "outputs": [
    {
     "name": "stdout",
     "output_type": "stream",
     "text": [
      "Empty DataFrame\n",
      "Columns: [sum_nulls, nulls_by_percent]\n",
      "Index: []\n"
     ]
    }
   ],
   "source": [
    "# formally check that there are no nulls in dataframe\n",
    "prepare.get_nulls_by_column(df)"
   ]
  },
  {
   "cell_type": "code",
   "execution_count": 87,
   "metadata": {},
   "outputs": [
    {
     "name": "stdout",
     "output_type": "stream",
     "text": [
      "no nulls!\n"
     ]
    }
   ],
   "source": [
    "# check no 2\n",
    "if not prepare.get_nulls_by_row(df):\n",
    "    print('no nulls!')\n",
    "else:\n",
    "    prepare.get_nulls_by_row(df)"
   ]
  },
  {
   "cell_type": "code",
   "execution_count": null,
   "metadata": {},
   "outputs": [],
   "source": []
  },
  {
   "cell_type": "code",
   "execution_count": 85,
   "metadata": {},
   "outputs": [
    {
     "name": "stdout",
     "output_type": "stream",
     "text": [
      "<class 'pandas.core.frame.DataFrame'>\n",
      "Int64Index: 497 entries, 0 to 496\n",
      "Data columns (total 71 columns):\n",
      "id                              497 non-null int64\n",
      "abuse_past_year                 497 non-null int64\n",
      "abuse_status                    497 non-null int64\n",
      "length_relationship             497 non-null int64\n",
      "partner_abusive                 497 non-null int64\n",
      "num_abusers                     497 non-null int64\n",
      "num_children                    497 non-null int64\n",
      "pregnant                        497 non-null int64\n",
      "beaten_while_pregnant           497 non-null int64\n",
      "support_score                   497 non-null int64\n",
      "guns_in_home                    497 non-null int64\n",
      "jealous_past_year               497 non-null int64\n",
      "limit_family_contact            497 non-null int64\n",
      "location_tracking               497 non-null int64\n",
      "threat_hit                      497 non-null int64\n",
      "thrown_object                   497 non-null int64\n",
      "push_shove                      497 non-null int64\n",
      "slap                            497 non-null int64\n",
      "kick_punch                      497 non-null int64\n",
      "hit_object                      497 non-null int64\n",
      "beaten                          497 non-null int64\n",
      "choked                          497 non-null int64\n",
      "threat_knife                    497 non-null int64\n",
      "threat_gun                      497 non-null int64\n",
      "rape_with_threat                497 non-null int64\n",
      "power_scale                     497 non-null int64\n",
      "harass_scale                    497 non-null int64\n",
      "id_age                          497 non-null int64\n",
      "age_disparity                   497 non-null int64\n",
      "children_not_partner            497 non-null int64\n",
      "same_sex_relationship           497 non-null int64\n",
      "partner_drug_use                497 non-null int64\n",
      "partner_alcohol_use             497 non-null int64\n",
      "threat_suicide                  497 non-null int64\n",
      "partner_reported_child_abuse    497 non-null int64\n",
      "partner_arrested                497 non-null int64\n",
      "violence_increased              497 non-null int64\n",
      "severity_increased              497 non-null int64\n",
      "weapon_ever                     497 non-null int64\n",
      "choked_ever                     497 non-null int64\n",
      "rape_ever                       497 non-null int64\n",
      "controlled_ever                 497 non-null int64\n",
      "jealous                         497 non-null int64\n",
      "capable_murder                  497 non-null int64\n",
      "reassault                       497 non-null int64\n",
      "anyone_high                     497 non-null int64\n",
      "safe_place                      497 non-null int64\n",
      "forced_illegal                  497 non-null int64\n",
      "life_danger                     497 non-null int64\n",
      "talk_about_it                   497 non-null int64\n",
      "left_or_not                     497 non-null int64\n",
      "perp_arrested_ever              497 non-null int64\n",
      "police_resp                     497 non-null int64\n",
      "order_protection                497 non-null int64\n",
      "level_severity                  497 non-null int64\n",
      "num_incidents                   497 non-null int64\n",
      "num_threats                     497 non-null int64\n",
      "num_slapping                    497 non-null int64\n",
      "num_punching                    497 non-null int64\n",
      "num_beating                     497 non-null int64\n",
      "num_weapon                      497 non-null int64\n",
      "num_forced_sex                  497 non-null int64\n",
      "miscarriage_resulted            497 non-null int64\n",
      "restrained_by_perp              497 non-null int64\n",
      "num_choked                      497 non-null int64\n",
      "num_perp_drunk                  497 non-null int64\n",
      "num_woman_drunk                 497 non-null int64\n",
      "num_both_drunk                  497 non-null int64\n",
      "num_perp_drugs                  497 non-null int64\n",
      "num_woman_drugs                 497 non-null int64\n",
      "num_both_drugs                  497 non-null int64\n",
      "dtypes: int64(71)\n",
      "memory usage: 279.6 KB\n"
     ]
    }
   ],
   "source": [
    "df.info()"
   ]
  },
  {
   "cell_type": "code",
   "execution_count": null,
   "metadata": {},
   "outputs": [],
   "source": []
  },
  {
   "cell_type": "code",
   "execution_count": null,
   "metadata": {},
   "outputs": [],
   "source": []
  },
  {
   "cell_type": "code",
   "execution_count": null,
   "metadata": {},
   "outputs": [],
   "source": [
    "df_so_very_large.head()"
   ]
  },
  {
   "cell_type": "code",
   "execution_count": null,
   "metadata": {},
   "outputs": [],
   "source": [
    "feats = [col for col in df_so_very_large]"
   ]
  },
  {
   "cell_type": "code",
   "execution_count": null,
   "metadata": {},
   "outputs": [],
   "source": [
    "feats"
   ]
  },
  {
   "cell_type": "code",
   "execution_count": null,
   "metadata": {},
   "outputs": [],
   "source": [
    "feats.remove('id')\n",
    "feats.remove('length_relationship')\n",
    "feats.remove('power_scale')\n",
    "feats.remove('harass_scale')\n",
    "feats.remove('id_age')\n",
    "feats.remove('reassault')"
   ]
  },
  {
   "cell_type": "code",
   "execution_count": null,
   "metadata": {},
   "outputs": [],
   "source": [
    "# split train and test\n",
    "train_df, test_df = train_test_split(df_so_very_large, test_size=.15, random_state=123, stratify=df_so_very_large[['reassault']])"
   ]
  },
  {
   "cell_type": "code",
   "execution_count": null,
   "metadata": {},
   "outputs": [],
   "source": [
    "feats"
   ]
  },
  {
   "cell_type": "code",
   "execution_count": null,
   "metadata": {},
   "outputs": [],
   "source": [
    "sig_feats, sig_dict = explore.get_chi_squared(train_df, feats, 'reassault')"
   ]
  },
  {
   "cell_type": "code",
   "execution_count": null,
   "metadata": {},
   "outputs": [],
   "source": [
    "sig_dict"
   ]
  },
  {
   "cell_type": "code",
   "execution_count": null,
   "metadata": {},
   "outputs": [],
   "source": [
    "feats = [item[0] for item in explore.sort_sigs(sig_dict)]"
   ]
  },
  {
   "cell_type": "code",
   "execution_count": null,
   "metadata": {},
   "outputs": [],
   "source": [
    "len(feats)"
   ]
  },
  {
   "cell_type": "code",
   "execution_count": null,
   "metadata": {},
   "outputs": [],
   "source": [
    "feats"
   ]
  }
 ],
 "metadata": {
  "kernelspec": {
   "display_name": "Python 3",
   "language": "python",
   "name": "python3"
  },
  "language_info": {
   "codemirror_mode": {
    "name": "ipython",
    "version": 3
   },
   "file_extension": ".py",
   "mimetype": "text/x-python",
   "name": "python",
   "nbconvert_exporter": "python",
   "pygments_lexer": "ipython3",
   "version": "3.7.1"
  }
 },
 "nbformat": 4,
 "nbformat_minor": 2
}
