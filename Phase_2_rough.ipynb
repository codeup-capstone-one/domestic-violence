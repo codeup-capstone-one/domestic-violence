{
 "cells": [
  {
   "cell_type": "markdown",
   "metadata": {},
   "source": [
    "# Plan:\n",
    "\n",
    "### Phase 2 will utilize the subset of women that were identified as abused in the study and compound extra features that were gleaned in a follow-up survey of these identified women.  These features will be narrowed and modeled to identify risk of being reassaulted.  This work will investigate appropriately on a compounded dataframe of our original features in addition to the new features from the follow-up survey.\n",
    "\n",
    "### Hypothesis: From domain knowledge of this field, we predict that there will likely be significant identifiers of abuse that can be fed into a machine-learned model."
   ]
  },
  {
   "cell_type": "markdown",
   "metadata": {},
   "source": [
    "# ENVIRONMENT"
   ]
  },
  {
   "cell_type": "code",
   "execution_count": 1,
   "metadata": {},
   "outputs": [],
   "source": [
    "# basic environment and custom scripts\n",
    "import os\n",
    "import acquire\n",
    "import prepare\n",
    "import explore\n",
    "import time\n",
    "\n",
    "# numpy and pandas for dataframe building and manipulation\n",
    "import pandas as pd\n",
    "import numpy as np\n",
    "\n",
    "\n",
    "# matplotlib and seaborn for visualization\n",
    "import matplotlib.pyplot as plt\n",
    "import matplotlib.patheffects as PathEffects\n",
    "%matplotlib inline\n",
    "import seaborn as sns\n",
    "\n",
    "# import preprocessing for scaling and splitting\n",
    "from sklearn.preprocessing import LabelEncoder\n",
    "from sklearn.preprocessing import MinMaxScaler\n",
    "from sklearn.model_selection import train_test_split\n",
    "\n",
    "# xgboost for feature selection\n",
    "import xgboost as xgb\n",
    "\n",
    "# sklearn machine learning\n",
    "from sklearn.linear_model import SGDClassifier\n",
    "# classification reports\n",
    "from sklearn.metrics import classification_report\n",
    "from sklearn.metrics import confusion_matrix\n",
    "# SVM\n",
    "from sklearn.svm import SVC\n",
    "# Random Forest\n",
    "from sklearn.ensemble import RandomForestClassifier\n",
    "# Dimensionality\n",
    "from sklearn.decomposition import TruncatedSVD\n",
    "from sklearn.decomposition import PCA\n",
    "from sklearn.manifold import TSNE\n",
    "\n",
    "# visualization for tree model:\n",
    "import graphviz\n",
    "from io import StringIO\n",
    "from IPython.display import Image \n",
    "import pydotplus\n",
    "\n",
    "#  balanced bagging classifier\n",
    "from imblearn.ensemble import BalancedBaggingClassifier\n",
    "\n",
    "# to explode the DataFrames and avoid truncation\n",
    "# pd.set_option('display.max_rows', 1000)\n",
    "# pd.set_option('display.max_columns', 500)\n",
    "# pd.set_option('display.width', 1000)"
   ]
  },
  {
   "cell_type": "markdown",
   "metadata": {},
   "source": [
    "# ACQUISITION"
   ]
  },
  {
   "cell_type": "code",
   "execution_count": 2,
   "metadata": {},
   "outputs": [],
   "source": [
    "# utilize acquire script to get primary dataframe for analysis\n",
    "dfa, dfb = acquire.get_data()"
   ]
  },
  {
   "cell_type": "markdown",
   "metadata": {},
   "source": [
    "# PREPARATION"
   ]
  },
  {
   "cell_type": "markdown",
   "metadata": {},
   "source": [
    "## We will push forward and prepare dfa as we did in Phase 1.  Details and checks may be examined in the Phase 1 notebook"
   ]
  },
  {
   "cell_type": "code",
   "execution_count": 3,
   "metadata": {},
   "outputs": [],
   "source": [
    "# create recidivism column\n",
    "dfa['RECID'] = dfa.CASEID.apply(prepare.get_repeat_case)\n",
    "# use prepare function to rename features \n",
    "dfa = prepare.rename_columns_all(dfa)\n",
    "# use prepare function to re-encode data\n",
    "prepare.replace_nonvals_all(dfa)"
   ]
  },
  {
   "cell_type": "code",
   "execution_count": 4,
   "metadata": {},
   "outputs": [
    {
     "data": {
      "text/html": [
       "<div>\n",
       "<style scoped>\n",
       "    .dataframe tbody tr th:only-of-type {\n",
       "        vertical-align: middle;\n",
       "    }\n",
       "\n",
       "    .dataframe tbody tr th {\n",
       "        vertical-align: top;\n",
       "    }\n",
       "\n",
       "    .dataframe thead th {\n",
       "        text-align: right;\n",
       "    }\n",
       "</style>\n",
       "<table border=\"1\" class=\"dataframe\">\n",
       "  <thead>\n",
       "    <tr style=\"text-align: right;\">\n",
       "      <th></th>\n",
       "      <th>CASEID</th>\n",
       "      <th>M5FIRED</th>\n",
       "      <th>M11HIGH</th>\n",
       "      <th>M35SAFE</th>\n",
       "      <th>M41ILLGL</th>\n",
       "      <th>M42DAGRR</th>\n",
       "      <th>M13TALKR</th>\n",
       "      <th>M32OTHER</th>\n",
       "      <th>M27HOW</th>\n",
       "      <th>M30ARRES</th>\n",
       "      <th>...</th>\n",
       "      <th>FORCEDR</th>\n",
       "      <th>MISCARR</th>\n",
       "      <th>RESTRAIN</th>\n",
       "      <th>CHOKED</th>\n",
       "      <th>NDRUNK</th>\n",
       "      <th>RDRUNK</th>\n",
       "      <th>BOTHDRUN</th>\n",
       "      <th>NDRUGS</th>\n",
       "      <th>RDRUGS</th>\n",
       "      <th>BOTHDRUG</th>\n",
       "    </tr>\n",
       "  </thead>\n",
       "  <tbody>\n",
       "    <tr>\n",
       "      <th>0</th>\n",
       "      <td>108395</td>\n",
       "      <td>9999</td>\n",
       "      <td>2</td>\n",
       "      <td>1</td>\n",
       "      <td>2</td>\n",
       "      <td>0</td>\n",
       "      <td>1</td>\n",
       "      <td>99</td>\n",
       "      <td>99999</td>\n",
       "      <td>3</td>\n",
       "      <td>...</td>\n",
       "      <td>0</td>\n",
       "      <td>0</td>\n",
       "      <td>0</td>\n",
       "      <td>0</td>\n",
       "      <td>0</td>\n",
       "      <td>0</td>\n",
       "      <td>0</td>\n",
       "      <td>0</td>\n",
       "      <td>0</td>\n",
       "      <td>0</td>\n",
       "    </tr>\n",
       "    <tr>\n",
       "      <th>1</th>\n",
       "      <td>108397</td>\n",
       "      <td>9999</td>\n",
       "      <td>2</td>\n",
       "      <td>1</td>\n",
       "      <td>2</td>\n",
       "      <td>0</td>\n",
       "      <td>1</td>\n",
       "      <td>99</td>\n",
       "      <td>99999</td>\n",
       "      <td>3</td>\n",
       "      <td>...</td>\n",
       "      <td>0</td>\n",
       "      <td>0</td>\n",
       "      <td>0</td>\n",
       "      <td>1</td>\n",
       "      <td>2</td>\n",
       "      <td>0</td>\n",
       "      <td>0</td>\n",
       "      <td>0</td>\n",
       "      <td>0</td>\n",
       "      <td>0</td>\n",
       "    </tr>\n",
       "    <tr>\n",
       "      <th>2</th>\n",
       "      <td>108399</td>\n",
       "      <td>9999</td>\n",
       "      <td>2</td>\n",
       "      <td>1</td>\n",
       "      <td>2</td>\n",
       "      <td>0</td>\n",
       "      <td>1</td>\n",
       "      <td>99</td>\n",
       "      <td>99999</td>\n",
       "      <td>3</td>\n",
       "      <td>...</td>\n",
       "      <td>0</td>\n",
       "      <td>0</td>\n",
       "      <td>1</td>\n",
       "      <td>1</td>\n",
       "      <td>0</td>\n",
       "      <td>0</td>\n",
       "      <td>0</td>\n",
       "      <td>0</td>\n",
       "      <td>0</td>\n",
       "      <td>0</td>\n",
       "    </tr>\n",
       "    <tr>\n",
       "      <th>3</th>\n",
       "      <td>108443</td>\n",
       "      <td>9999</td>\n",
       "      <td>2</td>\n",
       "      <td>1</td>\n",
       "      <td>2</td>\n",
       "      <td>0</td>\n",
       "      <td>1</td>\n",
       "      <td>13</td>\n",
       "      <td>99999</td>\n",
       "      <td>3</td>\n",
       "      <td>...</td>\n",
       "      <td>0</td>\n",
       "      <td>0</td>\n",
       "      <td>0</td>\n",
       "      <td>1</td>\n",
       "      <td>1</td>\n",
       "      <td>0</td>\n",
       "      <td>0</td>\n",
       "      <td>0</td>\n",
       "      <td>0</td>\n",
       "      <td>0</td>\n",
       "    </tr>\n",
       "    <tr>\n",
       "      <th>4</th>\n",
       "      <td>108444</td>\n",
       "      <td>9999</td>\n",
       "      <td>1</td>\n",
       "      <td>1</td>\n",
       "      <td>2</td>\n",
       "      <td>0</td>\n",
       "      <td>1</td>\n",
       "      <td>99</td>\n",
       "      <td>99999</td>\n",
       "      <td>3</td>\n",
       "      <td>...</td>\n",
       "      <td>0</td>\n",
       "      <td>0</td>\n",
       "      <td>0</td>\n",
       "      <td>0</td>\n",
       "      <td>3</td>\n",
       "      <td>0</td>\n",
       "      <td>0</td>\n",
       "      <td>0</td>\n",
       "      <td>0</td>\n",
       "      <td>0</td>\n",
       "    </tr>\n",
       "  </tbody>\n",
       "</table>\n",
       "<p>5 rows × 29 columns</p>\n",
       "</div>"
      ],
      "text/plain": [
       "   CASEID  M5FIRED  M11HIGH  M35SAFE  M41ILLGL  M42DAGRR  M13TALKR  M32OTHER  \\\n",
       "0  108395     9999        2        1         2         0         1        99   \n",
       "1  108397     9999        2        1         2         0         1        99   \n",
       "2  108399     9999        2        1         2         0         1        99   \n",
       "3  108443     9999        2        1         2         0         1        13   \n",
       "4  108444     9999        1        1         2         0         1        99   \n",
       "\n",
       "   M27HOW  M30ARRES    ...     FORCEDR  MISCARR  RESTRAIN  CHOKED  NDRUNK  \\\n",
       "0   99999         3    ...           0        0         0       0       0   \n",
       "1   99999         3    ...           0        0         0       1       2   \n",
       "2   99999         3    ...           0        0         1       1       0   \n",
       "3   99999         3    ...           0        0         0       1       1   \n",
       "4   99999         3    ...           0        0         0       0       3   \n",
       "\n",
       "   RDRUNK  BOTHDRUN  NDRUGS  RDRUGS  BOTHDRUG  \n",
       "0       0         0       0       0         0  \n",
       "1       0         0       0       0         0  \n",
       "2       0         0       0       0         0  \n",
       "3       0         0       0       0         0  \n",
       "4       0         0       0       0         0  \n",
       "\n",
       "[5 rows x 29 columns]"
      ]
     },
     "execution_count": 4,
     "metadata": {},
     "output_type": "execute_result"
    }
   ],
   "source": [
    "#peek at dfb\n",
    "dfb.head()"
   ]
  },
  {
   "cell_type": "code",
   "execution_count": 5,
   "metadata": {
    "scrolled": true
   },
   "outputs": [
    {
     "name": "stdout",
     "output_type": "stream",
     "text": [
      "Empty DataFrame\n",
      "Columns: [sum_nulls, nulls_by_percent]\n",
      "Index: []\n"
     ]
    }
   ],
   "source": [
    "# formally check that there are no nulls in dataframe b\n",
    "prepare.get_nulls_by_column(dfb)"
   ]
  },
  {
   "cell_type": "code",
   "execution_count": 6,
   "metadata": {},
   "outputs": [
    {
     "name": "stdout",
     "output_type": "stream",
     "text": [
      "no nulls!\n"
     ]
    }
   ],
   "source": [
    "# check no 2\n",
    "if not prepare.get_nulls_by_row(dfb):\n",
    "    print('no nulls!')\n",
    "else:\n",
    "    prepare.get_nulls_by_row(dfb)"
   ]
  },
  {
   "cell_type": "code",
   "execution_count": 7,
   "metadata": {},
   "outputs": [
    {
     "name": "stdout",
     "output_type": "stream",
     "text": [
      "HEAD\n",
      "   CASEID  M5FIRED  M11HIGH  M35SAFE  M41ILLGL  M42DAGRR  M13TALKR  M32OTHER  \\\n",
      "0  108395     9999        2        1         2         0         1        99   \n",
      "1  108397     9999        2        1         2         0         1        99   \n",
      "2  108399     9999        2        1         2         0         1        99   \n",
      "3  108443     9999        2        1         2         0         1        13   \n",
      "4  108444     9999        1        1         2         0         1        99   \n",
      "\n",
      "   M27HOW  M30ARRES    ...     FORCEDR  MISCARR  RESTRAIN  CHOKED  NDRUNK  \\\n",
      "0   99999         3    ...           0        0         0       0       0   \n",
      "1   99999         3    ...           0        0         0       1       2   \n",
      "2   99999         3    ...           0        0         1       1       0   \n",
      "3   99999         3    ...           0        0         0       1       1   \n",
      "4   99999         3    ...           0        0         0       0       3   \n",
      "\n",
      "   RDRUNK  BOTHDRUN  NDRUGS  RDRUGS  BOTHDRUG  \n",
      "0       0         0       0       0         0  \n",
      "1       0         0       0       0         0  \n",
      "2       0         0       0       0         0  \n",
      "3       0         0       0       0         0  \n",
      "4       0         0       0       0         0  \n",
      "\n",
      "[5 rows x 29 columns]\n",
      "\n",
      "TAIL\n",
      "     CASEID  M5FIRED  M11HIGH  M35SAFE  M41ILLGL  M42DAGRR  M13TALKR  \\\n",
      "492  808678     9999        2        1         2         0         2   \n",
      "493  808695     9999        1        1         2         1         1   \n",
      "494  808696     9999        1        1         2         1         1   \n",
      "495  908001      999      999      999       999       999       999   \n",
      "496  908003      999      999      999       999       999       999   \n",
      "\n",
      "     M32OTHER  M27HOW  M30ARRES    ...     FORCEDR  MISCARR  RESTRAIN  CHOKED  \\\n",
      "492        99   99999         2    ...           0        0         0       0   \n",
      "493        16   99999         1    ...           4        0         1      99   \n",
      "494        18   99999         3    ...           0        0         0      99   \n",
      "495        99    9999       999    ...         999      999       999     999   \n",
      "496        99    9999       999    ...         999      999       999     999   \n",
      "\n",
      "     NDRUNK  RDRUNK  BOTHDRUN  NDRUGS  RDRUGS  BOTHDRUG  \n",
      "492       0       0         0       0       0         0  \n",
      "493       0       0         0      28       0         0  \n",
      "494       0       0         0       0       0         0  \n",
      "495     999     999       999     999     999       999  \n",
      "496     999     999       999     999     999       999  \n",
      "\n",
      "[5 rows x 29 columns]\n",
      "\n",
      "SHAPE: (497, 29)\n",
      "\n",
      "DESCRIPTION\n",
      "              CASEID      M5FIRED     M11HIGH     M35SAFE    M41ILLGL  \\\n",
      "count     497.000000   497.000000  497.000000  497.000000  497.000000   \n",
      "mean   387964.422535  8936.913481   15.392354   19.267606   19.881288   \n",
      "std    197319.742270  3077.792007  114.044050  133.185850  133.102374   \n",
      "min    108395.000000     1.000000    1.000000    1.000000    1.000000   \n",
      "25%    308037.000000  9999.000000    2.000000    1.000000    2.000000   \n",
      "50%    308498.000000  9999.000000    2.000000    1.000000    2.000000   \n",
      "75%    508541.000000  9999.000000    2.000000    1.000000    2.000000   \n",
      "max    908003.000000  9999.000000  999.000000  999.000000  999.000000   \n",
      "\n",
      "         M42DAGRR    M13TALKR    M32OTHER        M27HOW    M30ARRES  \\\n",
      "count  497.000000  497.000000  497.000000    497.000000  497.000000   \n",
      "mean    16.581489   11.321932   67.959759  86853.790744   14.199195   \n",
      "std    125.784706   99.668892   38.969415  33366.834308  108.979479   \n",
      "min      0.000000    1.000000   11.000000     11.000000    0.000000   \n",
      "25%      0.000000    1.000000   19.000000  99999.000000    1.000000   \n",
      "50%      1.000000    1.000000   99.000000  99999.000000    3.000000   \n",
      "75%      1.000000    2.000000   99.000000  99999.000000    3.000000   \n",
      "max    999.000000  999.000000   99.000000  99999.000000  999.000000   \n",
      "\n",
      "          ...         FORCEDR     MISCARR    RESTRAIN      CHOKED      NDRUNK  \\\n",
      "count     ...      497.000000  497.000000  497.000000  497.000000  497.000000   \n",
      "mean      ...        8.519115    8.064386    8.261569   32.092555   12.044266   \n",
      "std       ...       89.313737   89.349057   89.341769   96.890920   89.940740   \n",
      "min       ...        0.000000    0.000000    0.000000    0.000000    0.000000   \n",
      "25%       ...        0.000000    0.000000    0.000000    0.000000    0.000000   \n",
      "50%       ...        0.000000    0.000000    0.000000    0.000000    0.000000   \n",
      "75%       ...        0.000000    0.000000    0.000000    6.000000    2.000000   \n",
      "max       ...      999.000000  999.000000  999.000000  999.000000  999.000000   \n",
      "\n",
      "          RDRUNK    BOTHDRUN      NDRUGS      RDRUGS    BOTHDRUG  \n",
      "count  497.00000  497.000000  497.000000  497.000000  497.000000  \n",
      "mean     8.60161    8.456740   10.219316    8.764588    8.525151  \n",
      "std     89.33316   89.334517   89.678223   89.351827   89.342535  \n",
      "min      0.00000    0.000000    0.000000    0.000000    0.000000  \n",
      "25%      0.00000    0.000000    0.000000    0.000000    0.000000  \n",
      "50%      0.00000    0.000000    0.000000    0.000000    0.000000  \n",
      "75%      0.00000    0.000000    1.000000    0.000000    0.000000  \n",
      "max    999.00000  999.000000  999.000000  999.000000  999.000000  \n",
      "\n",
      "[8 rows x 29 columns]\n",
      "\n",
      "<class 'pandas.core.frame.DataFrame'>\n",
      "RangeIndex: 497 entries, 0 to 496\n",
      "Data columns (total 29 columns):\n",
      "CASEID      497 non-null int64\n",
      "M5FIRED     497 non-null int64\n",
      "M11HIGH     497 non-null int64\n",
      "M35SAFE     497 non-null int64\n",
      "M41ILLGL    497 non-null int64\n",
      "M42DAGRR    497 non-null int64\n",
      "M13TALKR    497 non-null int64\n",
      "M32OTHER    497 non-null int64\n",
      "M27HOW      497 non-null int64\n",
      "M30ARRES    497 non-null int64\n",
      "M31HOW      497 non-null int64\n",
      "M38ORDER    497 non-null int64\n",
      "SEVERER     497 non-null int64\n",
      "TOTINCR     497 non-null int64\n",
      "THREATR     497 non-null int64\n",
      "SLAPR       497 non-null int64\n",
      "PUNCHR      497 non-null int64\n",
      "BEATR       497 non-null int64\n",
      "UWEAPON     497 non-null int64\n",
      "FORCEDR     497 non-null int64\n",
      "MISCARR     497 non-null int64\n",
      "RESTRAIN    497 non-null int64\n",
      "CHOKED      497 non-null int64\n",
      "NDRUNK      497 non-null int64\n",
      "RDRUNK      497 non-null int64\n",
      "BOTHDRUN    497 non-null int64\n",
      "NDRUGS      497 non-null int64\n",
      "RDRUGS      497 non-null int64\n",
      "BOTHDRUG    497 non-null int64\n",
      "dtypes: int64(29)\n",
      "memory usage: 112.7 KB\n",
      "INFORMATION\n",
      "CASEID\n",
      "\n",
      "-------------------------------------------------------------\n",
      "\n",
      "M5FIRED\n",
      "1        10\n",
      "2        41\n",
      "9999    444\n",
      "999       2\n",
      "Name: M5FIRED, dtype: int64\n",
      "\n",
      "-------------------------------------------------------------\n",
      "\n",
      "M11HIGH\n",
      "1      101\n",
      "2      389\n",
      "888      2\n",
      "999      5\n",
      "Name: M11HIGH, dtype: int64\n",
      "\n",
      "-------------------------------------------------------------\n",
      "\n",
      "M35SAFE\n",
      "1      391\n",
      "2       97\n",
      "999      9\n",
      "Name: M35SAFE, dtype: int64\n",
      "\n",
      "-------------------------------------------------------------\n",
      "\n",
      "M41ILLGL\n",
      "1       86\n",
      "2      402\n",
      "999      9\n",
      "Name: M41ILLGL, dtype: int64\n",
      "\n",
      "-------------------------------------------------------------\n",
      "\n",
      "M42DAGRR\n",
      "0      240\n",
      "1      249\n",
      "999      8\n",
      "Name: M42DAGRR, dtype: int64\n",
      "\n",
      "-------------------------------------------------------------\n",
      "\n",
      "M13TALKR\n",
      "1      352\n",
      "2      140\n",
      "999      5\n",
      "Name: M13TALKR, dtype: int64\n",
      "\n",
      "-------------------------------------------------------------\n",
      "\n",
      "M32OTHER\n",
      "(10.911000000000001, 19.8]    125\n",
      "(19.8, 28.6]                   20\n",
      "(28.6, 37.4]                   17\n",
      "(37.4, 46.2]                   36\n",
      "(46.2, 55.0]                    0\n",
      "(55.0, 63.8]                    0\n",
      "(63.8, 72.6]                    0\n",
      "(72.6, 81.4]                    0\n",
      "(81.4, 90.2]                    0\n",
      "(90.2, 99.0]                  299\n",
      "Name: M32OTHER, dtype: int64\n",
      "\n",
      "-------------------------------------------------------------\n",
      "\n",
      "M27HOW\n",
      "11         7\n",
      "21         7\n",
      "22         6\n",
      "23         3\n",
      "24         2\n",
      "31         9\n",
      "32         5\n",
      "33         7\n",
      "41         2\n",
      "7777      11\n",
      "99999    430\n",
      "9999       8\n",
      "Name: M27HOW, dtype: int64\n",
      "\n",
      "-------------------------------------------------------------\n",
      "\n",
      "M30ARRES\n",
      "0       70\n",
      "1       83\n",
      "2       34\n",
      "3      304\n",
      "999      6\n",
      "Name: M30ARRES, dtype: int64\n",
      "\n",
      "-------------------------------------------------------------\n",
      "\n",
      "M31HOW\n",
      "1       30\n",
      "2        7\n",
      "3        8\n",
      "4       26\n",
      "5        6\n",
      "6        8\n",
      "7        3\n",
      "8        7\n",
      "9        4\n",
      "10       3\n",
      "11       2\n",
      "12       5\n",
      "13       7\n",
      "777    363\n",
      "999     18\n",
      "Name: M31HOW, dtype: int64\n",
      "\n",
      "-------------------------------------------------------------\n",
      "\n",
      "M38ORDER\n",
      "1        24\n",
      "2        39\n",
      "3       427\n",
      "9999      1\n",
      "999       6\n",
      "Name: M38ORDER, dtype: int64\n",
      "\n",
      "-------------------------------------------------------------\n",
      "\n",
      "SEVERER\n",
      "1    255\n",
      "2    238\n",
      "9      4\n",
      "Name: SEVERER, dtype: int64\n",
      "\n",
      "-------------------------------------------------------------\n",
      "\n",
      "TOTINCR\n",
      "1      143\n",
      "2      167\n",
      "3       74\n",
      "4      109\n",
      "999      4\n",
      "Name: TOTINCR, dtype: int64\n",
      "\n",
      "-------------------------------------------------------------\n",
      "\n",
      "THREATR\n",
      "0      388\n",
      "1       45\n",
      "2       19\n",
      "3       19\n",
      "4       22\n",
      "999      4\n",
      "Name: THREATR, dtype: int64\n",
      "\n",
      "-------------------------------------------------------------\n",
      "\n",
      "SLAPR\n",
      "0      215\n",
      "1      123\n",
      "2       79\n",
      "3       40\n",
      "4       36\n",
      "999      4\n",
      "Name: SLAPR, dtype: int64\n",
      "\n",
      "-------------------------------------------------------------\n",
      "\n",
      "PUNCHR\n",
      "0      255\n",
      "1      116\n",
      "2       74\n",
      "3       28\n",
      "4       20\n",
      "999      4\n",
      "Name: PUNCHR, dtype: int64\n",
      "\n",
      "-------------------------------------------------------------\n",
      "\n",
      "BEATR\n",
      "0      316\n",
      "1      116\n",
      "2       45\n",
      "3       11\n",
      "4        5\n",
      "999      4\n",
      "Name: BEATR, dtype: int64\n",
      "\n",
      "-------------------------------------------------------------\n",
      "\n",
      "UWEAPON\n",
      "0      432\n",
      "1       49\n",
      "2        9\n",
      "3        2\n",
      "8        1\n",
      "999      4\n",
      "Name: UWEAPON, dtype: int64\n",
      "\n",
      "-------------------------------------------------------------\n",
      "\n",
      "FORCEDR\n",
      "0      374\n",
      "1       57\n",
      "2       25\n",
      "3       17\n",
      "4       20\n",
      "999      4\n",
      "Name: FORCEDR, dtype: int64\n",
      "\n",
      "-------------------------------------------------------------\n",
      "\n",
      "MISCARR\n",
      "0      481\n",
      "1       12\n",
      "999      4\n",
      "Name: MISCARR, dtype: int64\n",
      "\n",
      "-------------------------------------------------------------\n",
      "\n",
      "RESTRAIN\n",
      "0      436\n",
      "1       49\n",
      "2        2\n",
      "3        3\n",
      "8        1\n",
      "17       1\n",
      "23       1\n",
      "999      4\n",
      "Name: RESTRAIN, dtype: int64\n",
      "\n",
      "-------------------------------------------------------------\n",
      "\n",
      "CHOKED\n",
      "0      314\n",
      "1       49\n",
      "2        8\n",
      "3        1\n",
      "6        1\n",
      "99     120\n",
      "999      4\n",
      "Name: CHOKED, dtype: int64\n",
      "\n",
      "-------------------------------------------------------------\n",
      "\n",
      "NDRUNK\n",
      "(-1.0, 99.9]      492\n",
      "(99.9, 199.8]       1\n",
      "(199.8, 299.7]      0\n",
      "(299.7, 399.6]      0\n",
      "(399.6, 499.5]      0\n",
      "(499.5, 599.4]      0\n",
      "(599.4, 699.3]      0\n",
      "(699.3, 799.2]      0\n",
      "(799.2, 899.1]      0\n",
      "(899.1, 999.0]      4\n",
      "Name: NDRUNK, dtype: int64\n",
      "\n",
      "-------------------------------------------------------------\n",
      "\n",
      "RDRUNK\n",
      "0      413\n",
      "1       37\n",
      "2       14\n",
      "3        8\n",
      "4        5\n",
      "5        6\n",
      "6        2\n",
      "7        2\n",
      "9        1\n",
      "12       1\n",
      "17       1\n",
      "22       1\n",
      "23       1\n",
      "31       1\n",
      "999      4\n",
      "Name: RDRUNK, dtype: int64\n",
      "\n",
      "-------------------------------------------------------------\n",
      "\n",
      "BOTHDRUN\n",
      "0      431\n",
      "1       30\n",
      "2        9\n",
      "3        8\n",
      "4        2\n",
      "5        6\n",
      "7        2\n",
      "9        1\n",
      "12       1\n",
      "17       1\n",
      "22       1\n",
      "23       1\n",
      "999      4\n",
      "Name: BOTHDRUN, dtype: int64\n",
      "\n",
      "-------------------------------------------------------------\n",
      "\n",
      "NDRUGS\n",
      "(-1.0, 99.9]      492\n",
      "(99.9, 199.8]       1\n",
      "(199.8, 299.7]      0\n",
      "(299.7, 399.6]      0\n",
      "(399.6, 499.5]      0\n",
      "(499.5, 599.4]      0\n",
      "(599.4, 699.3]      0\n",
      "(699.3, 799.2]      0\n",
      "(799.2, 899.1]      0\n",
      "(899.1, 999.0]      4\n",
      "Name: NDRUGS, dtype: int64\n",
      "\n",
      "-------------------------------------------------------------\n",
      "\n",
      "RDRUGS\n",
      "(-1.0, 99.9]      493\n",
      "(99.9, 199.8]       0\n",
      "(199.8, 299.7]      0\n",
      "(299.7, 399.6]      0\n",
      "(399.6, 499.5]      0\n",
      "(499.5, 599.4]      0\n",
      "(599.4, 699.3]      0\n",
      "(699.3, 799.2]      0\n",
      "(799.2, 899.1]      0\n",
      "(899.1, 999.0]      4\n",
      "Name: RDRUGS, dtype: int64\n",
      "\n",
      "-------------------------------------------------------------\n",
      "\n",
      "BOTHDRUG\n",
      "0      450\n",
      "1       12\n",
      "2        7\n",
      "3        7\n",
      "4        4\n",
      "5        2\n",
      "7        2\n",
      "9        1\n",
      "10       1\n",
      "12       1\n",
      "15       1\n",
      "17       1\n",
      "21       1\n",
      "22       1\n",
      "23       1\n",
      "25       1\n",
      "999      4\n",
      "Name: BOTHDRUG, dtype: int64\n",
      "\n",
      "-------------------------------------------------------------\n",
      "\n"
     ]
    }
   ],
   "source": [
    "prepare.summarize_data(dfb)"
   ]
  },
  {
   "cell_type": "markdown",
   "metadata": {},
   "source": [
    "## We can see the cases where reassault happened. There are 350 cases out of the original 705 (before the padding implemented in Phase 1). There were 497 cases of domestic violence (cases where the surveyed was identified as abused)."
   ]
  },
  {
   "cell_type": "code",
   "execution_count": 8,
   "metadata": {},
   "outputs": [],
   "source": [
    "# make new dataframe out of subset of dfa where we only look at the victims of abuse\n",
    "dfa_abused = dfa[dfa.abuse_past_year == 1]"
   ]
  },
  {
   "cell_type": "code",
   "execution_count": 9,
   "metadata": {},
   "outputs": [
    {
     "name": "stdout",
     "output_type": "stream",
     "text": [
      "<class 'pandas.core.frame.DataFrame'>\n",
      "RangeIndex: 497 entries, 0 to 496\n",
      "Data columns (total 29 columns):\n",
      "CASEID      497 non-null int64\n",
      "M5FIRED     497 non-null int64\n",
      "M11HIGH     497 non-null int64\n",
      "M35SAFE     497 non-null int64\n",
      "M41ILLGL    497 non-null int64\n",
      "M42DAGRR    497 non-null int64\n",
      "M13TALKR    497 non-null int64\n",
      "M32OTHER    497 non-null int64\n",
      "M27HOW      497 non-null int64\n",
      "M30ARRES    497 non-null int64\n",
      "M31HOW      497 non-null int64\n",
      "M38ORDER    497 non-null int64\n",
      "SEVERER     497 non-null int64\n",
      "TOTINCR     497 non-null int64\n",
      "THREATR     497 non-null int64\n",
      "SLAPR       497 non-null int64\n",
      "PUNCHR      497 non-null int64\n",
      "BEATR       497 non-null int64\n",
      "UWEAPON     497 non-null int64\n",
      "FORCEDR     497 non-null int64\n",
      "MISCARR     497 non-null int64\n",
      "RESTRAIN    497 non-null int64\n",
      "CHOKED      497 non-null int64\n",
      "NDRUNK      497 non-null int64\n",
      "RDRUNK      497 non-null int64\n",
      "BOTHDRUN    497 non-null int64\n",
      "NDRUGS      497 non-null int64\n",
      "RDRUGS      497 non-null int64\n",
      "BOTHDRUG    497 non-null int64\n",
      "dtypes: int64(29)\n",
      "memory usage: 112.7 KB\n"
     ]
    }
   ],
   "source": [
    "# cursory glance at dfb\n",
    "dfb.info()"
   ]
  },
  {
   "cell_type": "code",
   "execution_count": 10,
   "metadata": {},
   "outputs": [],
   "source": [
    "# re-name columns in dfb into more readable features\n",
    "dfb = prepare.rename_columns_recid(dfb)"
   ]
  },
  {
   "cell_type": "code",
   "execution_count": 11,
   "metadata": {},
   "outputs": [],
   "source": [
    "# re-encode / clean values from dfb dataframe\n",
    "prepare.replace_nonvals_recid(dfb)"
   ]
  },
  {
   "cell_type": "code",
   "execution_count": 12,
   "metadata": {},
   "outputs": [],
   "source": [
    "# merge our dfb data onto our original phase one data set\n",
    "df = dfa_abused.merge(right=dfb, on='id')"
   ]
  },
  {
   "cell_type": "code",
   "execution_count": 13,
   "metadata": {},
   "outputs": [],
   "source": [
    "# isolate single abuse cases into \n",
    "single_abuse = df[df.reassault == 0]"
   ]
  },
  {
   "cell_type": "code",
   "execution_count": 14,
   "metadata": {
    "scrolled": false
   },
   "outputs": [
    {
     "name": "stderr",
     "output_type": "stream",
     "text": [
      "/usr/local/anaconda3/lib/python3.7/site-packages/ipykernel_launcher.py:2: SettingWithCopyWarning: \n",
      "A value is trying to be set on a copy of a slice from a DataFrame.\n",
      "Try using .loc[row_indexer,col_indexer] = value instead\n",
      "\n",
      "See the caveats in the documentation: http://pandas.pydata.org/pandas-docs/stable/indexing.html#indexing-view-versus-copy\n",
      "  \n"
     ]
    }
   ],
   "source": [
    "# create new dataframe of just single abuse cases, reassign them new range of case ids\n",
    "single_abuse['id'] = range(999999, 999999 + len(single_abuse))"
   ]
  },
  {
   "cell_type": "code",
   "execution_count": 15,
   "metadata": {},
   "outputs": [],
   "source": [
    "#append the padded single assault values to our greater dataframe\n",
    "df = df.append(single_abuse)"
   ]
  },
  {
   "cell_type": "code",
   "execution_count": 16,
   "metadata": {
    "scrolled": true
   },
   "outputs": [
    {
     "name": "stdout",
     "output_type": "stream",
     "text": [
      "Empty DataFrame\n",
      "Columns: [sum_nulls, nulls_by_percent]\n",
      "Index: []\n"
     ]
    }
   ],
   "source": [
    "# formally check that there are no nulls in dataframe\n",
    "prepare.get_nulls_by_column(df)"
   ]
  },
  {
   "cell_type": "code",
   "execution_count": 17,
   "metadata": {},
   "outputs": [
    {
     "name": "stdout",
     "output_type": "stream",
     "text": [
      "no nulls!\n"
     ]
    }
   ],
   "source": [
    "# check no 2\n",
    "if not prepare.get_nulls_by_row(df):\n",
    "    print('no nulls!')\n",
    "else:\n",
    "    prepare.get_nulls_by_row(df)"
   ]
  },
  {
   "cell_type": "code",
   "execution_count": 18,
   "metadata": {},
   "outputs": [
    {
     "data": {
      "text/plain": [
       "(644, 73)"
      ]
     },
     "execution_count": 18,
     "metadata": {},
     "output_type": "execute_result"
    }
   ],
   "source": [
    "df.shape"
   ]
  },
  {
   "cell_type": "code",
   "execution_count": 19,
   "metadata": {},
   "outputs": [
    {
     "data": {
      "text/plain": [
       "1    350\n",
       "0    294\n",
       "Name: reassault, dtype: int64"
      ]
     },
     "execution_count": 19,
     "metadata": {},
     "output_type": "execute_result"
    }
   ],
   "source": [
    "df.reassault.value_counts()"
   ]
  },
  {
   "cell_type": "code",
   "execution_count": 20,
   "metadata": {},
   "outputs": [],
   "source": [
    "# create list of features\n",
    "features = [col for col in df]\n",
    "# drop features from this list that are perceived as primary key or target variable\n",
    "features.remove('id')\n",
    "features.remove('abuse_past_year')\n",
    "features.remove('abuse_status')\n",
    "features.remove('reassault')"
   ]
  },
  {
   "cell_type": "code",
   "execution_count": 21,
   "metadata": {},
   "outputs": [
    {
     "data": {
      "text/plain": [
       "['length_relationship',\n",
       " 'partner_abusive',\n",
       " 'num_abusers',\n",
       " 'num_children',\n",
       " 'pregnant',\n",
       " 'beaten_while_pregnant',\n",
       " 'support_score',\n",
       " 'guns_in_home',\n",
       " 'jealous_past_year',\n",
       " 'limit_family_contact',\n",
       " 'location_tracking',\n",
       " 'threat_hit',\n",
       " 'threat_object',\n",
       " 'push_shove',\n",
       " 'slap',\n",
       " 'kick_punch',\n",
       " 'hit_object',\n",
       " 'beaten',\n",
       " 'choked',\n",
       " 'threat_knife',\n",
       " 'threat_gun',\n",
       " 'rape_with_threat',\n",
       " 'power_scale',\n",
       " 'harass_scale',\n",
       " 'id_age',\n",
       " 'age_disparity',\n",
       " 'children_not_partner',\n",
       " 'same_sex_relationship',\n",
       " 'partner_drug_use',\n",
       " 'partner_alcohol_use',\n",
       " 'threat_suicide',\n",
       " 'partner_reported_child_abuse',\n",
       " 'partner_arrested',\n",
       " 'violence_increased',\n",
       " 'severity_increased',\n",
       " 'weapon_ever',\n",
       " 'choked_ever',\n",
       " 'rape_ever',\n",
       " 'controlled_ever',\n",
       " 'jealous',\n",
       " 'capable_murder',\n",
       " 'gun_fired',\n",
       " 'anyone_high',\n",
       " 'safe_place',\n",
       " 'forced_illegal',\n",
       " 'life_danger',\n",
       " 'talk_about_it',\n",
       " 'left_or_not',\n",
       " 'medical_staff_helpful',\n",
       " 'perp_arrested_ever',\n",
       " 'police_resp',\n",
       " 'order_protection',\n",
       " 'level_severity',\n",
       " 'num_incidents',\n",
       " 'num_threats',\n",
       " 'num_slapping',\n",
       " 'num_punching',\n",
       " 'num_beating',\n",
       " 'num_weapon',\n",
       " 'num_forced_sex',\n",
       " 'miscarriage_resulted',\n",
       " 'restrained_by_perp',\n",
       " 'num_choked',\n",
       " 'num_perp_drunk',\n",
       " 'num_woman_drunk',\n",
       " 'num_both_drunk',\n",
       " 'num_perp_drugs',\n",
       " 'num_woman_drugs',\n",
       " 'num_both_drugs']"
      ]
     },
     "execution_count": 21,
     "metadata": {},
     "output_type": "execute_result"
    }
   ],
   "source": [
    "features"
   ]
  },
  {
   "cell_type": "code",
   "execution_count": 22,
   "metadata": {},
   "outputs": [],
   "source": [
    "df.to_csv('phase2_df.csv')"
   ]
  },
  {
   "cell_type": "code",
   "execution_count": 23,
   "metadata": {},
   "outputs": [],
   "source": [
    "# split train and test\n",
    "X = df[features]\n",
    "y = df[['reassault']]\n",
    "X_train, X_test, y_train, y_test = train_test_split(X, y, test_size = .15, random_state = 0, stratify=y)\n",
    "\n",
    "train_df = pd.concat([X_train, y_train], axis=1)\n",
    "test_df = pd.concat([X_test, y_test], axis=1)"
   ]
  },
  {
   "cell_type": "markdown",
   "metadata": {},
   "source": [
    "# EXPLORATION"
   ]
  },
  {
   "cell_type": "markdown",
   "metadata": {},
   "source": [
    "## We will run chi-squared tests on our categorical variables in order to get a grasp of importance"
   ]
  },
  {
   "cell_type": "code",
   "execution_count": 24,
   "metadata": {},
   "outputs": [
    {
     "name": "stdout",
     "output_type": "stream",
     "text": [
      "length_relationship\n",
      "Dependent (reject H0)\n",
      "-----------------------\n",
      "num_abusers\n",
      "Dependent (reject H0)\n",
      "-----------------------\n",
      "beaten_while_pregnant\n",
      "Dependent (reject H0)\n",
      "-----------------------\n",
      "support_score\n",
      "Dependent (reject H0)\n",
      "-----------------------\n",
      "jealous_past_year\n",
      "Dependent (reject H0)\n",
      "-----------------------\n",
      "limit_family_contact\n",
      "Dependent (reject H0)\n",
      "-----------------------\n",
      "location_tracking\n",
      "Dependent (reject H0)\n",
      "-----------------------\n",
      "threat_hit\n",
      "Dependent (reject H0)\n",
      "-----------------------\n",
      "threat_object\n",
      "Dependent (reject H0)\n",
      "-----------------------\n",
      "push_shove\n",
      "Dependent (reject H0)\n",
      "-----------------------\n",
      "slap\n",
      "Dependent (reject H0)\n",
      "-----------------------\n",
      "kick_punch\n",
      "Dependent (reject H0)\n",
      "-----------------------\n",
      "hit_object\n",
      "Dependent (reject H0)\n",
      "-----------------------\n",
      "beaten\n",
      "Dependent (reject H0)\n",
      "-----------------------\n",
      "choked\n",
      "Dependent (reject H0)\n",
      "-----------------------\n",
      "threat_knife\n",
      "Dependent (reject H0)\n",
      "-----------------------\n",
      "threat_gun\n",
      "Dependent (reject H0)\n",
      "-----------------------\n",
      "rape_with_threat\n",
      "Dependent (reject H0)\n",
      "-----------------------\n",
      "power_scale\n",
      "Dependent (reject H0)\n",
      "-----------------------\n",
      "harass_scale\n",
      "Dependent (reject H0)\n",
      "-----------------------\n",
      "age_disparity\n",
      "Dependent (reject H0)\n",
      "-----------------------\n",
      "partner_drug_use\n",
      "Dependent (reject H0)\n",
      "-----------------------\n",
      "partner_alcohol_use\n",
      "Dependent (reject H0)\n",
      "-----------------------\n",
      "threat_suicide\n",
      "Dependent (reject H0)\n",
      "-----------------------\n",
      "partner_reported_child_abuse\n",
      "Dependent (reject H0)\n",
      "-----------------------\n",
      "partner_arrested\n",
      "Dependent (reject H0)\n",
      "-----------------------\n",
      "violence_increased\n",
      "Dependent (reject H0)\n",
      "-----------------------\n",
      "severity_increased\n",
      "Dependent (reject H0)\n",
      "-----------------------\n",
      "weapon_ever\n",
      "Dependent (reject H0)\n",
      "-----------------------\n",
      "choked_ever\n",
      "Dependent (reject H0)\n",
      "-----------------------\n",
      "rape_ever\n",
      "Dependent (reject H0)\n",
      "-----------------------\n",
      "controlled_ever\n",
      "Dependent (reject H0)\n",
      "-----------------------\n",
      "jealous\n",
      "Dependent (reject H0)\n",
      "-----------------------\n",
      "capable_murder\n",
      "Dependent (reject H0)\n",
      "-----------------------\n",
      "gun_fired\n",
      "Dependent (reject H0)\n",
      "-----------------------\n",
      "anyone_high\n",
      "Dependent (reject H0)\n",
      "-----------------------\n",
      "safe_place\n",
      "Dependent (reject H0)\n",
      "-----------------------\n",
      "forced_illegal\n",
      "Dependent (reject H0)\n",
      "-----------------------\n",
      "life_danger\n",
      "Dependent (reject H0)\n",
      "-----------------------\n",
      "perp_arrested_ever\n",
      "Dependent (reject H0)\n",
      "-----------------------\n",
      "police_resp\n",
      "Dependent (reject H0)\n",
      "-----------------------\n",
      "level_severity\n",
      "Dependent (reject H0)\n",
      "-----------------------\n",
      "num_incidents\n",
      "Dependent (reject H0)\n",
      "-----------------------\n",
      "num_threats\n",
      "Dependent (reject H0)\n",
      "-----------------------\n",
      "num_slapping\n",
      "Dependent (reject H0)\n",
      "-----------------------\n",
      "num_punching\n",
      "Dependent (reject H0)\n",
      "-----------------------\n",
      "num_beating\n",
      "Dependent (reject H0)\n",
      "-----------------------\n",
      "num_weapon\n",
      "Dependent (reject H0)\n",
      "-----------------------\n",
      "num_forced_sex\n",
      "Dependent (reject H0)\n",
      "-----------------------\n",
      "miscarriage_resulted\n",
      "Dependent (reject H0)\n",
      "-----------------------\n",
      "restrained_by_perp\n",
      "Dependent (reject H0)\n",
      "-----------------------\n",
      "num_choked\n",
      "Dependent (reject H0)\n",
      "-----------------------\n",
      "num_perp_drunk\n",
      "Dependent (reject H0)\n",
      "-----------------------\n",
      "num_woman_drunk\n",
      "Dependent (reject H0)\n",
      "-----------------------\n",
      "num_both_drunk\n",
      "Dependent (reject H0)\n",
      "-----------------------\n",
      "num_perp_drugs\n",
      "Dependent (reject H0)\n",
      "-----------------------\n",
      "num_woman_drugs\n",
      "Dependent (reject H0)\n",
      "-----------------------\n",
      "num_both_drugs\n",
      "Dependent (reject H0)\n",
      "-----------------------\n"
     ]
    }
   ],
   "source": [
    "# we will run chi-squared tests on our categorical variables in order to get a grasp of importance\n",
    "sig_feats, sig_dict = explore.get_chi_squared(train_df, features, 'reassault')"
   ]
  },
  {
   "cell_type": "code",
   "execution_count": 25,
   "metadata": {},
   "outputs": [
    {
     "name": "stderr",
     "output_type": "stream",
     "text": [
      "/usr/local/anaconda3/lib/python3.7/site-packages/sklearn/preprocessing/data.py:323: DataConversionWarning: Data with input dtype int64 were all converted to float64 by MinMaxScaler.\n",
      "  return self.partial_fit(X, y)\n"
     ]
    }
   ],
   "source": [
    "# scale continuous variables\n",
    "scaler = MinMaxScaler()\n",
    "\n",
    "scaler.fit(train_df[['id_age']])\n",
    "\n",
    "train_df[['id_age']] = scaler.transform(train_df[['id_age']])\n",
    "test_df[['id_age']] = scaler.transform(test_df[['id_age']])"
   ]
  },
  {
   "cell_type": "code",
   "execution_count": 26,
   "metadata": {},
   "outputs": [],
   "source": [
    "continuous_vars = ['id_age']"
   ]
  },
  {
   "cell_type": "code",
   "execution_count": 27,
   "metadata": {},
   "outputs": [],
   "source": [
    "sig_feats_c, sig_dict_c = explore.get_significant_t_tests(train_df, ['id_age'], 'reassault')"
   ]
  },
  {
   "cell_type": "code",
   "execution_count": 28,
   "metadata": {},
   "outputs": [],
   "source": [
    "# call function that combines significant features from dictionaries created in statistical tests if both generated results\n",
    "# otherwise make list of features just from whichever (t test or chi squared) produced significant results\n",
    "if sig_feats_c and sig_feats:\n",
    "    features = explore.combine_significants(sig_dict, sig_dict_c)\n",
    "elif sig_feats_c:\n",
    "    features = [item[0] for item in explore.sort_sigs(sig_dict_c)]\n",
    "elif sig_feats:\n",
    "    features = [item[0] for item in explore.sort_sigs(sig_dict)]"
   ]
  },
  {
   "cell_type": "code",
   "execution_count": 29,
   "metadata": {},
   "outputs": [],
   "source": [
    "# explore.make_bars(train_df, 'reassault', features)"
   ]
  },
  {
   "cell_type": "code",
   "execution_count": 30,
   "metadata": {},
   "outputs": [],
   "source": [
    "# explore.swarrrm(train_df, 'reassault', ['id_age'])"
   ]
  },
  {
   "cell_type": "code",
   "execution_count": 31,
   "metadata": {},
   "outputs": [],
   "source": [
    "# for feature in continuous_vars:\n",
    "#    sns.lineplot(x=feature, y='reassault', data=train_df)\n",
    "#    plt.show()"
   ]
  },
  {
   "cell_type": "code",
   "execution_count": 32,
   "metadata": {},
   "outputs": [],
   "source": [
    "# histograms\n",
    "# normalization(?)\n",
    "# explore.plot_hist(train_df)"
   ]
  },
  {
   "cell_type": "code",
   "execution_count": 33,
   "metadata": {},
   "outputs": [],
   "source": [
    "# explore.make_rel(train_df, 'id_age', 'age_disparity', hue='reassault')"
   ]
  },
  {
   "cell_type": "markdown",
   "metadata": {},
   "source": []
  },
  {
   "cell_type": "markdown",
   "metadata": {},
   "source": []
  },
  {
   "cell_type": "code",
   "execution_count": 34,
   "metadata": {},
   "outputs": [],
   "source": [
    "# function to remove any \"significant features\" that automatically denote target\n",
    "prepare.remove_phase_2_features(features)"
   ]
  },
  {
   "cell_type": "code",
   "execution_count": 35,
   "metadata": {},
   "outputs": [],
   "source": [
    "# create some subsets of significant features to assess model performance\n",
    "top_5 = features[0:5]\n",
    "top_10 = features[0:10]\n",
    "top_15 = features[0:15]"
   ]
  },
  {
   "cell_type": "markdown",
   "metadata": {},
   "source": [
    "# Modeling:"
   ]
  },
  {
   "cell_type": "markdown",
   "metadata": {},
   "source": [
    "### We will attempt several different tactics and models as a means to find the best fit for our data set.  We will try with various features and par down with what we found as being statistically significant through chi-squared testing."
   ]
  },
  {
   "cell_type": "markdown",
   "metadata": {},
   "source": [
    "# Naive Bayes"
   ]
  },
  {
   "cell_type": "code",
   "execution_count": 36,
   "metadata": {},
   "outputs": [
    {
     "name": "stderr",
     "output_type": "stream",
     "text": [
      "/usr/local/anaconda3/lib/python3.7/site-packages/sklearn/utils/validation.py:761: DataConversionWarning: A column-vector y was passed when a 1d array was expected. Please change the shape of y to (n_samples, ), for example using ravel().\n",
      "  y = column_or_1d(y, warn=True)\n"
     ]
    }
   ],
   "source": [
    "import model\n",
    "gnb_model, y_pred, y_pred_proba = model.naive_bayes(features, X_train, y_train)"
   ]
  },
  {
   "cell_type": "code",
   "execution_count": 37,
   "metadata": {},
   "outputs": [
    {
     "name": "stdout",
     "output_type": "stream",
     "text": [
      "Accuracy of GNB classifier on training set: 0.70\n"
     ]
    }
   ],
   "source": [
    "print('Accuracy of GNB classifier on training set: {:.2f}'\n",
    "     .format(gnb_model.score(X_train[features], y_train)))"
   ]
  },
  {
   "cell_type": "code",
   "execution_count": 38,
   "metadata": {},
   "outputs": [
    {
     "name": "stdout",
     "output_type": "stream",
     "text": [
      "[[101 149]\n",
      " [ 15 282]]\n"
     ]
    }
   ],
   "source": [
    "# print raw confusion matrix:\n",
    "# ~~~~~ edit this to display cleaner ~~~~~\n",
    "print(confusion_matrix(y_train, y_pred))"
   ]
  },
  {
   "cell_type": "code",
   "execution_count": 39,
   "metadata": {},
   "outputs": [
    {
     "name": "stdout",
     "output_type": "stream",
     "text": [
      "              precision    recall  f1-score   support\n",
      "\n",
      "           0       0.87      0.40      0.55       250\n",
      "           1       0.65      0.95      0.77       297\n",
      "\n",
      "   micro avg       0.70      0.70      0.70       547\n",
      "   macro avg       0.76      0.68      0.66       547\n",
      "weighted avg       0.75      0.70      0.67       547\n",
      "\n"
     ]
    }
   ],
   "source": [
    "# classification report\n",
    "print(classification_report(y_train, y_pred))\n"
   ]
  },
  {
   "cell_type": "code",
   "execution_count": 40,
   "metadata": {},
   "outputs": [
    {
     "name": "stderr",
     "output_type": "stream",
     "text": [
      "/usr/local/anaconda3/lib/python3.7/site-packages/sklearn/utils/validation.py:761: DataConversionWarning: A column-vector y was passed when a 1d array was expected. Please change the shape of y to (n_samples, ), for example using ravel().\n",
      "  y = column_or_1d(y, warn=True)\n"
     ]
    }
   ],
   "source": [
    "gnb, y_pred, y_pred_proba = model.naive_bayes(top_10, X_train, y_train)"
   ]
  },
  {
   "cell_type": "code",
   "execution_count": 41,
   "metadata": {},
   "outputs": [
    {
     "name": "stdout",
     "output_type": "stream",
     "text": [
      "Accuracy of GNB classifier on training set: 0.74\n",
      "[[186  64]\n",
      " [ 78 219]]\n",
      "              precision    recall  f1-score   support\n",
      "\n",
      "           0       0.70      0.74      0.72       250\n",
      "           1       0.77      0.74      0.76       297\n",
      "\n",
      "   micro avg       0.74      0.74      0.74       547\n",
      "   macro avg       0.74      0.74      0.74       547\n",
      "weighted avg       0.74      0.74      0.74       547\n",
      "\n"
     ]
    }
   ],
   "source": [
    "print('Accuracy of GNB classifier on training set: {:.2f}'\n",
    "     .format(gnb.score(X_train[top_10], y_train)))\n",
    "\n",
    "print(confusion_matrix(y_train, y_pred))\n",
    "\n",
    "\n",
    "print(classification_report(y_train, y_pred))"
   ]
  },
  {
   "cell_type": "markdown",
   "metadata": {},
   "source": []
  },
  {
   "cell_type": "markdown",
   "metadata": {},
   "source": [
    "## Logistic Regression w/ Cross Validation: "
   ]
  },
  {
   "cell_type": "code",
   "execution_count": 42,
   "metadata": {},
   "outputs": [
    {
     "name": "stderr",
     "output_type": "stream",
     "text": [
      "/usr/local/anaconda3/lib/python3.7/site-packages/sklearn/utils/validation.py:761: DataConversionWarning: A column-vector y was passed when a 1d array was expected. Please change the shape of y to (n_samples, ), for example using ravel().\n",
      "  y = column_or_1d(y, warn=True)\n"
     ]
    }
   ],
   "source": [
    "clf, y_pred, y_pred_proba = model.log_reg(top_10, X_train, y_train)"
   ]
  },
  {
   "cell_type": "code",
   "execution_count": 43,
   "metadata": {},
   "outputs": [
    {
     "name": "stdout",
     "output_type": "stream",
     "text": [
      "Accuracy of Logistic Regression classifier on training set: 0.77\n",
      "[[182  68]\n",
      " [ 57 240]]\n",
      "              precision    recall  f1-score   support\n",
      "\n",
      "           0       0.76      0.73      0.74       250\n",
      "           1       0.78      0.81      0.79       297\n",
      "\n",
      "   micro avg       0.77      0.77      0.77       547\n",
      "   macro avg       0.77      0.77      0.77       547\n",
      "weighted avg       0.77      0.77      0.77       547\n",
      "\n"
     ]
    }
   ],
   "source": [
    "print('Accuracy of Logistic Regression classifier on training set: {:.2f}'\n",
    "     .format(clf.score(X_train[top_10], y_train)))\n",
    "\n",
    "print(confusion_matrix(y_train, y_pred))\n",
    "\n",
    "print(classification_report(y_train, y_pred))"
   ]
  },
  {
   "cell_type": "markdown",
   "metadata": {},
   "source": [
    "## Decision Tree:"
   ]
  },
  {
   "cell_type": "code",
   "execution_count": 44,
   "metadata": {},
   "outputs": [],
   "source": [
    "params = {'max_depth': [2, 3, 4],\n",
    "          'max_features': [None, 1, 3]}\n",
    "\n",
    "# # for classificaiton you can change the algorithm as gini or entropy (information gain).  Default is gini.\n",
    "# dtc = DecisionTreeClassifier(criterion='entropy', max_depth=4, max_features=3, random_state=0)\n",
    "\n",
    "# grid = GridSearchCV(dtc, params, cv=3, iid=True)\n",
    "\n",
    "# grid.fit(X_train[top_5], y_train)\n",
    "\n",
    "# results = grid.cv_results_\n",
    "# results.keys()\n",
    "\n",
    "# test_scores = results['mean_test_score']\n",
    "# test_scores\n",
    "\n",
    "# params = results['params']\n",
    "# params\n",
    "\n",
    "# for p, s in zip(params, test_scores):\n",
    "#     p['score'] = s\n",
    "\n",
    "# pd.DataFrame(params).sort_values(by='score')\n",
    "\n",
    "# dtc.fit(X_train[top_5], y_train)"
   ]
  },
  {
   "cell_type": "code",
   "execution_count": 45,
   "metadata": {},
   "outputs": [],
   "source": [
    "# cross_val_score(dtc, X_train[top_5], y_train, cv=5)"
   ]
  },
  {
   "cell_type": "code",
   "execution_count": 46,
   "metadata": {},
   "outputs": [],
   "source": [
    "# y_pred = dtc.predict(X_train[top_5])\n",
    "# y_pred[0:5]"
   ]
  },
  {
   "cell_type": "code",
   "execution_count": 47,
   "metadata": {},
   "outputs": [],
   "source": [
    "# y_pred_proba = dtc.predict_proba(X_train[top_5])\n",
    "# y_pred_proba"
   ]
  },
  {
   "cell_type": "code",
   "execution_count": 48,
   "metadata": {},
   "outputs": [
    {
     "name": "stdout",
     "output_type": "stream",
     "text": [
      "[0.7        0.68181818 0.74311927 0.70642202 0.75229358]\n"
     ]
    }
   ],
   "source": [
    "dtc, y_pred, y_pred_proba = model.decision_tree(params, top_10, X_train, y_train)"
   ]
  },
  {
   "cell_type": "code",
   "execution_count": 57,
   "metadata": {},
   "outputs": [
    {
     "name": "stdout",
     "output_type": "stream",
     "text": [
      "Accuracy of Decision Tree classifier on training set: 0.77\n",
      "[[169  81]\n",
      " [ 50 247]]\n",
      "              precision    recall  f1-score   support\n",
      "\n",
      "           0       0.77      0.68      0.72       250\n",
      "           1       0.75      0.83      0.79       297\n",
      "\n",
      "   micro avg       0.76      0.76      0.76       547\n",
      "   macro avg       0.76      0.75      0.76       547\n",
      "weighted avg       0.76      0.76      0.76       547\n",
      "\n"
     ]
    }
   ],
   "source": [
    "print('Accuracy of Decision Tree classifier on training set: {:.2f}'\n",
    "     .format(clf.score(X_train[top_10], y_train)))\n",
    "\n",
    "print(confusion_matrix(y_train, y_pred))\n",
    "\n",
    "print(classification_report(y_train, y_pred))"
   ]
  },
  {
   "cell_type": "code",
   "execution_count": 58,
   "metadata": {},
   "outputs": [
    {
     "data": {
      "text/plain": [
       "array([[169,  81],\n",
       "       [ 50, 247]])"
      ]
     },
     "execution_count": 58,
     "metadata": {},
     "output_type": "execute_result"
    }
   ],
   "source": [
    "confusion_matrix(y_train, y_pred)"
   ]
  },
  {
   "cell_type": "code",
   "execution_count": 59,
   "metadata": {},
   "outputs": [
    {
     "data": {
      "text/plain": [
       "[0, 1]"
      ]
     },
     "execution_count": 59,
     "metadata": {},
     "output_type": "execute_result"
    }
   ],
   "source": [
    "sorted(y_train.reassault.unique())"
   ]
  },
  {
   "cell_type": "code",
   "execution_count": 60,
   "metadata": {},
   "outputs": [
    {
     "data": {
      "text/plain": [
       "1    297\n",
       "0    250\n",
       "Name: reassault, dtype: int64"
      ]
     },
     "execution_count": 60,
     "metadata": {},
     "output_type": "execute_result"
    }
   ],
   "source": [
    "y_train.reassault.value_counts()"
   ]
  },
  {
   "cell_type": "code",
   "execution_count": 61,
   "metadata": {},
   "outputs": [
    {
     "data": {
      "text/html": [
       "<div>\n",
       "<style scoped>\n",
       "    .dataframe tbody tr th:only-of-type {\n",
       "        vertical-align: middle;\n",
       "    }\n",
       "\n",
       "    .dataframe tbody tr th {\n",
       "        vertical-align: top;\n",
       "    }\n",
       "\n",
       "    .dataframe thead th {\n",
       "        text-align: right;\n",
       "    }\n",
       "</style>\n",
       "<table border=\"1\" class=\"dataframe\">\n",
       "  <thead>\n",
       "    <tr style=\"text-align: right;\">\n",
       "      <th></th>\n",
       "      <th>0</th>\n",
       "      <th>1</th>\n",
       "    </tr>\n",
       "  </thead>\n",
       "  <tbody>\n",
       "    <tr>\n",
       "      <th>0</th>\n",
       "      <td>169</td>\n",
       "      <td>81</td>\n",
       "    </tr>\n",
       "    <tr>\n",
       "      <th>1</th>\n",
       "      <td>50</td>\n",
       "      <td>247</td>\n",
       "    </tr>\n",
       "  </tbody>\n",
       "</table>\n",
       "</div>"
      ],
      "text/plain": [
       "     0    1\n",
       "0  169   81\n",
       "1   50  247"
      ]
     },
     "execution_count": 61,
     "metadata": {},
     "output_type": "execute_result"
    }
   ],
   "source": [
    "labels = sorted(y_train.reassault.unique())\n",
    "\n",
    "pd.DataFrame(confusion_matrix(y_train, y_pred), index=labels, columns=labels)"
   ]
  },
  {
   "cell_type": "code",
   "execution_count": 62,
   "metadata": {},
   "outputs": [
    {
     "name": "stdout",
     "output_type": "stream",
     "text": [
      "              precision    recall  f1-score   support\n",
      "\n",
      "           0       0.77      0.68      0.72       250\n",
      "           1       0.75      0.83      0.79       297\n",
      "\n",
      "   micro avg       0.76      0.76      0.76       547\n",
      "   macro avg       0.76      0.75      0.76       547\n",
      "weighted avg       0.76      0.76      0.76       547\n",
      "\n"
     ]
    }
   ],
   "source": [
    "print(classification_report(y_train, y_pred))"
   ]
  },
  {
   "cell_type": "code",
   "execution_count": null,
   "metadata": {},
   "outputs": [],
   "source": []
  },
  {
   "cell_type": "code",
   "execution_count": 55,
   "metadata": {},
   "outputs": [],
   "source": [
    "params = {'max_depth': [2, 3, 4],\n",
    "          'max_features': [None, 1, 3]}"
   ]
  },
  {
   "cell_type": "code",
   "execution_count": 56,
   "metadata": {},
   "outputs": [
    {
     "ename": "NameError",
     "evalue": "name 'DecisionTreeClassifier' is not defined",
     "output_type": "error",
     "traceback": [
      "\u001b[0;31m---------------------------------------------------------------------------\u001b[0m",
      "\u001b[0;31mNameError\u001b[0m                                 Traceback (most recent call last)",
      "\u001b[0;32m<ipython-input-56-b1463e1bf06e>\u001b[0m in \u001b[0;36m<module>\u001b[0;34m\u001b[0m\n\u001b[1;32m      1\u001b[0m \u001b[0;31m# for classificaiton you can change the algorithm as gini or entropy (information gain).  Default is gini.\u001b[0m\u001b[0;34m\u001b[0m\u001b[0;34m\u001b[0m\u001b[0;34m\u001b[0m\u001b[0m\n\u001b[0;32m----> 2\u001b[0;31m \u001b[0mdtc\u001b[0m \u001b[0;34m=\u001b[0m \u001b[0mDecisionTreeClassifier\u001b[0m\u001b[0;34m(\u001b[0m\u001b[0mcriterion\u001b[0m\u001b[0;34m=\u001b[0m\u001b[0;34m'entropy'\u001b[0m\u001b[0;34m,\u001b[0m \u001b[0mmax_depth\u001b[0m\u001b[0;34m=\u001b[0m\u001b[0;36m4\u001b[0m\u001b[0;34m,\u001b[0m \u001b[0mmax_features\u001b[0m\u001b[0;34m=\u001b[0m\u001b[0;36m3\u001b[0m\u001b[0;34m,\u001b[0m \u001b[0mrandom_state\u001b[0m\u001b[0;34m=\u001b[0m\u001b[0;36m0\u001b[0m\u001b[0;34m)\u001b[0m\u001b[0;34m\u001b[0m\u001b[0;34m\u001b[0m\u001b[0m\n\u001b[0m",
      "\u001b[0;31mNameError\u001b[0m: name 'DecisionTreeClassifier' is not defined"
     ]
    }
   ],
   "source": [
    "# for classificaiton you can change the algorithm as gini or entropy (information gain).  Default is gini.\n",
    "dtc = DecisionTreeClassifier(criterion='entropy', max_depth=4, max_features=3, random_state=0)"
   ]
  },
  {
   "cell_type": "code",
   "execution_count": null,
   "metadata": {},
   "outputs": [],
   "source": [
    "grid = GridSearchCV(dtc, params, cv=3, iid=True)"
   ]
  },
  {
   "cell_type": "code",
   "execution_count": null,
   "metadata": {},
   "outputs": [],
   "source": [
    "grid.fit(X_train, y_train)"
   ]
  },
  {
   "cell_type": "code",
   "execution_count": null,
   "metadata": {},
   "outputs": [],
   "source": [
    "results = grid.cv_results_\n",
    "results.keys()"
   ]
  },
  {
   "cell_type": "code",
   "execution_count": null,
   "metadata": {},
   "outputs": [],
   "source": [
    "test_scores = results['mean_test_score']\n",
    "test_scores"
   ]
  },
  {
   "cell_type": "code",
   "execution_count": null,
   "metadata": {},
   "outputs": [],
   "source": [
    "params = results['params']\n",
    "params"
   ]
  },
  {
   "cell_type": "code",
   "execution_count": null,
   "metadata": {},
   "outputs": [],
   "source": [
    "for p, s in zip(params, test_scores):\n",
    "    p['score'] = s\n",
    "\n",
    "pd.DataFrame(params).sort_values(by='score')"
   ]
  },
  {
   "cell_type": "code",
   "execution_count": null,
   "metadata": {},
   "outputs": [],
   "source": [
    "dtc.fit(X_train[top_10], y_train)"
   ]
  },
  {
   "cell_type": "code",
   "execution_count": null,
   "metadata": {},
   "outputs": [],
   "source": [
    "cross_val_score(dtc, X_train[top_10], y_train, cv=5)"
   ]
  },
  {
   "cell_type": "code",
   "execution_count": null,
   "metadata": {},
   "outputs": [],
   "source": [
    "y_pred = dtc.predict(X_train[top_10])\n",
    "y_pred[0:5]"
   ]
  },
  {
   "cell_type": "code",
   "execution_count": null,
   "metadata": {},
   "outputs": [],
   "source": [
    "y_pred_proba = dtc.predict_proba(X_train[top_10])\n",
    "y_pred_proba"
   ]
  },
  {
   "cell_type": "code",
   "execution_count": null,
   "metadata": {},
   "outputs": [],
   "source": [
    "print('Accuracy of Decision Tree classifier on training set: {:.2f}'\n",
    "     .format(dtc.score(X_train[top_10], y_train)))"
   ]
  },
  {
   "cell_type": "code",
   "execution_count": null,
   "metadata": {},
   "outputs": [],
   "source": [
    "confusion_matrix(y_train, y_pred)"
   ]
  },
  {
   "cell_type": "code",
   "execution_count": null,
   "metadata": {},
   "outputs": [],
   "source": [
    "labels = sorted(y_train.reassault.unique())\n",
    "\n",
    "pd.DataFrame(confusion_matrix(y_train, y_pred), index=labels, columns=labels)"
   ]
  },
  {
   "cell_type": "code",
   "execution_count": null,
   "metadata": {},
   "outputs": [],
   "source": [
    "print(classification_report(y_train, y_pred))"
   ]
  },
  {
   "cell_type": "code",
   "execution_count": null,
   "metadata": {},
   "outputs": [],
   "source": [
    "import graphviz\n",
    "from io import StringIO\n",
    "from IPython.display import Image \n",
    "import pydotplus\n",
    "from sklearn import preprocessing\n",
    "from sklearn import tree"
   ]
  },
  {
   "cell_type": "code",
   "execution_count": null,
   "metadata": {},
   "outputs": [],
   "source": [
    "# conda install pydotplus\n",
    "def plot_decision_tree(clf,feature_name,target_name):\n",
    "    '''This function creates a visualization of a decision tree in png format. \n",
    "    Takes a decision tree object, feature names of the training set and a target variable for the target name.'''\n",
    "    dot_data = StringIO()  \n",
    "    tree.export_graphviz(clf, out_file=dot_data,  \n",
    "                         feature_names=feature_name,  \n",
    "                         class_names=target_name,  \n",
    "                         filled=True, rounded=True,  \n",
    "                         special_characters=True)  \n",
    "    graph = pydotplus.graph_from_dot_data(dot_data.getvalue())  \n",
    "    return Image(graph.create_png())"
   ]
  },
  {
   "cell_type": "code",
   "execution_count": null,
   "metadata": {
    "scrolled": false
   },
   "outputs": [],
   "source": [
    "plot_decision_tree(dtc, X_train.columns, df.columns[1])"
   ]
  },
  {
   "cell_type": "code",
   "execution_count": null,
   "metadata": {},
   "outputs": [],
   "source": []
  },
  {
   "cell_type": "code",
   "execution_count": null,
   "metadata": {},
   "outputs": [],
   "source": []
  },
  {
   "cell_type": "markdown",
   "metadata": {},
   "source": [
    "##  Random Forest:"
   ]
  },
  {
   "cell_type": "code",
   "execution_count": null,
   "metadata": {},
   "outputs": [],
   "source": [
    "r_params = {'max_depth': [2, 3, 4]}"
   ]
  },
  {
   "cell_type": "code",
   "execution_count": null,
   "metadata": {},
   "outputs": [],
   "source": [
    "rf = RandomForestClassifier(bootstrap=True, \n",
    "                            class_weight=None, \n",
    "                            criterion='entropy',\n",
    "                            min_samples_leaf=3,\n",
    "                            n_estimators=100,\n",
    "                            max_depth=3, \n",
    "                            random_state=0)"
   ]
  },
  {
   "cell_type": "code",
   "execution_count": null,
   "metadata": {},
   "outputs": [],
   "source": [
    "r_grid = GridSearchCV(rf, r_params, cv=3, iid=True)"
   ]
  },
  {
   "cell_type": "code",
   "execution_count": null,
   "metadata": {},
   "outputs": [],
   "source": [
    "r_grid.fit(X_train, y_train)"
   ]
  },
  {
   "cell_type": "code",
   "execution_count": null,
   "metadata": {},
   "outputs": [],
   "source": [
    "r_results = r_grid.cv_results_\n",
    "r_results.keys()"
   ]
  },
  {
   "cell_type": "code",
   "execution_count": null,
   "metadata": {},
   "outputs": [],
   "source": [
    "r_test_scores = r_results['mean_test_score']\n",
    "r_test_scores"
   ]
  },
  {
   "cell_type": "code",
   "execution_count": null,
   "metadata": {},
   "outputs": [],
   "source": [
    "r_params = r_results['params']\n",
    "r_params"
   ]
  },
  {
   "cell_type": "code",
   "execution_count": null,
   "metadata": {},
   "outputs": [],
   "source": [
    "for p, s in zip(r_params, r_test_scores):\n",
    "    p['score'] = s\n",
    "\n",
    "pd.DataFrame(r_params).sort_values(by='score')"
   ]
  },
  {
   "cell_type": "code",
   "execution_count": null,
   "metadata": {},
   "outputs": [],
   "source": [
    "rf.fit(X_train, y_train)"
   ]
  },
  {
   "cell_type": "code",
   "execution_count": null,
   "metadata": {},
   "outputs": [],
   "source": [
    "cross_val_score(rf, X_train, y_train, cv=5)"
   ]
  },
  {
   "cell_type": "code",
   "execution_count": null,
   "metadata": {},
   "outputs": [],
   "source": [
    "print(rf.feature_importances_)"
   ]
  },
  {
   "cell_type": "code",
   "execution_count": null,
   "metadata": {
    "scrolled": false
   },
   "outputs": [],
   "source": [
    "y_pred = rf.predict(X_train)\n",
    "y_pred"
   ]
  },
  {
   "cell_type": "code",
   "execution_count": null,
   "metadata": {},
   "outputs": [],
   "source": [
    "y_pred_proba = rf.predict_proba(X_train)\n",
    "y_pred_proba"
   ]
  },
  {
   "cell_type": "code",
   "execution_count": null,
   "metadata": {},
   "outputs": [],
   "source": [
    "print('Accuracy of random forest classifier on training set: {:.2f}'\n",
    "     .format(rf.score(X_train, y_train)))"
   ]
  },
  {
   "cell_type": "code",
   "execution_count": null,
   "metadata": {},
   "outputs": [],
   "source": [
    "print(confusion_matrix(y_train, y_pred))"
   ]
  },
  {
   "cell_type": "code",
   "execution_count": null,
   "metadata": {
    "scrolled": true
   },
   "outputs": [],
   "source": [
    "print(classification_report(y_train, y_pred))"
   ]
  }
 ],
 "metadata": {
  "kernelspec": {
   "display_name": "Python 3",
   "language": "python",
   "name": "python3"
  },
  "language_info": {
   "codemirror_mode": {
    "name": "ipython",
    "version": 3
   },
   "file_extension": ".py",
   "mimetype": "text/x-python",
   "name": "python",
   "nbconvert_exporter": "python",
   "pygments_lexer": "ipython3",
   "version": "3.7.1"
  }
 },
 "nbformat": 4,
 "nbformat_minor": 2
}
