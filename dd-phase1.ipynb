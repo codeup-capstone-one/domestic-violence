{
 "cells": [
  {
   "cell_type": "markdown",
   "metadata": {},
   "source": [
    "# ENVIRONMENT"
   ]
  },
  {
   "cell_type": "code",
   "execution_count": 1,
   "metadata": {},
   "outputs": [
    {
     "name": "stderr",
     "output_type": "stream",
     "text": [
      "/usr/local/anaconda3/lib/python3.7/site-packages/sklearn/ensemble/weight_boosting.py:29: DeprecationWarning: numpy.core.umath_tests is an internal NumPy module and should not be imported. It will be removed in a future NumPy release.\n",
      "  from numpy.core.umath_tests import inner1d\n"
     ]
    }
   ],
   "source": [
    "import os\n",
    "import acquire\n",
    "import pandas as pd\n",
    "import numpy as np\n",
    "\n",
    "# for visualization\n",
    "%matplotlib inline\n",
    "import matplotlib.pyplot as plt\n",
    "import seaborn as sns\n",
    "\n",
    "# for feature selection\n",
    "import xgboost as xgb\n",
    "\n",
    "from sklearn.model_selection import train_test_split\n",
    "from sklearn.linear_model import LogisticRegression\n",
    "from sklearn.metrics import classification_report\n",
    "from sklearn.metrics import confusion_matrix\n",
    "from sklearn.tree import DecisionTreeClassifier\n",
    "from sklearn.ensemble import RandomForestClassifier\n",
    "from sklearn import tree\n",
    "\n",
    "# conda install -c glemaitre imbalanced-learn\n",
    "from imblearn.ensemble import BalancedBaggingClassifier"
   ]
  },
  {
   "cell_type": "markdown",
   "metadata": {},
   "source": [
    "# ACQUISITION"
   ]
  },
  {
   "cell_type": "code",
   "execution_count": 2,
   "metadata": {},
   "outputs": [],
   "source": [
    "df1 = acquire.read_data('data01.csv')\n",
    "df2 = acquire.read_data('data02.csv')\n",
    "df3 = acquire.read_data('data03.csv')\n",
    "df4 = acquire.read_data('data04.csv')\n",
    "df5 = acquire.read_data('data05.csv')\n",
    "df7 = acquire.read_data('data07.csv')"
   ]
  },
  {
   "cell_type": "code",
   "execution_count": 3,
   "metadata": {},
   "outputs": [],
   "source": [
    "# Specify columns to take from dataframes 1, 2, 3, 4, 5, and 7:\n",
    "\n",
    "one_cols = ['CASEID',\n",
    "            'ABUSED',\n",
    "            'SCRSTATR',\n",
    "            'LENGTHC1',\n",
    "            'C1SITUAT',\n",
    "            'PABUSE',\n",
    "             ]\n",
    "\n",
    "two_cols = ['CASEID',\n",
    "            'D3RCHILT',\n",
    "           ]\n",
    "\n",
    "three_cols = ['CASEID',\n",
    "              'E13PRGNT',\n",
    "              'N7PREGNT',\n",
    "              'TOTSUPRT'\n",
    "             ]\n",
    "\n",
    "four_cols = ['CASEID',\n",
    "             'G1NUMBER', \n",
    "             'H1JEALUS', \n",
    "             'H2LIMIT',\n",
    "             'H3KNOWNG',\n",
    "             'J1HIT',\n",
    "             'J2THROWN',\n",
    "             'J3PUSH',\n",
    "             'J4SLAP',\n",
    "             'J5KICK',\n",
    "             'J6OBJECT',\n",
    "             'J7BEAT',\n",
    "             'J8CHOKE',\n",
    "             'J9KNIFE',\n",
    "             'J10GUN',\n",
    "             'J11SEX',\n",
    "             'POWER',\n",
    "             'HARASS',\n",
    "            ]\n",
    "\n",
    "five_cols = ['CASEID', \n",
    "             'B1AGE',\n",
    "             'AGEDISP',\n",
    "             'STDETAI',\n",
    "            ]\n",
    "\n",
    "seven_cols = ['CASEID',\n",
    "              'SAMESEXR',\n",
    "              'N11DRUGS',\n",
    "              'N12ALCHL',\n",
    "              'N13SUHIM',\n",
    "              'N16CHILD',\n",
    "              'N17ARRST',\n",
    "              'N1FRQNCY',\n",
    "              'N2SVRITY',\n",
    "              'N3WEAPON',\n",
    "              'N4CHOKE',\n",
    "              'N5SEX',\n",
    "              'N6CONTRL',\n",
    "              'N8JEALUS',\n",
    "              'N10CPBLE',\n",
    "             ]"
   ]
  },
  {
   "cell_type": "code",
   "execution_count": 4,
   "metadata": {},
   "outputs": [],
   "source": [
    "# drop dataframes down to desired features\n",
    "df1 = df1[one_cols]\n",
    "df2 = df2[two_cols]\n",
    "df3 = df3[three_cols]\n",
    "df4 = df4[four_cols]\n",
    "df5 = df5[five_cols]\n",
    "df7 = df7[seven_cols]"
   ]
  },
  {
   "cell_type": "code",
   "execution_count": 5,
   "metadata": {},
   "outputs": [
    {
     "name": "stdout",
     "output_type": "stream",
     "text": [
      "(705, 6)\n",
      "(705, 2)\n",
      "(705, 4)\n",
      "(705, 18)\n",
      "(705, 4)\n",
      "(705, 15)\n"
     ]
    }
   ],
   "source": [
    "print(df1.shape)\n",
    "print(df2.shape)\n",
    "print(df3.shape)\n",
    "print(df4.shape)\n",
    "print(df5.shape)\n",
    "print(df7.shape)"
   ]
  },
  {
   "cell_type": "code",
   "execution_count": 6,
   "metadata": {},
   "outputs": [],
   "source": [
    "dfa = df1.merge(right=df2, on='CASEID')\n",
    "dfa = dfa.merge(right=df3, on='CASEID')\n",
    "dfa = dfa.merge(right=df4, on='CASEID')\n",
    "dfa = dfa.merge(right=df5, on='CASEID')\n",
    "dfa = dfa.merge(right=df7, on='CASEID')"
   ]
  },
  {
   "cell_type": "code",
   "execution_count": 7,
   "metadata": {},
   "outputs": [
    {
     "data": {
      "text/plain": [
       "(705, 44)"
      ]
     },
     "execution_count": 7,
     "metadata": {},
     "output_type": "execute_result"
    }
   ],
   "source": [
    "dfa.shape"
   ]
  },
  {
   "cell_type": "code",
   "execution_count": 8,
   "metadata": {},
   "outputs": [],
   "source": [
    "df6 = acquire.read_data('data06.csv')\n",
    "# df8 = acquire.read_data('data08.csv') # NO USEFUL COLUMNS\n",
    "df11 = acquire.read_data('data11.csv')\n",
    "# df12 = acquire.read_data('data12.csv') # NO USEFUL COLUMNS"
   ]
  },
  {
   "cell_type": "code",
   "execution_count": 11,
   "metadata": {},
   "outputs": [],
   "source": [
    "# Specify columns to take from dataframes 6, 8, 11, and 12:\n",
    "\n",
    "\n",
    "six_cols = ['CASEID',\n",
    "            'M5FIRED',\n",
    "            'M11HIGH',\n",
    "            'M35SAFE',\n",
    "            'M41ILLGL',\n",
    "            'M42DAGRR',\n",
    "            'M13TALKR',\n",
    "            'M32OTHER',\n",
    "            'M27HOW',\n",
    "            'M30ARRES',\n",
    "            'M31HOW',\n",
    "            'M38ORDER',\n",
    "           ]\n",
    "\n",
    "eleven_cols = ['CASEID',\n",
    "               'SEVERER',\n",
    "               'TOTINCR',\n",
    "               'THREATR',\n",
    "               'SLAPR',\n",
    "               'PUNCHR',\n",
    "               'BEATR',\n",
    "               'UWEAPON',\n",
    "               'FORCEDR',\n",
    "               'MISCARR',\n",
    "               'RESTRAIN',\n",
    "               'CHOKED',\n",
    "               'NDRUNK',\n",
    "               'RDRUNK',\n",
    "               'BOTHDRUN',\n",
    "               'NDRUGS',\n",
    "               'RDRUGS',\n",
    "               'BOTHDRUG',\n",
    "              ]\n"
   ]
  },
  {
   "cell_type": "code",
   "execution_count": 12,
   "metadata": {},
   "outputs": [],
   "source": [
    "# drop dataframes down to desired features\n",
    "df6 = df6[six_cols]\n",
    "df11 = df11[eleven_cols]"
   ]
  },
  {
   "cell_type": "code",
   "execution_count": 13,
   "metadata": {},
   "outputs": [
    {
     "name": "stdout",
     "output_type": "stream",
     "text": [
      "(497, 12)\n",
      "(497, 18)\n"
     ]
    }
   ],
   "source": [
    "print(df6.shape)\n",
    "print(df11.shape)"
   ]
  },
  {
   "cell_type": "code",
   "execution_count": 15,
   "metadata": {},
   "outputs": [],
   "source": [
    "dfb = df6.merge(right=df11, on='CASEID')"
   ]
  },
  {
   "cell_type": "code",
   "execution_count": 16,
   "metadata": {},
   "outputs": [
    {
     "data": {
      "text/plain": [
       "(497, 29)"
      ]
     },
     "execution_count": 16,
     "metadata": {},
     "output_type": "execute_result"
    }
   ],
   "source": [
    "dfb.shape"
   ]
  },
  {
   "cell_type": "code",
   "execution_count": null,
   "metadata": {},
   "outputs": [],
   "source": []
  },
  {
   "cell_type": "code",
   "execution_count": null,
   "metadata": {},
   "outputs": [],
   "source": [
    "# df9 = acquire.read_data('data09.csv')\n",
    "# df10 = acquire.read_data('data10.csv')\n",
    "# df13 = acquire.read_data('data13.csv')\n",
    "\n",
    "# df14 = acquire.read_data('data14.csv')\n",
    "# df15 = acquire.read_data('data15.csv')"
   ]
  },
  {
   "cell_type": "code",
   "execution_count": null,
   "metadata": {},
   "outputs": [],
   "source": []
  },
  {
   "cell_type": "code",
   "execution_count": null,
   "metadata": {},
   "outputs": [],
   "source": []
  },
  {
   "cell_type": "code",
   "execution_count": null,
   "metadata": {},
   "outputs": [],
   "source": []
  },
  {
   "cell_type": "code",
   "execution_count": null,
   "metadata": {},
   "outputs": [],
   "source": []
  },
  {
   "cell_type": "code",
   "execution_count": null,
   "metadata": {},
   "outputs": [],
   "source": []
  },
  {
   "cell_type": "code",
   "execution_count": null,
   "metadata": {},
   "outputs": [],
   "source": []
  },
  {
   "cell_type": "code",
   "execution_count": null,
   "metadata": {},
   "outputs": [],
   "source": []
  },
  {
   "cell_type": "code",
   "execution_count": null,
   "metadata": {},
   "outputs": [],
   "source": []
  },
  {
   "cell_type": "code",
   "execution_count": null,
   "metadata": {},
   "outputs": [],
   "source": [
    "print(df6.shape)\n",
    "print(df8.shape)\n",
    "print(df9.shape)\n",
    "print(df10.shape)\n",
    "print(df11.shape)\n",
    "print(df12.shape)\n",
    "print(df13.shape)\n",
    "print(df14.shape)\n",
    "print(df15.shape)"
   ]
  },
  {
   "cell_type": "code",
   "execution_count": null,
   "metadata": {},
   "outputs": [],
   "source": []
  }
 ],
 "metadata": {
  "kernelspec": {
   "display_name": "Python 3",
   "language": "python",
   "name": "python3"
  },
  "language_info": {
   "codemirror_mode": {
    "name": "ipython",
    "version": 3
   },
   "file_extension": ".py",
   "mimetype": "text/x-python",
   "name": "python",
   "nbconvert_exporter": "python",
   "pygments_lexer": "ipython3",
   "version": "3.7.1"
  }
 },
 "nbformat": 4,
 "nbformat_minor": 2
}
